{
  "cells": [
    {
      "cell_type": "markdown",
      "metadata": {
        "id": "VL5sK3q7zx0K"
      },
      "source": [
        "Final Project for BMEN4470 - Deep Learning for Biomedical Signal Processing\n",
        "\n",
        "Project Members: Amy Jang, George Saab, Mark Kirichev"
      ]
    },
    {
      "cell_type": "markdown",
      "metadata": {
        "id": "hg58xoC8bHMH"
      },
      "source": [
        "# 5 steps to implement a GAN\n",
        "\n",
        "  1. Define the GAN architecture basen on the dataset\n",
        "  2. Train the discriminator to distinguish real vs fake data\n",
        "  3. Train the generator to fake data that can fool the discriminator\n",
        "  4. Continue discriminator and generator training for multiple epochs\n",
        "  5. Save generator model to create new, realistic fake data"
      ]
    },
    {
      "cell_type": "code",
      "execution_count": null,
      "metadata": {
        "colab": {
          "base_uri": "https://localhost:8080/"
        },
        "id": "XmRNF_8PcdMM",
        "outputId": "0e5edc1a-f9f6-459b-9bb5-c788456b4812"
      },
      "outputs": [
        {
          "name": "stdout",
          "output_type": "stream",
          "text": [
            "2.7.0\n"
          ]
        }
      ],
      "source": [
        "# Imports\n",
        "\n",
        "from keras.layers import Input, Dense, Reshape, Flatten\n",
        "from keras.layers import BatchNormalization\n",
        "from keras.layers.advanced_activations import LeakyReLU\n",
        "from keras.models import Sequential, Model\n",
        "from tensorflow.keras.optimizers import Adam\n",
        "from tensorflow.keras.utils import plot_model\n",
        "from tensorflow.keras.callbacks import Callback\n",
        "\n",
        "import matplotlib.pyplot as plt\n",
        "import numpy as np\n",
        "import tensorflow as tf\n",
        "import time\n",
        "\n",
        "import sys\n",
        "import os\n",
        "import numpy as np\n",
        "from tqdm import tqdm\n",
        "import scipy.io as sio\n",
        "import pandas as pd\n",
        "\n",
        "print(tf.__version__)"
      ]
    },
    {
      "cell_type": "markdown",
      "metadata": {
        "id": "-Y8zui1tAL4-"
      },
      "source": [
        "# Connecting to Google Drive and loading the data"
      ]
    },
    {
      "cell_type": "code",
      "execution_count": null,
      "metadata": {
        "colab": {
          "base_uri": "https://localhost:8080/"
        },
        "id": "XyCIuqYhAFey",
        "outputId": "101ff74c-dbb1-4d52-8a1b-6c6770bbc911"
      },
      "outputs": [
        {
          "name": "stdout",
          "output_type": "stream",
          "text": [
            "Mounted at /gdrive\n"
          ]
        }
      ],
      "source": [
        "from google.colab import drive\n",
        "drive.mount('/gdrive', force_remount=True)"
      ]
    },
    {
      "cell_type": "code",
      "execution_count": null,
      "metadata": {
        "colab": {
          "base_uri": "https://localhost:8080/"
        },
        "id": "-c3XUP9pALOL",
        "outputId": "7551a10f-f302-4b3d-99ea-92e5f029c0fc"
      },
      "outputs": [
        {
          "name": "stdout",
          "output_type": "stream",
          "text": [
            "Available data ['Samples', 'part_12.mat', 'part_10.mat', 'part_11.mat', 'part_1.mat', 'part_3.mat', 'part_2.mat', 'part_4.mat', 'part_5.mat', 'part_7.mat', 'part_6.mat', 'part_8.mat', 'part_9.mat', 'Divided_CSV_Files', '.ipynb_checkpoints', 'generator_model_1K.h5', 'generator_model_5K.h5', 'generator_model_2K.h5', 'generator_model_4K.h5', 'generator_model_10K.h5', 'generator_model_2_9K.h5']\n",
            "Number of files 21\n"
          ]
        }
      ],
      "source": [
        "data_path = '/gdrive/MyDrive/BMEN_4470_Fall_2021/Final Project/Final_Project_Dataset'\n",
        "print('Available data', os.listdir(data_path))\n",
        "print('Number of files', len(os.listdir(data_path)))"
      ]
    },
    {
      "cell_type": "code",
      "execution_count": null,
      "metadata": {
        "colab": {
          "base_uri": "https://localhost:8080/"
        },
        "id": "XGZm_P8OBEMc",
        "outputId": "0de389a3-0a20-4c11-9e40-d3e900f50787"
      },
      "outputs": [
        {
          "name": "stdout",
          "output_type": "stream",
          "text": [
            "Number of samples: 12000\n"
          ]
        }
      ],
      "source": [
        "mats_list = []\n",
        "for i in range(1, 13):\n",
        "  current_mat_str = '/gdrive/MyDrive/BMEN_4470_Fall_2021/Final Project/Final_Project_Dataset/part_' + str(i) + '.mat'\n",
        "  mats_list.append(sio.loadmat(current_mat_str)['p'][0])\n",
        "\n",
        "data = np.concatenate(mats_list)\n",
        "total_number_of_samples = len(data)\n",
        "print(f\"Number of samples: {total_number_of_samples}\")"
      ]
    },
    {
      "cell_type": "code",
      "execution_count": null,
      "metadata": {
        "id": "TBBa4VpKCVej"
      },
      "outputs": [],
      "source": [
        "# Free the memory\n",
        "del mats_list"
      ]
    },
    {
      "cell_type": "code",
      "execution_count": null,
      "metadata": {
        "id": "k-hVxBzfnTgs"
      },
      "outputs": [],
      "source": [
        "# Split data\n",
        "\n",
        "ppg = []\n",
        "abp = []\n",
        "ecg = []\n",
        "\n",
        "for sample in data:\n",
        "  ppg.append(sample[0][:1000])\n",
        "  abp.append(sample[1][:1000])\n",
        "  ecg.append(sample[2][:1000])\n",
        "\n",
        "pd.DataFrame(ppg).to_csv('/gdrive/MyDrive/BMEN_4470_Fall_2021/Final Project/Final_Project_Dataset/Divided_CSV_Files/ppg.csv', index_label=False)\n",
        "pd.DataFrame(abp).to_csv('/gdrive/MyDrive/BMEN_4470_Fall_2021/Final Project/Final_Project_Dataset/Divided_CSV_Files/abp.csv', index_label=False)\n",
        "pd.DataFrame(ecg).to_csv('/gdrive/MyDrive/BMEN_4470_Fall_2021/Final Project/Final_Project_Dataset/Divided_CSV_Files/ecg.csv', index_label=False)"
      ]
    },
    {
      "cell_type": "code",
      "execution_count": null,
      "metadata": {
        "id": "OHt3q0DhnWib"
      },
      "outputs": [],
      "source": [
        "ppg = pd.read_csv('/gdrive/MyDrive/BMEN_4470_Fall_2021/Final Project/Final_Project_Dataset/Divided_CSV_Files/ppg.csv')\n",
        "abp = pd.read_csv('/gdrive/MyDrive/BMEN_4470_Fall_2021/Final Project/Final_Project_Dataset/Divided_CSV_Files/abp.csv')\n",
        "ecg = pd.read_csv('/gdrive/MyDrive/BMEN_4470_Fall_2021/Final Project/Final_Project_Dataset/Divided_CSV_Files/ecg.csv')"
      ]
    },
    {
      "cell_type": "code",
      "execution_count": null,
      "metadata": {
        "colab": {
          "base_uri": "https://localhost:8080/"
        },
        "id": "rpIgk82FnZGw",
        "outputId": "0724efba-e5e4-4673-f5b9-5c42c250fab8"
      },
      "outputs": [
        {
          "name": "stdout",
          "output_type": "stream",
          "text": [
            "(9600, 1000, 2) (9600, 1000)\n"
          ]
        }
      ],
      "source": [
        "data = np.stack((ppg, ecg), axis=-1)\n",
        "X_train = data[:9600]\n",
        "X_val = data[9600:10800]\n",
        "X_test = data[10800:]\n",
        "\n",
        "y_train = abp[:9600]\n",
        "y_val = abp[9600:10800]\n",
        "y_test = abp[10800:]\n",
        "\n",
        "print(X_train.shape, y_train.shape)"
      ]
    },
    {
      "cell_type": "code",
      "execution_count": null,
      "metadata": {
        "colab": {
          "base_uri": "https://localhost:8080/"
        },
        "id": "1RPiEPDWncdm",
        "outputId": "0b828d91-ca5b-4835-bc88-4d2cee2aa57b"
      },
      "outputs": [
        {
          "name": "stdout",
          "output_type": "stream",
          "text": [
            "-7.49609375\n",
            "4.5\n"
          ]
        }
      ],
      "source": [
        "# getting the global max and min values becuase we'll need them\n",
        "# for a normalization later\n",
        "\n",
        "min_X_train = np.min(X_train)\n",
        "max_X_train = np.max(X_train)\n",
        "\n",
        "print(min_X_train)\n",
        "print(max_X_train)"
      ]
    },
    {
      "cell_type": "markdown",
      "metadata": {
        "id": "diY7euPsgIQZ"
      },
      "source": [
        "# GAN Code Implementation"
      ]
    },
    {
      "cell_type": "code",
      "execution_count": null,
      "metadata": {
        "id": "r81D2Jab-dpM"
      },
      "outputs": [],
      "source": [
        "# Defining global constants\n",
        "\n",
        "signal_shape = (1000, 2)\n",
        "d_loss_list = []\n",
        "g_loss_list = []\n",
        "epoch_times = []"
      ]
    },
    {
      "cell_type": "markdown",
      "metadata": {
        "id": "eYbIWdHiiCnE"
      },
      "source": [
        "How LeakyReLu works\n",
        "\n",
        "![image.png](data:image/png;base64,iVBORw0KGgoAAAANSUhEUgAAAjAAAAGkCAIAAACgjIjwAAAMbWlDQ1BJQ0MgUHJvZmlsZQAASImVVwdYU8kWnltSSWgBBKSE3gTpBJASQgsgvQg2QhJIKDEmBBU7uqjg2kUUK7oqothWQOzYlUWx98WCirIu6mJD5U1IQNd95Xvn++beP2fO/Kfcmdx7AND6wJNK81FtAAokhbLEiBDmqPQMJqkDaAAzoA90AJnHl0vZ8fExAMrA/e/y7gZAlPerzkquf87/V9EVCOV8AJAxEGcJ5PwCiI8DgK/lS2WFABCVeqtJhVIlngWxngwGCPEKJc5R4e1KnKXCh/ttkhM5EF8GgEzj8WQ5AGjeg3pmET8H8mh+hthVIhBLANAaBnEgX8QTQKyMfVhBwQQlroTYHtpLIYbxAFbWd5w5f+PPGuTn8XIGsSqvfiGHiuXSfN6U/7M0/1sK8hUDPmzhoIlkkYnK/GENb+VNiFZiGsRdkqzYOGWtIf4gFqjqDgBKFSkiU1T2qAlfzoH1AwYQuwp4odEQm0AcLsmPjVHrs7LF4VyI4W5BJ4sLuckQG0I8XygPS1LbbJRNSFT7QuuzZRy2Wn+OJ+v3q/T1QJGXwlbzvxEJuWp+TLNYlJwGMRVi6yJxaizEmhC7yPOSotU2I4pFnNgBG5kiURm/NcSJQklEiIofK8qWhSeq7csK5AP5YhtFYm6sGu8rFCVHquqDneLz+uOHuWCXhRJ2ygCPUD4qZiAXgTA0TJU79lwoSUlS83yQFoYkqtbiVGl+vNoetxTmRyj1lhB7youS1Gvx1EK4OVX8eLa0MD5ZFSdenMuLilfFgy8BMYADQgETKODIAhNALhC3djV0wV+qmXDAAzKQA4TAWa0ZWJHWPyOB1yRQDP6ASAjkg+tC+meFoAjqvwxqVVdnkN0/W9S/Ig88hbgARIN8+FvRv0oy6C0VPIEa8T+88+Dgw3jz4VDO/3v9gPabhg01MWqNYsAjU2vAkhhGDCVGEsOJDrgxHoj74zHwGgyHO87CfQfy+GZPeEpoIzwiXCe0E26PF5fIfohyJGiH/OHqWmR9XwvcFnJ64SF4AGSHzLgBbgyccU/oh40HQc9eUMtRx62sCvMH7r9l8N3TUNtRXCkoZQglmGL/40pNR02vQRZlrb+vjyrWrMF6cwZnfvTP+a76AniP/tESm4/tx85iJ7Dz2GGsATCxY1gj1oIdUeLB3fWkf3cNeEvsjycP8oj/4Y+n9qmspNy11rXT9bNqrlA4uVB58DgTpFNk4hxRIZMN3w5CJlfCdxnGdHd1dwNA+a5R/X29Teh/hyAGLd90c34HIOBYX1/foW+6qGMA7PWBx//gN509CwAdDQDOHeQrZEUqHa68EOC/hBY8aUbwXWYF7GE+7sAb+INgEAaiQBxIBulgHKyyCO5zGZgEpoHZoBSUgyVgJVgDNoDNYDvYBfaBBnAYnABnwEVwGVwHd+Hu6QAvQTd4B3oRBCEhdISBGCHmiA3ihLgjLCQQCUNikEQkHclEchAJokCmIXOQcmQZsgbZhNQge5GDyAnkPNKG3EYeIp3IG+QTiqE0VA81RW3R4SgLZaPRaDI6Fs1BJ6LF6Fx0EVqJVqM70Xr0BHoRvY62oy/RHgxgGpgBZoE5YyyMg8VhGVg2JsNmYGVYBVaN1WFN8DlfxdqxLuwjTsQZOBN3hjs4Ek/B+fhEfAa+EF+Db8fr8VP4Vfwh3o1/JdAJJgQngh+BSxhFyCFMIpQSKghbCQcIp+FZ6iC8IxKJBkQ7og88i+nEXOJU4kLiOuJu4nFiG/ExsYdEIhmRnEgBpDgSj1RIKiWtJu0kHSNdIXWQPpA1yOZkd3I4OYMsIZeQK8g7yEfJV8jPyL0UbYoNxY8SRxFQplAWU7ZQmiiXKB2UXqoO1Y4aQE2m5lJnUyupddTT1HvUtxoaGpYavhoJGmKNWRqVGns0zmk81PhI06U50ji0MTQFbRFtG+047TbtLZ1Ot6UH0zPohfRF9Br6SfoD+gdNhqaLJldToDlTs0qzXvOK5istipaNFltrnFaxVoXWfq1LWl3aFG1bbY42T3uGdpX2Qe2b2j06DB03nTidAp2FOjt0zus81yXp2uqG6Qp05+pu1j2p+5iBMawYHAafMYexhXGa0aFH1LPT4+rl6pXr7dJr1evW19X31E/Vn6xfpX9Ev90AM7A14BrkGyw22Gdww+DTENMh7CHCIQuG1A25MuS94VDDYEOhYZnhbsPrhp+MmEZhRnlGS40ajO4b48aOxgnGk4zXG5827hqqN9R/KH9o2dB9Q++YoCaOJokmU002m7SY9JiamUaYSk1Xm5407TIzMAs2yzVbYXbUrNOcYR5oLjZfYX7M/AVTn8lm5jMrmaeY3RYmFpEWCotNFq0WvZZ2limWJZa7Le9bUa1YVtlWK6yarbqtza1HWk+zrrW+Y0OxYdmIbFbZnLV5b2tnm2Y7z7bB9rmdoR3Xrtiu1u6ePd0+yH6ifbX9NQeiA8shz2Gdw2VH1NHLUeRY5XjJCXXydhI7rXNqG0YY5jtMMqx62E1nmjPbuci51vmhi4FLjEuJS4PLq+HWwzOGLx1+dvhXVy/XfNctrnfddN2i3ErcmtzeuDu6892r3K950D3CPWZ6NHq89nTyFHqu97zlxfAa6TXPq9nri7ePt8y7zrvTx9on02etz02WHiuetZB1zpfgG+I70/ew70c/b79Cv31+f/o7++f57/B/PsJuhHDElhGPAywDeAGbAtoDmYGZgRsD24MsgnhB1UGPgq2CBcFbg5+xHdi57J3sVyGuIbKQAyHvOX6c6ZzjoVhoRGhZaGuYblhK2JqwB+GW4TnhteHdEV4RUyOORxIioyOXRt7kmnL53Bpud5RP1PSoU9G06KToNdGPYhxjZDFNI9GRUSOXj7wXaxMriW2IA3HcuOVx9+Pt4ifGH0ogJsQnVCU8TXRLnJZ4NomRND5pR9K75JDkxcl3U+xTFCnNqVqpY1JrUt+nhaYtS2sfNXzU9FEX043TxemNGaSM1IytGT2jw0avHN0xxmtM6ZgbY+3GTh57fpzxuPxxR8ZrjeeN359JyEzL3JH5mRfHq+b1ZHGz1mZ18zn8VfyXgmDBCkGnMEC4TPgsOyB7WfbznICc5TmdoiBRhahLzBGvEb/OjczdkPs+Ly5vW15fflr+7gJyQWbBQYmuJE9yaoLZhMkT2qRO0lJp+0S/iSsndsuiZVvliHysvLFQD37UtyjsFT8pHhYFFlUVfZiUOmn/ZJ3JksktUxynLJjyrDi8+Jep+FT+1OZpFtNmT3s4nT190wxkRtaM5plWM+fO7JgVMWv7bOrsvNm/lbiWLCv5a07anKa5pnNnzX38U8RPtaWapbLSm/P8522Yj88Xz29d4LFg9YKvZYKyC+Wu5RXlnxfyF1742e3nyp/7FmUval3svXj9EuISyZIbS4OWbl+ms6x42ePlI5fXr2CuKFvx18rxK89XeFZsWEVdpVjVXhlT2bjaevWS1Z/XiNZcrwqp2r3WZO2Cte/XCdZdWR+8vm6D6YbyDZ82ijfe2hSxqb7atrpiM3Fz0eanW1K3nP2F9UvNVuOt5Vu/bJNsa9+euP1UjU9NzQ6THYtr0VpFbefOMTsv7wrd1VjnXLdpt8Hu8j1gj2LPi72Ze2/si97XvJ+1v+5Xm1/XHmAcKKtH6qfUdzeIGtob0xvbDkYdbG7ybzpwyOXQtsMWh6uO6B9ZfJR6dO7RvmPFx3qOS493ncg58bh5fPPdk6NOXjuVcKr1dPTpc2fCz5w8yz577FzAucPn/c4fvMC60HDR+2J9i1fLgd+8fjvQ6t1af8nnUuNl38tNbSPajl4JunLiaujVM9e41y5ej73ediPlxq2bY2623xLcen47//brO0V3eu/Ouke4V3Zf+37FA5MH1b87/L673bv9yMPQhy2Pkh7dfcx//PKJ/MnnjrlP6U8rnpk/q3nu/vxwZ3jn5RejX3S8lL7s7Sr9Q+ePta/sX/36Z/CfLd2jujtey173vVn41ujttr88/2ruie958K7gXe/7sg9GH7Z/ZH08+ynt07PeSZ9Jnyu/OHxp+hr99V5fQV+flCfj9X8KYHCg2dkAvNkGAD0dAAbs26ijVb1gvyCq/rUfgf+EVf1iv3gDUAe/3xO64NfNTQD2bIHtF+TXgr1qPB2AZF+AengMDrXIsz3cVVw02KcQHvT1vYU9G2k5AF+W9PX1Vvf1fdkMg4W943GJqgdVChH2DBvDvmQVZIF/I6r+9Lscf7wDZQSe4Mf7vwAegJC6arzXwQAAADhlWElmTU0AKgAAAAgAAYdpAAQAAAABAAAAGgAAAAAAAqACAAQAAAABAAACMKADAAQAAAABAAABpAAAAAAS8XfAAAA2KklEQVR4Ae2dDWwV19nnjWV5XYtYxK+FEHJZh1KwyEcRSwmhhEJK0qSUNx9ASCBpQrJRllBCWxpVKQXECyxlEaUYkSgiKenShRBCw2ZJl3yBA6whBChLCMGUEq+DkIWIa9GI17iuvY854WQ8d+713Hvn48zM7ypyZs49c85zfs+Yv8+ZZ87Tq7Ozs4APBCAAAQhAIGwChWEbQP8QgAAEIACBLgIIEvcBBCAAAQgYQQBBMsINGAEBCEAAAggS9wAEIAABCBhBAEEywg0YAQEIQAACCBL3AAQgAAEIGEEAQTLCDRgBAQhAAAIIEvcABCAAAQgYQQBBMsINGAEBCEAAAggS9wAEIAABCBhBAEEywg0YAQEIQAACCBL3AAQgAAEIGEEAQTLCDRgBAQhAAAIIEvcABCAAAQgYQQBBMsINGAEBCEAAAggS9wAEIAABCBhBAEEywg0YAQEIQAACCBL3AAQgAAEIGEEAQTLCDRgBAQhAAAIIEvcABCAAAQgYQQBBMsINGAEBCEAAAggS9wAEIAABCBhBAEEywg0YAQEIQAACCBL3AAQgAAEIGEEAQTLCDRgBAQhAAAIIEvcABCAAAQgYQQBBMsINGAEBCEAAAggS9wAEIAABCBhBAEEywg0YAQEIQAACCBL3AAQgAIH4E2i/cED+M3ycCJLhDsI8CEDATqCmpmbI1c/DDz9s/5pzJwJtZ7ddrHuw5d1bOy6ddfreiLJenZ2dRhiCERCAAASyJyDCVF9fn/11ibui+Y3rZMyFpZV9Juw1dvDMkIx1DYZBAAIQ8IZA29nXVEOl1XO9adGfVhAkf7jSKgQgAAFjCLQ2blO2FJWPMsYoB0MQJAcoFEEAAhCIDQEdzlAyYIos2Zk8LgTJZO9gGwQgAIF8CUg4g2qiuHJyvm35fD2C5DNgmocABCAQKoG2q9HeRRVGr9cJJAQp1DuFziEAAQj4SUDCGVSct6zX+dmPN20jSN5wpBUIQAACBhLQ4Qwlg42Or1PoECQDbyFMggAEIOANAbU7g/nhDGq0CJI3XqcVCEAAAqYRuHT0GWVSUcXNptnmaA+C5IiFQghAAAKRJ6DDGYorI/AASXAjSJG/5xgABCAAgVQC0QpnUPYXpQ4jaSWyOePBgweTNurAxjty5MiNGzcG1h0dQQACikD7hQ/UQSTCGZSpCFKBqBGbM/r3Oyx7X/rXOC1DAALpCLQ2du1fJ+8eGb47g9V+luysNDiGAAQgEAcCejfVkgGm785gxY0gWWlwDAEIQCAOBC6dXKOGEZVwBmUtghSHm48xQAACENAEohjOoIxHkLQTOYAABCAQBwI6nMH83VRtuAlqsAEJ//SJJ56wGbF69eqioqI5c+asX7/e+lV7e/usWbOef/55+VaV19XVHT169KmnnrJW4xgCEEgUARXOILEM5u+mavMLMyQbkPBPX3zxxVtuueVWy6e4uFi0R8ptxnV0dEih/NTlp0+ffuedd/QpBxCAQNII6HAGw5PDOvqFGVI3LC8faup2HtTJoyP6Wbt66KGHRISsJW1tbdZTjiEAAQg4EtC7qRqeHNbReASpG5aZm090Ow/qxCZIOXdbWMiUN2d4XAiByBOIUHJYR9b8++WIJeTCa6655j9c/Vx33XXurbEu37m/ipoQgEA8CEQoOawjcGZI3bBseHBot/OQTj7//HPbkp2jIY7zIR3g4HgJhRCAQIwJqHAGGWDkwhmUUxCkbjenV0tn3RrN/kTUyI0gifZItYaGhsGDB6tOZA+k0tLS7DvkCghAIPIEIh3OoOizZBftu/C2225bvny5Wqk7e/bsK6+8cu+990Z7SFgPAQjkRECHM0RrdwbrWBEkKw1TjuX5US/LR2RGWWYp6/WnP/1JCl966SWZIX3ta1+79tprv/GNbzzyyCP33HOPKcPADghAIEAC0UoO6wiGJTtHLGEWdnZ2OnbvWN6/f//du3dLULh8ZLHO8amSY2sUQgACcSIQueSwjvARJEcsESu88sip23tLERsA5kIAAvkRiFxyWMfhsmTniIVCCEAAApEhEN3dVG2IESQbEE4hAAEIRIyADmeIUHJYR8QIkiMWCiEAAQhEhoAKZ4hWclhHuAiSIxYKIQABCESDgH79KFrJYR3hIkiOWCiEAAQgEA0CEU0O6wgXQXLEQiEEIACBCBCITTiDYo0gmXXPtba2piboc2niyZMnf/rTn7qsLAmWpCP9mT179o4dOzJcm2qYakF+6qskPeBzzz2nTzmAAAT8JhDd5LCOZBAkRyyhFTom4nNpjWwd9Ic//MFlZZXc77vf/e73rnyuv/76J598sqamJt3lqYapFqz7i5MeMB09yiHgEwG1m6qEM0R0N1UbFl6M7QakYdbN3c6DOql6/oMeu9q3b9+FCxeGDRtWVVUllUUJdu3a9cUXX/Tr12/UqFG2y48dOya7NoiKyFYOffv2lW+lpmQ3HzNmjLXm/fffr3dxlY0etm3b9vTTT6sKtu6sV6U7Zp+IdGQoh4AfBOIUzqD4IEjd7pO2843dzo05kS1TW1paRI2eeeaZJUuWyIZ1kuZ86NChZWVlIksPPPDA4sWLtbGy992iRYtkS6Hnn3/+4sWLa9aska82bdr05z//2SZI+hI5+OCDD8rLy1WJrTtp31oz3bF1tpSuDuUQCIaAzNdlm0e5pYcPH57aY3Nz85kzZ3S57Jcvv0r6NCoH+vWjKCaHdYSMIHXDUtx3QLdzM05kH9Vz586JYIg58+bNu/HGG+X3Z/Lkyb/61a+kRL5VkqOM/eMf/7hixYq9e/fKxEj2Wv3Od76zevVqmbv8/ve/X7lypW1Ad999t5rWHDlyRNrcvHmzatDWnUykbBc6njJDcsRCYfAEli5d+t57740YMeLUqVMy9d+wYUNJSYnVjO3bt69atUovD6xduzbD32rWC805jnpyWEeSCFI3LG6WzrpdEMjJO++809TUpPNKXLp0qaKiYsKECTJbkudGBw8eHDhwoDJE5kMzZsx49NFH1TLdoEGDRGZ27twpP6WF0aNH2+yVFiSpkqiR/C25ceNGWd+TCqndSS968qRbSJUfWSEkPaDmw0FYBCS6Z8uWLfI3WZ8+fcSGSZMmScDOlClTrPZ89NFH8+fPnz59urUwWsdRTw7rSBtBcsRiVqH8iTdu3DiZ6MiamMiA/Dxw4MCsWbMkE9K0adPOnz8vf+spi+Uvvo8//lhmRVOnTpVUSVI4c+ZMmfd885vflNlS6qjkr0K5ZOzYsX/7298kuEF+S+UPydTuZDVDdhO3XZ6aHvAvf/mLXGurxikEPCcg0Tfr1q1L16zcri+88IJSI6kjz1xlxm+rfOLECfndkYW73r1763mSrY7hp1FPDuuMV5IaJPwjswdzCPz9738XP9nsef/99wcMGCB5zaX8ww8/lCgGCT340Y9+pKr9/Oc/lxI5lpmNzJzk4M0335RfQmlKji9fviy/mTfccMOnn34qp/oj5dKR/FQl//znP6urq3/5y1/KaWp3//jHPxwNu/POO2U2JtfKVZ999plM1F5//XXdhTowCq/NNk5jQCDzDSa3vdz8n3zyiXWkcj/L3f6DH/xAooH0bW+tYP7x5c+2fv4/q+S/f69fbb617i0k7NtZp8MttSXikxmMzIckMlsWH+Spz/r16+W1obfffluOx48ff80110i8gzWgQH7TZHVOluNkFPLXnyxWiFCp2Lx045KJl6yz//rXvz5+/Hhqd3ohzmYY6QHT8aTcBAKyTC0rBPK7I6pjtUcWFWTFW36P9u/fL7E/ElAqIT/WCuYf63CG6CaHdYTcS7TL8YvkFA4ZMqS+vt788YrkyNup1jUxieSW09RnObaxyNuvt956q8yobOWZT1O7S1f/SnbAtOkBo4I33egoN5xAuhtM3nyQV+vk5n/ssccyD0EiIGTJWq97Z65swrcdl862vHurWFIyYErpMHukkgkW5mwDM6Sc0QV9oQiPVY2ke1n+zqxGhw4dkl9IiQt/6KGHsjU3tbt0LcgkrEdL0l1LOQT8ICCbhjz++OPyLoSjGkkIz2uvvab7lYVrvQagC00+aD3V9SKHfIoqwnlvUvXux08EyQ+qprQpz5a+/vWvy7OlzLplirnYAQEvCDQ2Nsqatrz8IKFAavou8Z/SsLwYrqIbZKVBXtSTF5WkUJb15C82WQz3oueA2ohHclhHWETZOWKJSWFlZeXChQtjMhiGAQF3BOSBkLwaIY+OdHV5F0J+EeR1vYkTJ8ojVXmkJDHfEol60003ycrenDlzIvQSUsx2U9U+Ugc8QypItwZtI8VpbgTAmxs3rnJJIGk32MW6B1U6vj4T9haWVrqkFJVqLNlFxVPYCQEIQKAgNslhHX2JIDlioRACEICAcQTit5uqDTHPkGxAQj6Vp6/WtW8JYLvrrrt++MMfOpolz2Zl+Vtep7B+q1qQbVV14JBEHMnj3KeeespajWMIQCByBOKUHNYRPjMkRyyhFcrbPy+++KLLNEWiPVLZZqtqQX7qctIUaRQcQCC6BOIdzqD8wgyp2/2pZ8TdSv0/sb1uTZoi/5HTAwQiRiBmyWEd6SNI3bB8caRru53gP+WV3bYithqQIU1RuqU86+VybJ0t2b7iFAIQiAqBmCWHdcSOIDliCbnQZZoi2bPOjaG8FeuGEnUgYDIBvXhTMmCyyXbmaRuC1A1g7+FGbAzlMk1R6qb6MphU+ZFHTTrAodtoOYEABCJCQIczxCY5rCN4BKkbFtuznG7fBXjiMk1RqvaIjaI9Epsnu3XJtvzKZNIUBeg6uoKA9wTk3SPZUFXald1U4/cyrJUXUXZWGsYdy45bIjBLliwRy77//e/X1tbKgeSSOHPmjCQydxQkqSCp+SR3n3p0JMleX3nlFZ1tVr7lAwEIRItALJPDOroAQXLEYkqhSE6PaYpsOYrEdNIUmeI/7ICAFwTimRzWiQx72UVsLzuZ99iyIjm5tassc5qidFd5Xp60rcY8B0iDmQnE/gaTcAYV/StPuA15ppDZI/l8yzOkfOiFcK3MmWxZkdIZIU+S5JPuW8ohAIFIENDJYeMdzqB8wZJdJO5JjIQABJJIQGIZ1G6qsQ9nUN5FkJJ4lzNmCEAgEgRinBzWkT9LdgUjR46UZWhHOhTmT0Dw5t8ILUAgmQRinBzW0aEIUsHGjRsd0VAIAQhAIEQCSdhN1YaXJTsbEE4hAAEIGEFAhzOUDJ5rhEH+G4Eg+c+YHiAAAQhkTyBR4QwKD4KU/W3CFRCAAAR8JqB3Uy2quNnnrgxqHkEyyBmYAgEIQEAR0Lupxv5lWKvHESQrDY4hAAEIhE8ggeEMCjqCFP7NhwUQgAAErASSkBzWOl59jCBpFBxAAAIQMIJAEpLDOoJGkByxUAgBCEAgHAI6nCHeyWEd4SJIjlgohAAEIBAOAR3OkITdVG2IESQbEE4hAAEIhEYgOclhHREjSI5YKIQABCAQAoHkJId1hIsgOWKhEAIQgEAIBJKTHNYRLoLkiIVCCEAAAkET0OEMkhw26L7N6A9BMsMPWAEBCCSegN5NNYHhDMr5CFLifwkAAAEIGEAgaclhHZGTD8kRC4UQgEC0CZw+fbqhoaG8vHz48OGRGEnSksM6OgVBcsRCIQQgEGECS5cufe+990aMGHHq1KnS0tINGzaUlJQYPp6kJYd1dAeC5IiFQghAIKoETp48uWXLlr179/bp00fGMGnSpB07dkyZMsXk8SR2N1WbUxAkGxBOIQAB0wnU1NSsW7cunZVlZWUvvPCCUiOpU1VVde7cuXSVDSnX4QzJSQ7rSL5XZ2en4xcUQgACEDCfwJAhQ+rr69PZKY+RZIa0devW6urqdHVMKG9+4zoxo2TAlNJhCQ34Vl4gys6EuxEbIAAB7wk0NTXNnDlz1qxZhqtR66nfqsEnKjmso78RJEcsFEIAAtEmcOzYsXvvvffhhx9+6qmnDB+JXq9LVHJYR6fwDMkRC4UQgECECdTV1c2dO3fZsmV33HGH4cMgnMHqIATJSoNjCEAg8gQaGxtnz569atWqMWPGtLW1yXgKCwuLigz9ty6xyWEd7zNDneRoK4UQgAAEeiSwadOm1tZWeXSka86YMWPhwoX61KiDxCaHdfQCUXaOWCiEAASiQSBzlJ3hY5D1ui+OPCNGym6qPEASDgQ1GH7HYh4EIBBbAjo5LGqkfIwgxfZeZ2AQgIDJBKzJYU22M0jbEKQgadMXBCAAgS8JJDw5rON9gCA5YqEQAhCAgL8EEp4c1hEuguSIhUIIQAACPhIgOawjXATJEQuFEIAABHwkoHdnSGxyWEe4CJIjFgohAAEI+EVAwhnkP2lddlMtLK30q5sItosgRdBpmAwBCESZAOEM6byHIKUjQzkEIAABXwjo5LBFFaN86SCyjSJIkXUdhkMAAhEkwG6qGZyGIGWAw1cQgAAEPCagwxkSnhzWESuC5IiFQghAAAK+ECCcIQNWBCkDHL6CAAQg4CUBksNmpokgZebDtxCAAAQ8I6DX69hN1ZEpguSIhUIIQAACHhMgnKFHoAhSj4ioAAEIQMADAjo5LOEM6WgiSOnIUA4BCEDASwI6OSy7M6TDiiClI0M5BCAAAc8I6N1USwZM9qzR2DWEIMXOpQwIAhAwjwDJYd34BEFyQ4k6EIAABHInQHJYl+wQJJegqAYBCEAgRwLspuoSHILkEhTVIAABCORIQIUzSCwDu6lmJoggZebDtxCAAATyIqDDGUqr5+bVUAIuRpAS4GSGCAEIhEdA785ActgenYAg9YiIChCAAARyJEBy2KzAIUhZ4aIyBCAAgSwIEM6QBayCAgQpK1xUhgAEIJAFAZLDZgELQcoKFpUhAAEIuCfAbqruWamazJCyJUZ9CEAAAq4I6HAGdlN1xYsZkktMVIMABCCQLQGSw2ZLjBlStsSoDwEIQKBnApeOPqMqFVXc3HNtalwhgCBxI0AAAhDwnoAOZyA5rHu4Re6rUhMCEIBAtAjs2bNn7NixqTY3NzefOXNGlw8ePLisrEyf5n9AOENuDBGk3LhxFQQgYDqB5557bvPmzXv37k01dPv27atWrSouLlZfrV27dsyYManVci4hOWxu6BCk3LhxFQQgYC6BlpaWFStW7Ny5s3fv3o5WfvTRR/Pnz58+fbrjt/kXkhw2N4Y8Q8qNG1dBAAKhEaipqRly9eNoxOrVq6+99trly5c7fiuFJ06cGDhwoCzctbW1pauTc7neTZXksNky7NXZ2ZntNdSHAAQgYAgBEab6+nqbMR0dHYWFhbW1tQsWLEhdsmtvb7/xxhuVIMlc6r777lu2bJmthXxOW969tePSWWmh/F8/zaedBF7LDCmBTmfIEIg5AVGjDCM8f/78hAkT1q9fv3///t27d+/bt2/Tpk0Z6mf1FeEMWeGyVc7kNltVTiEAAQjEgED//v0likF+ylj69et3++23Hz582Ktx6XCG4srJXrWZnHYQpOT4mpFCAAJdBBoaGl577TXN4vLly0VFnoV3kRxWg83hAEHKARqXQAAC0SNw9OjRc+fOid2tra2LFi06ffq0HDc1Ne3atWvSpEmejEeHM5AcNjeeCFJu3LgKAhCIGIE1a9bU1dWJ0dXV1RLzPXXq1EceeeSuu+56/PHHvXoJSe+mSnLY3G4Oouxy48ZVEICAEQQco+xCsUy2Ur1Y96B0XTJgSumwlaHYEPVOmSFF3YPYDwEIGEGA5LD5uwFByp8hLUAAAhAoUOEMAqKoYhQ4ciOAIOXGjasgAAEIfEWAcIavWORxhCDlAY9LIQABCFwhoMMZSDaRzx2BIOVDj2shAAEIdBEgOawn9wGC5AlGGoEABJJLgOSwXvkeQfKKJO1AAAIJJUByWK8cjyB5RZJ2IACBJBJgN1UPvY4geQiTpiAAgcQR0Luplgyem7jBez1gBMlrorQHAQgkiQDJYT30NoLkIUyaggAEkkVAv35EclhPHI8geYKRRiAAgSQSuHRyjRo2rx954n4EyROMNAIBCCSOAOEMnrscQfIcKQ1CAAKJIKDDGUgO65W/ESSvSNIOBCCQLAIkh/Xc3wiS50hpEAIQiD8BHc5AclgPnY0geQiTpiAAgaQQ0LupkhzWQ5cjSB7CpCkIQCARBGQrVXZT9cPTCJIfVGkTAhCIMwGSw/rkXQTJJ7A0CwEIxJYAyWF9ci2C5BNYmoUABOJJgHAG//yKIPnHlpYhAIEYEtDhDOzO4Ll3ESTPkdIgBCAQZwKEM/jnXQTJP7a0DAEIxI0AyWF99SiC5CteGocABGJFgOSwvroTQfIVL41DAALxIcBuqn77EkHymzDtQwACMSGgwxlIDuuTRxEkn8DSLAQgEDcCKpyhqGJUYWll3MZmxngQJDP8gBUQgIDZBPTrRySH9c9RCJJ/bGkZAhCIDwGSwwbgSwQpAMh0AQEIRJsA4QzB+A9BCoYzvUAAAhEmQHLYYJyHIAXDmV4gAIEQCOzZs8eTXtVuqhLOIP950iCNOBJAkByxUAgBCESewHPPPTd//vz8h0E4Q/4MXbZQ5LIe1SAAAQhEhUBLS8uKFSt27tzZu3fv/G3W4Qwkh80fZuYWmCFl5sO3EICAcQRqamqGXP04Grd69eprr712+fLljt9mVSjvHnVcOiuXlAyYwutHWaHLoXKvzs7OHC7jEghAAAImEBBhqq+vt1nS0dFRWFhYW1u7YMGCvXv32r7N6lR2U1UPkMpGb+YBUlbocqjMDCkHaFwCAQgYTUDUyCv7SA7rFUk37XjmNjedUQcCEIBAhAjocIbS6rkRMju6piJI0fUdlkMAAv4S0LupkhzWX9BXW0eQrpLg/xCAAAQsBCSWgeSwFh5BHCJIQVCmDwhAIHIEWk+tUTYXVdwcOeMjajBRdhF1HGZDAAJdBByj7DxB0/LurSrgu/xfP/WkQRrpkQAzpB4RUQECEEgcAXZTDcXlCFIo2OkUAhAwmoAOZyA5bJB+QpCCpE1fEIBANAgQzhCKnxCkULDTKQQgYC4B/foR4QwBOwlBChg43UEAAqYT0Lup8vpRwK5CkAIGTncQgIDRBAhnCNE9CFKI8OkaAhAwjgDJYUN0CYIUIny6hgAEjCNActgQXYIghQifriEAAbMI6HCGkgGTzbIsGdYgSMnwM6OEAARcENDhDCSHdUHL+yoIkvdMaRECEIgiAZLDhu41BCl0F2AABCBgBIG2s9uUHcWVrNeF4xEEKRzu9AoBCJhGgOSwoXsEQQrdBRgAAQiET0CHM/QevjJ8a5JqAYKUVM8zbghAwEJA76ZKOIOFStCHCFLQxOkPAhAwjQDJYQ3xCIJkiCMwAwIQCI0AyWFDQ9+9YwSpOw/OIACB5BFou3BADZrdVMN1PoIULn96hwAEQibAbqohO8DSPYJkgcEhBCCQPAI6nIHksKE7H0EK3QUYAAEIhEmA5LBh0u/eN4LUnQdnEIBAkgi0nvqtGi7JYU1wO4JkghewAQIQCIeAXq8jnCEcB3TvFUHqzoMzCEAgMQQIZzDN1QiSaR7BHghAICACJIcNCLTrbhAk16ioCAEIxIsAyWFN8yeCZJpHsAcCEAiCgN5NleSwQeB21weC5I4TtSAAgXgR0MlhCWcwx7EIkjm+wBIIQCAgAtbksAF1STcuCCBILiBRBQIQiBcBksOa6U8EyUy/YBUEIOAjAZLD+gg3j6aL8riWSyEAAQgYSqCxsfHUqVOVlZXV1dU2E3U4w4U+s88cOiTfDh48uKyszFaN0+AJMEMKnjk9QgAC/hLYsWPHgw8++NZbb82aNeu3v/1ycyDdpd6dYe6ijU9c+Rw7dkx/y0GIBJghhQifriEAAe8JtLe3L1iwYOvWrYMGDWpubh4/fvw999xTVVWlepJwBrWb6rn24f979zbvu6fFPAgwQ8oDHpdCAALmEdizZ095ebmokZgmB2PHjt23b582U4czdPSdJHLV1tamv+IgdAIIUuguwAAIQCA7AjU1NUOuflKvbGlpkWdCurx379719fX6VCeHfXb51okTJ37rW9+aP3++/paDcAkgSOHyp3cIQCBrAk8//bRojPqkXtzR0VFY+NW/bNZjvZvq0XOV69ev379//+7du2X+tGnTptR2KAmewFduC75veoQABCDgOYGSkhLRJN2sVZ90OMO4H23u37+/1OnXr9/tt99++PBhXZ+DEAkgSCHCp2sIQMB7AhUVFcePH9ftygret7/9bXWqwhnay+/8458O6AqXL18uKiK8S/MI8wBBCpM+fUMAAp4TGDlypLRZW1srP+VVpLq6ulGjRslxw55n5ad8WouvX7Ro0enTp+W4qalp165dkyZNuvINP0ImwN8FITuA7iEAAW8JyEOjlStXzps3TwLtZKq0YsUKmTNJF+3ntheUdnU1YOSP588vnzp16k033SRvIM2ZM2fMmDHe2kBruRHo1dnZmduVXAUBCEAgdAISbSfRDT2aIeEMXxx5RqqVDJhSOmxlj/WpEAoBluxCwU6nEIBAoARIDhso7lw7Q5ByJcd1EIBAdAiQHDYSvkKQIuEmjIQABHInoHdTJTls7hADuRJBCgQznUAAAuERIDlseOyz6xlByo4XtSEAgWgRIDlshPyFIEXIWZgKAQhkTUDvplpcOTnri7kgWAIIUrC86Q0CEAiWgApnKCytLKroej2Wj8kEECSTvYNtEIBAXgR0OENp9dy8GuLiQAggSIFgphMIQCAMAno31aJypkdhOCDLPhGkLIFRHQIQiAgBnRxWdmeQJbuIWJ1oMxGkRLufwUMgxgQIZ4iccxGkyLkMgyEAAVcEdHJYwhlc8TKgEoJkgBMwAQIQ8JqATg4r63Vet017fhFAkPwiS7sQgECIBHQ4Q8lg4utC9EN2XSNI2fGiNgQgEAkCKjks4QyRcJY2EkHSKDiAAARiQqD11G/VSIoqbo7JkJIxDAQpGX5mlBBIEgG9XldcyQOkKDkeQYqSt7AVAhDokQDhDD0iMrYCgmSsazAMAhDIhYBODks4Qy74Qr0GQQoVP51DAAJeE9DJYdmdwWu0vreHIPmOmA4gAIHACOjdVEkOGxhzDztCkDyESVMQgEDIBEgOG7ID8useQcqPH1dDAALGECA5rDGuyNEQBClHcFwGAQiYRoDdVE3zSLb2IEjZEqM+BCBgKAGSwxrqGNdmIUiuUVERAhAwmIAOZyA5rMFe6sE0BKkHQHwNAQhEgoDenYHksJHwl6ORCJIjFgohAIEoESA5bJS8ld5WBCk9G76BAAQiQoBwhog4qgczEaQeAPE1BCBgPgGSw5rvIzcWIkhuKFEHAhAwlwC7qZrrmywti7Mg1dTUZEnDxOrxGIWQZSCm3V6x8YgOZ4j0bqqxcUc+93mvzs7OfK43+dohQ4bU19ebbKEb2+IxChkpA3Hj7iDrxMMjMor9K9uEmySHLR22MkiA3vYVD3fkySTOM6Q80XA5BCBgPoEF97crI0kOa76zerSwqMca0a3Qr09Hx6Wz0bVfWR6PUchYGIhpt2I8PDL8mx0KLMlhTbvBcrAnzkt2zW9clwMRLoEABCJHIOrrdQKcJTuBgCBF7lcPgyEAATuBe5cVNbXwAMKOxXY+e/bsp59+2lZo1Gmcl+zkjyajWGMMBCCQLYG2842XTtSlu+pcUd+zhRWlQ6e+/8F/TleH8ggRiLMgRTrkJkL3EKZCwFsC7efPXqx99dLH/+fScWcpKu47oGz8tBVn+/23T/tJ1xtGDvXWAFoLi0CcBSkspvQLAQhkS0CJkFx1YYtz6LYSoZIbRpUOHa0af/W/ily1yvGjI7pkiU8MCCBIMXAiQ4BAJAnkIEJ6nC8famr4vEuNyhoPFBTcpss5iDQBBCnS7sN4CESMQD4iZB3q7w+eU6flp/9XQcEvrV9xHF0CCFJ0fYflEIgGAREhCUzokqLdWyRIIdVotRwn5eX3/yz129SS2jMttX9tkfJHv92/bkdzagVKIkoAQYqo4zAbAkYTEPlpu9DYevxAutiEbEXIOtrfH2xSp4+M7Occ9mCtzXF0CCBI0fEVlkLAbAJuRKjk+lHFff+jy5lQuuG+/OGX63XjBvZJV4fyKBJAkKLoNWyGgEEEutbi0kdpy0yoqG9l6fXfKRt3vxzkb7eEM6hGFn5/YP6t0YJRBBAko9zhbExDQ8Pp06crKyurq6uda0SktLm5+ejRo6WlpaNGjYqIyWnNlIH079+/b9++aWsY/4XcVHJrlZeXDx8+PFtjXYqQNUo72y7S1V/89hn11eI7qtLViVx5Pr6I3GAzGIwgZYBjxFe/+93vXnrppdGjRx87dmzEiBHLli0zwqzsjaitrX322WdlII2NjcXFxRs3biwsjOpeL/LPx8MPP7x69eoJEyZkT8KIK5YuXfree+/JHXXq1Cn5E2HDhg0lJSWZLcssQnJt6qtCmRvM4Vsd7S3hDDlcbuYlOfjCzIHkbxWClD9DH1vo6OhYtWrV66+/Pnjw4IsXL95yyy3y72AU50nt7e3z589fs2bNyJEjhdfEiRPffvvtO++800d2vjXd1tY2b968iooK33rwveGTJ09u2bJl7969ffp0PYOZNGnSjh07pkxx2GrLBBGy4tDTo0VxmR6594WVQ1yPESTTPSuapP50lZ8ypWht7XoZMHKfPXv2yAKXUiMx/s0334zcELTBv/nNb773ve99/PHHuiRyB2VlZS+88IJSIzG+qqrq3LkvwwTkVImQHLjfNCEYAtbpUVV5D/O5YEzKv5fMvsi//Wi1gCAZ7S9RoEWLFskevfIv4P79+6dNmzZs2DCjLU5jnDw9kmdgCxYseOONN2RQc+bMeeyxx9LUNbr44MGDH3zwgcxZn3zySaMNzWic/HEgH1VFHiPJaursGZObX/2NlJgmQtZx6JdhYzM9ktE5+GL2bOuoE3WMIJnu7sOHD8sSvzw8l79n//rXv166dElOTTc6xT556PLuu+/Kqt2SJUtkjUIWHmURcsyYMSkVjS6QVVPRVJlbGG2la+NkJtR0YOcfn1/zP25qL1z54IWUC9UzIQmNkwC5lC+DLrC+DBub6ZEVYlNT08yZM2fNmhXFNXnrQPI5RpDyoefLtfKEc9u2bdJ07969Fy9efOTIkbfeequoqGj69Olyv0qMw49//GNfOva6UetA5NdMZkgPPPCAdCK/bxILIKt2kRAk6yjGjh07dOhQmVLIR+Z8x48fj1DooxpI36KOyrKilU/O0Jsm/FD+vLEsA+fzvqrXd1C39hbv/DK4Tl6G7fZFLE4kZEnm3E888UREVw68cgKC5BVJz9oR4bntttukOREhCUiTmYQcqNYHDBjw2WefedaTzw1ZB9LS0rXRi/7IiOTZmD41+cA6irq6uk8++WTz5s1isDx0ef/99+UBgPl/z8pMSDZNeKDvv983rqKo8bgYb1uXM1aE9I2hp0fjvtEnfi/Dyn01d+5cCaC944479JCTeYAgGef3gVc+yiz5907WuM6cOSNlsl506NAhmSQZZ3Eag6wDkcg0eRi2a9cu0VqZW0iMw4oVK9JcZ1axdRQ6KENMlL9np06danLYd2qAnPW3/UJ7UekNo/vf+J/Kxt5fWNFfHuzpv3vMcsAVa/ReQYvujNvLsPJHpzwklmBaWTCQXxMZruG+8PX2sN6ivnZE47kQkL++5d0d+YfvhhtukAWiyZMnO8bm5tJ0sNfIi0dr16595pln5AGMPE96/PHHY/BubLAIXfWWKkLWy2QmpDZN2P5/P13x2tsFJ48WvHa0oOAlqTNjxoyFCxdaK5tzLNMjtVdQLKdHmzZtkgfDsqatgZvsC22kTwe9Ojs7fWqaZr0iIKtbEu0t/6ab/Desy8HK756KX3dZn2o9EnApQn5smtCjbZ5UGP/cEbW39+7Zw1PX64YMGVJfX+9JRzQSOgFmSKG7oGcDZAofxcg6x4HFZiCOowusMLMIiRnqsVB0RUiTjPfTIz1MDhQBBIk7AQLRIKBESGy1hSRo62MjQnpEcqCD6+L39Mg6TI4VAQSJOwEC5hJIpghpf8jWDGqxLpZPj/QwOdAEECSNggMIGEFAREjlV03UTMgR/VdbM8QuuM5xvBQiSNwDEAifgIiQyq+q31e12WT+q0I2g/M/1dMj2dg7NZYh//ZpwUACCJKBTsGkRBDQIuRHku8YEIzfxt4xcIrfQ0CQ/CZM+xDoRkCW41qPH8ggQirJt1f5Vbv1HZ2TRW83NHzetaORTI9iuXNddFwRqKUIUqC46SyZBFRsQgYR8jbJd9QhNzS3/ttbX+5ct+GBaGdJjrovArYfQQoYON0lhYBLEYrBq0Kee3TmKydUmwu/H7eNgjxnFbMGEaSYOZThhEkgswiJZbF8Vchb4tY3YRfHJS2st4hi3BqCFGPnMrQgCCgRajv//y7uftWxP0TIEUu6Qj094k3YdIhiXI4gxdi5DM0vAkqEpHVeFfIW8cxXTupYBkK9vWUbidYQpEi4CSPDJ4AI+e0Dvat31b+UEMvgN20z20eQzPQLVhlBQERIbZrA+6oB+ENvW7fhgaEBdEcXBhJAkAx0CiaFSUBESG2akCFKu2z8NDGx/P6fhWlovPqWF4/Yti5eLs1lNAhSLtS4JmYE3IiQel8VEfLD9bJYZ3nxiOmRH4yj0SaCFA0/YaUfBNRjoQwzId5X9QN7aptfLdY9OJR9GVL5JKcEQUqOrxlpFwGXIsT7qoHdLjohrOSYeHREv8D6pSMDCSBIBjoFkzwmgAh5DNS75vRrsBJZt/up4d413K2lxsbGU6dOVVZWVlc7b0TU3Nx85syXmxXJlYMHDy4rK+vWBCeBEECQAsFMJ4ETyCxCYg7vqwbuE3uHsmfd+HVHVKl/kXU7duxYvnz56NGjDx06dPfdd//kJz+x21FQsH379lWrVhUXF6uv1q5dO2bMmNRqlPhNAEHymzDtB0dAiZD0x/uqwUHPoye9KYPsWefTa7Dt7e0LFizYunXroEGDZBo0fvz4e+65p6qqymb1Rx99NH/+/OnTp9vKOQ2YAIIUMHC685gAIuQx0KCas8Z5+7dn3Z49e8rLy0WNZFhyMHbs2H379qUK0okTJ6ZNmyaK1bt3bz1PCooE/XxFAEH6igVHUSEgIuTmfVWJkZOsQlEZVKLszDPOu6amZt26dW6ItbS0yAMhXVP0pr6+Xp+qA5lFyUOmJUuWiCBJ/fvuu2/ZsmW2OpwGQwBBCoYzveRLQESIJN/5QjTjelEj/eho9+zhOcR5P33lo0YzZMiQDMPq6OgoLCzUFazHuvD8+fMTJkx49tln+/fv39TUJFOlTZs2sXyn+QR5gCAFSZu+siOgRSjDq0JsmpAd07BrWwMZfHp0tHTp0m3btslAZT70i1/8QjRJD1qOi4rs/+iJDkkUg6rTr1+/22+//fDhwwiShhbkgd03QfZNXxBwJKAeC2UQIZJ8O3KLRKEOZJC3jnx6dCRacttttwkN0R5RoOPHj2sysiI3ceJEfaoOGhoaJABvypQp6vTy5cupomW7hFOfCCBIPoGl2ewI9ChCatME3lfNDqthta3vwPr31tHAKx81dDU9qq2tHTdunLyKVFdXJ8+K1FdHjx7t27evTI9aW1sXLVo0bNgwiX2QJbtdu3atWLHCMHJJMQdBSoqnDRwnImSgU/wzSXIdqe1TfX0H1ma/PDRauXLlvHnzRGxkqiRKU1FRoeqsWbNGZksyMZK3ZSXme+rUqTfddNOxY8fmzJnDS0g2jIGd9urs7AysMzqCQGYREj68rxrLm0TU6OUPz6mhSSCDh28dSVBDauBcLBkmYVDMkJLg5ZDHqERIjOB91ZA9EVL3/qlRSAOiW78IIEh+kU14u4hQwm8APXx5AdanuZHugoPYEECQYuPK8AciIqTeV2UmFL4zzLDg5UNNOtGRtyt1ZowPKzwmgCB5DDRpzWkRIsl30lzf43hlboQa9UiJClYCCJKVBseuCIgIkeTbFakEV+K5UYKdn/vQEaTc2SXqSjcixPuqibolMgxWv28kdVipywCKr2wEECQbEE67ERAdulj7aoZNE0jy3Y1X4k9kZyDZi0G/byRZjjyM8E483fgDQJDi7+NsR+hShNg0IVuwsa+PGsXexX4PEEHym3A02s8sQjIG3leNhiPDs9K6h7fsxfDpL0eHZws9R5UAghRVz+VvNyKUP0NaUASsAXWya6p/+9QBPN4EEKR4+9c+OiVCUsqrQnY0nOdEwLpMJw1IRgmf9vDOyTouihgBBCliDsvBXEQoB2hc4oaAvPc6c/MJVVOW6QhhcAONOhkIIEgZ4ET4KxEhN0m+ZYTl9/8swuPE9JAI2CZGLNOF5Ie4dYsgxcejIkK8rxofdxo8EuvESMxkmc5gX0XMNAQpYg6zmetGhNT7qsyEbOg4zYGAbWLEMl0ODLkkAwEEKQMcc79Sj4V4X9VcD8XOMpGiDZadUmV8TIxi5+TwB4Qghe8Dlxa4FCHeV3XJk2ruCVijuuWqrpSv/2V4VXmJ+xaoCQE3BBAkN5RCq4MIhYaejq8QECn674fONXzeqniIFP1oRH8Cu7k7fCKAIPkENvdmM4uQtMumCbnD5UrXBGxSJNexRucaHhVzJIAg5QjO28uUCEmbvK/qLVhay4EAUpQDNC7xhACC5AnGXBpBhHKhxjW+EUgNW5CuZFY0c0Q/Hhf5Rp2GuxFAkLrh8PtERMjN+6oEJvjtCNq3EhApWvx2w8sfnrMWIkVWGhwHQwBB8p2ziJB6X5Uk376zpoNsCDhOiQhbyAYhdT0mgCB5DFQ1p0Uow6tCZeOnSWXeV/XFATSanoDSIWvsnKqLFKVnxjcBEUCQvAStHgtlECGSfHuJm7ayIZBZh3hQlA1L6vpFAEHKl2yPIqSSfPNYKF/QXJ89ASVCct2/vXXGdrWaD11XXvLoiH62rziFQFgEEKRcyCNCuVDjmkAIaBFKXZST/tGhQJxAJzkSQJDcgsssQtIK76u6RUk9TwmIAjW0tO4+3bLndHPtX1sc21Y6NH5Qn3ED+zhWoBACJhBAkDJ5QYmQ1OB91UyY+C5YAlqBpNvMIjRuYPmA8hJ2+gnWP/SWOwEEyc4OEbIT4TxUAlp+GmUm1Hwp3RxI2ahmQnKMCIXqNDrPkQCC1AUOEcrx9uEy7wgo4ZGfnza3Ku2RhTi9q2m6fkSBqvqUjB1UznJcOkSUR4hAcgVJRMjNpgniS14VitANbaypojRiW5fGXJEcOVaqIweZJz3WEWn5kUIUyEqG43gQSJYgiQiR5DseN64Jo1AaI5aIzHT9vKo0cqzFRn3b40RHqtk+oj1SomY/coD82PhwGksC8RckNyJEku9Y3tx6UFo5viq5IiHq1PqtLJfpOiIqVytc+vJACc/V5EC6Zj4HSnhU9IG0I8IjP4mFywcp10aXQJwFqfnV36TbNOFcUcXZor7n+w+T/XuK+g740n+HmqLrSP8st/4b7Ukv+h/6HluTZ/iZ66ipia1ODtMRWwtenepZjjRYVV4qAW9yIO+iyubZMvVhC22vONNObAjEVpBkYmSL1VYi9EFJ9cGS6w+WVHe5sKOg4L0vCgpOxMadDMQnAkpapHEREtWFCIwcKI2RA5GZrm/VT8RGMfLtZ01Nzbp161TzI0eO9K0fGg6aQK/Ozs6g+wyqvz/M+N7I1hOiQ9t6j/1KhILqnX68JaAlIbVZLRK2r5Rm6EItHrpEqYg6tc5XdIPWQn0VBxCAgE8E4ixIJ/ftOlAy1CdwnjQbm3/v9L/gOWCJDYQcxs4lEICAlUCcBck6To4hAAEIQMBwAoWG24d5EIAABCCQEAIIUkIczTAhAAEImE4AQTLdQ9gHAQhAICEEEKSEOJphQgACEDCdAIJkuoewDwIQgEBCCCBICXE0w4QABCBgOgEEyXQPYR8EIACBhBBAkBLiaIYJAQhAwHQCCJLpHsI+CEAAAgkhgCAlxNEMEwIQgIDpBBAk0z2EfRCAAAQSQgBBSoijGSYEIAAB0wkgSKZ7CPsgAAEIJIQAgpQQRzNMCEAAAqYTQJBM9xD2QQACEEgIAQQpIY5mmBCAAARMJ4Agme4h7IMABCCQEAIIUkIczTAhAAEImE4AQTLdQ9gHAQhAICEEEKSEOJphQgACEDCdAIJkuoewDwIQgEBCCCBICXE0w4QABCBgOgEEyXQPYR8EIACBhBBAkBLiaIYJAQhAwHQCCJLpHsI+CEAAAgkhgCAlxNEMEwIQgIDpBBAk0z2EfRCAAAQSQgBBSoijGSYEIAAB0wkgSKZ7CPsgAAEIJIQAgpQQRzNMCEAAAqYTQJBM9xD2QQACEEgIAQQpIY5mmBCAAARMJ4Agme4h7IMABCCQEAIIUkIczTAhAAEImE4AQTLdQ9gHAQhAICEEEKSEOJphQgACEDCdAIJkuoewDwIQgEBCCCBICXE0w4QABCBgOgEEyXQPYR8EIACBhBBAkBLiaIYJAQhAwHQCCJLpHsI+CEAAAgkhgCAlxNEMEwIQgIDpBBAk0z2EfRCAAAQSQuD/A/kPOx4Ee7qDAAAAAElFTkSuQmCC)\n",
        "\n",
        "* The alpha parameter in the following implementation represents how large the angle with the x-axis is."
      ]
    },
    {
      "cell_type": "code",
      "execution_count": null,
      "metadata": {
        "id": "nAlFxjBcgLdU"
      },
      "outputs": [],
      "source": [
        "def build_generator():\n",
        "\n",
        "    # Defining the constants\n",
        "    alpha_val = 0.2\n",
        "    momentum_val = 0.8\n",
        "    number_of_dense_layers = 3\n",
        "    initial_dense_layer_neurons = 256\n",
        "    \n",
        "    # Initializing the dense layers for the generator\n",
        "\n",
        "    dense_layers = []\n",
        "    for i in range(number_of_dense_layers):\n",
        "      dense_layers.append(initial_dense_layer_neurons << i)\n",
        "\n",
        "    # 1D array of size 100 (latent vector / noise)\n",
        "    noise_shape = (100, )\n",
        "\n",
        "\n",
        "    # Step 1: Define the GAN architecture basen on the dataset      \n",
        "    model = Sequential()\n",
        "\n",
        "    # Adding 'number_of_dense_layers' sets of:\n",
        "    # (dense layer, LeakyReLu, BatchNormalization)\n",
        "    for i, dense_layer_neurons_number in enumerate(dense_layers):\n",
        "      model.add(Dense(dense_layer_neurons_number)) if not i == 0 else model.add(Dense(dense_layer_neurons_number, input_shape=noise_shape))\n",
        "      model.add(LeakyReLU(alpha=alpha_val))\n",
        "      model.add(BatchNormalization(momentum=momentum_val))\n",
        "    \n",
        "    # Adding a final dense layer\n",
        "    model.add(Dense(np.prod(signal_shape), activation='tanh'))\n",
        "    model.add(Reshape(signal_shape))\n",
        "\n",
        "    model.build(input_shape=signal_shape)\n",
        "    model.summary()\n",
        "\n",
        "    noise = Input(shape=noise_shape)\n",
        "    signal = model(noise)    # Generated signal\n",
        "\n",
        "    return Model(noise, signal)"
      ]
    },
    {
      "cell_type": "code",
      "execution_count": null,
      "metadata": {
        "id": "iSDWPjfgFuTL"
      },
      "outputs": [],
      "source": [
        "def build_discriminator():\n",
        "\n",
        "    # Defining the constants\n",
        "    alpha_val = 0.2\n",
        "    dense_layers = [512, 256]\n",
        "\n",
        "    model = Sequential()\n",
        "\n",
        "    model.add(Flatten(input_shape=signal_shape))\n",
        "\n",
        "    for dense_layer_neurons_number in dense_layers:\n",
        "      model.add(Dense(dense_layer_neurons_number))\n",
        "      model.add(LeakyReLU(alpha=alpha_val))\n",
        "    \n",
        "    model.add(Dense(1, activation='sigmoid'))\n",
        "    model.summary()\n",
        "\n",
        "    signal = Input(shape=signal_shape)\n",
        "    validity = model(signal)\n",
        "\n",
        "    return Model(signal, validity)"
      ]
    },
    {
      "cell_type": "code",
      "execution_count": null,
      "metadata": {
        "id": "nC9NCImnGg8X"
      },
      "outputs": [],
      "source": [
        "def normalization(num):\n",
        "  k = 2 / (max_X_train - min_X_train)\n",
        "  m = (- min_X_train - max_X_train) / (max_X_train - min_X_train)\n",
        "  norm = k * num + m\n",
        "  return norm\n",
        "\n",
        "\n",
        "for sample in X_train:\n",
        "  for arr in sample:\n",
        "    arr[0] = normalization(arr[0])\n",
        "    arr[1] = normalization(arr[1])"
      ]
    },
    {
      "cell_type": "code",
      "execution_count": null,
      "metadata": {
        "id": "mB2uMAUwnqh2"
      },
      "outputs": [],
      "source": [
        "def train(epochs, batch_size=128):\n",
        "\n",
        "    half_batch = int(batch_size / 2)\n",
        "\n",
        "    # Now we start iterating over the epochs and training both our discriminator\n",
        "    # and generator, one after another. We train the discriminator first, by\n",
        "    # feeding it real data (the half_batch) then training the generator with \n",
        "    # both real and fake data (separately). After that, we compute the loss and\n",
        "    # continue to iterate until both the generator and discriminator have been trained.\n",
        "    for epoch in tqdm(range(epochs)):\n",
        "\n",
        "        # Save the times so we can analyze them after\n",
        "        initial_time_for_epoch = time.clock()\n",
        "\n",
        "        #  Train Discriminator\n",
        "\n",
        "        # Select a random half batch of real images\n",
        "        idx = np.random.randint(0, X_train.shape[0], half_batch)\n",
        "        signals = X_train[idx]\n",
        "\n",
        "        noise = np.random.normal(0, 1, (half_batch, 100))\n",
        "\n",
        "        # Generate a half batch of fake signals\n",
        "        gen_signals = generator.predict(noise)\n",
        "\n",
        "        # Train the discriminator on real and fake signals, separately\n",
        "\n",
        "        d_loss_real = discriminator.train_on_batch(signals, np.ones((half_batch, 1)))\n",
        "        d_loss_fake = discriminator.train_on_batch(gen_signals, np.zeros((half_batch, 1)))\n",
        "        \n",
        "        # calculate the average square error of the real & false predictions\n",
        "        d_loss = 0.5 * np.add(d_loss_real, d_loss_fake) \n",
        "\n",
        "        # Now it's time to train our generator. Its idea is to 'fool' the discriminator\n",
        "        # meaning that we're trying to get the discriminator to mark the fake signals\n",
        "        # as real and vice-versa\n",
        "\n",
        "        # Create noise vectors as input for generator.\n",
        "        noise = np.random.normal(0, 1, (batch_size, 100))\n",
        "\n",
        "        # The generator wants the discriminator to label the generated samples\n",
        "        # as valid (true i.e. one)\n",
        "        # This is where the genrator is trying to trick discriminator into believing\n",
        "        # the generated image is true (hence value of true (one) for y)\n",
        "        valid_y = np.array([1] * batch_size)\n",
        "\n",
        "        # Now get the general loss by training both at the same time\n",
        "        g_loss = combined.train_on_batch(noise, valid_y)\n",
        "\n",
        "\n",
        "        # In order to have some type of logging, we print the data\n",
        "        print (f\"{epoch} [D loss: {d_loss[0]}] [G loss: {g_loss}]\")\n",
        "        \n",
        "        d_loss_list.append(d_loss[0])\n",
        "        g_loss_list.append(g_loss)\n",
        "\n",
        "        if epochs % 1000 == 0:\n",
        "          number_of_thousands = int(epochs / 1000)\n",
        "          discriminator_weights_file = f'/gdrive/MyDrive/BMEN_4470_Fall_2021/Final Project/GAN_Weights/discriminator_{number_of_thousands}K'\n",
        "          generator_weights_file = f'/gdrive/MyDrive/BMEN_4470_Fall_2021/Final Project/GAN_Weights/discriminator_{number_of_thousands}K'\n",
        "          discriminator.save_weights(discriminator_weights_file)\n",
        "          generator.save_weights(generator_weights_file)\n",
        "        \n",
        "        end_time_for_epoch = time.clock()\n",
        "        epoch_times.append(end_time_for_epoch - initial_time_for_epoch)"
      ]
    },
    {
      "cell_type": "code",
      "execution_count": null,
      "metadata": {
        "id": "UPcKOkVrD9ga"
      },
      "outputs": [],
      "source": [
        "# Adding a timer callback to track the time\n",
        "\n",
        "class timecallback(Callback):\n",
        "    def __init__(self):\n",
        "        self.times = []\n",
        "        # use this value as reference to calculate cummulative time taken\n",
        "        self.timetaken = time.clock()\n",
        "    def on_epoch_end(self,epoch,logs = {}):\n",
        "        self.times.append((epoch,time.clock() - self.timetaken))\n",
        "    def on_train_end(self,logs = {}):\n",
        "        plt.xlabel('Epoch')\n",
        "        plt.ylabel('Total time taken until an epoch in seconds')\n",
        "        plt.plot(*zip(*self.times))\n",
        "        plt.show()"
      ]
    },
    {
      "cell_type": "code",
      "execution_count": null,
      "metadata": {
        "colab": {
          "background_save": true,
          "base_uri": "https://localhost:8080/"
        },
        "id": "B7867ho_nsoJ",
        "outputId": "2d8aaf29-4888-4609-c0ff-20a9400a3968"
      },
      "outputs": [
        {
          "name": "stdout",
          "output_type": "stream",
          "text": [
            "Model: \"sequential_6\"\n",
            "_________________________________________________________________\n",
            " Layer (type)                Output Shape              Param #   \n",
            "=================================================================\n",
            " flatten_3 (Flatten)         (None, 2000)              0         \n",
            "                                                                 \n",
            " dense_21 (Dense)            (None, 512)               1024512   \n",
            "                                                                 \n",
            " leaky_re_lu_15 (LeakyReLU)  (None, 512)               0         \n",
            "                                                                 \n",
            " dense_22 (Dense)            (None, 256)               131328    \n",
            "                                                                 \n",
            " leaky_re_lu_16 (LeakyReLU)  (None, 256)               0         \n",
            "                                                                 \n",
            " dense_23 (Dense)            (None, 1)                 257       \n",
            "                                                                 \n",
            "=================================================================\n",
            "Total params: 1,156,097\n",
            "Trainable params: 1,156,097\n",
            "Non-trainable params: 0\n",
            "_________________________________________________________________\n",
            "Model: \"sequential_7\"\n",
            "_________________________________________________________________\n",
            " Layer (type)                Output Shape              Param #   \n",
            "=================================================================\n",
            " dense_24 (Dense)            (None, 256)               25856     \n",
            "                                                                 \n",
            " leaky_re_lu_17 (LeakyReLU)  (None, 256)               0         \n",
            "                                                                 \n",
            " batch_normalization_9 (Batc  (None, 256)              1024      \n",
            " hNormalization)                                                 \n",
            "                                                                 \n",
            " dense_25 (Dense)            (None, 512)               131584    \n",
            "                                                                 \n",
            " leaky_re_lu_18 (LeakyReLU)  (None, 512)               0         \n",
            "                                                                 \n",
            " batch_normalization_10 (Bat  (None, 512)              2048      \n",
            " chNormalization)                                                \n",
            "                                                                 \n",
            " dense_26 (Dense)            (None, 1024)              525312    \n",
            "                                                                 \n",
            " leaky_re_lu_19 (LeakyReLU)  (None, 1024)              0         \n",
            "                                                                 \n",
            " batch_normalization_11 (Bat  (None, 1024)             4096      \n",
            " chNormalization)                                                \n",
            "                                                                 \n",
            " dense_27 (Dense)            (None, 2000)              2050000   \n",
            "                                                                 \n",
            " reshape_3 (Reshape)         (None, 1000, 2)           0         \n",
            "                                                                 \n",
            "=================================================================\n",
            "Total params: 2,739,920\n",
            "Trainable params: 2,736,336\n",
            "Non-trainable params: 3,584\n",
            "_________________________________________________________________\n"
          ]
        },
        {
          "name": "stderr",
          "output_type": "stream",
          "text": [
            "  0%|          | 0/2900 [00:00<?, ?it/s]/usr/local/lib/python3.7/dist-packages/ipykernel_launcher.py:13: DeprecationWarning: time.clock has been deprecated in Python 3.3 and will be removed from Python 3.8: use time.perf_counter or time.process_time instead\n",
            "  del sys.path[0]\n",
            "/usr/local/lib/python3.7/dist-packages/ipykernel_launcher.py:64: DeprecationWarning: time.clock has been deprecated in Python 3.3 and will be removed from Python 3.8: use time.perf_counter or time.process_time instead\n",
            "  0%|          | 2/2900 [00:01<38:56,  1.24it/s]  "
          ]
        },
        {
          "name": "stdout",
          "output_type": "stream",
          "text": [
            "0 [D loss: 0.8460448384284973] [G loss: 0.5840660333633423]\n",
            "1 [D loss: 0.3798147067427635] [G loss: 0.5788468718528748]\n"
          ]
        },
        {
          "name": "stderr",
          "output_type": "stream",
          "text": [
            "  0%|          | 5/2900 [00:02<12:56,  3.73it/s]"
          ]
        },
        {
          "name": "stdout",
          "output_type": "stream",
          "text": [
            "2 [D loss: 0.3345600115135312] [G loss: 0.6716054677963257]\n",
            "3 [D loss: 0.32848938181996346] [G loss: 0.6837583780288696]\n",
            "4 [D loss: 0.2859234972856939] [G loss: 0.8090491890907288]\n"
          ]
        },
        {
          "name": "stderr",
          "output_type": "stream",
          "text": [
            "\r  0%|          | 7/2900 [00:02<09:06,  5.29it/s]"
          ]
        },
        {
          "name": "stdout",
          "output_type": "stream",
          "text": [
            "5 [D loss: 0.30915539897978306] [G loss: 0.9003835320472717]\n",
            "6 [D loss: 0.26107405917719007] [G loss: 1.0167410373687744]\n",
            "7 [D loss: 0.22578755486756563] [G loss: 1.1930824518203735]\n"
          ]
        },
        {
          "name": "stderr",
          "output_type": "stream",
          "text": [
            "  0%|          | 11/2900 [00:02<06:18,  7.63it/s]"
          ]
        },
        {
          "name": "stdout",
          "output_type": "stream",
          "text": [
            "8 [D loss: 0.19242506939917803] [G loss: 1.3130030632019043]\n",
            "9 [D loss: 0.1619121041148901] [G loss: 1.5161491632461548]\n",
            "10 [D loss: 0.1120433947071433] [G loss: 1.6209056377410889]\n"
          ]
        },
        {
          "name": "stderr",
          "output_type": "stream",
          "text": [
            "\r  0%|          | 13/2900 [00:02<05:45,  8.37it/s]"
          ]
        },
        {
          "name": "stdout",
          "output_type": "stream",
          "text": [
            "11 [D loss: 0.12133883871138096] [G loss: 1.8036301136016846]\n",
            "12 [D loss: 0.1155848354101181] [G loss: 1.8763461112976074]\n",
            "13 [D loss: 0.10881046298891306] [G loss: 2.1042237281799316]\n"
          ]
        },
        {
          "name": "stderr",
          "output_type": "stream",
          "text": [
            "  1%|          | 17/2900 [00:03<04:51,  9.88it/s]"
          ]
        },
        {
          "name": "stdout",
          "output_type": "stream",
          "text": [
            "14 [D loss: 0.09346380736678839] [G loss: 2.2603416442871094]\n",
            "15 [D loss: 0.08584804646670818] [G loss: 2.3673770427703857]\n",
            "16 [D loss: 0.06772660091519356] [G loss: 2.4490585327148438]\n"
          ]
        },
        {
          "name": "stderr",
          "output_type": "stream",
          "text": [
            "\r  1%|          | 19/2900 [00:03<04:47, 10.02it/s]"
          ]
        },
        {
          "name": "stdout",
          "output_type": "stream",
          "text": [
            "17 [D loss: 0.0632405485957861] [G loss: 2.617215156555176]\n",
            "18 [D loss: 0.06807428365573287] [G loss: 2.7114763259887695]\n",
            "19 [D loss: 0.04942700173705816] [G loss: 2.7066056728363037]\n"
          ]
        },
        {
          "name": "stderr",
          "output_type": "stream",
          "text": [
            "  1%|          | 23/2900 [00:03<04:31, 10.60it/s]"
          ]
        },
        {
          "name": "stdout",
          "output_type": "stream",
          "text": [
            "20 [D loss: 0.04360039532184601] [G loss: 2.9527950286865234]\n",
            "21 [D loss: 0.04588076286017895] [G loss: 2.87658429145813]\n",
            "22 [D loss: 0.03711625374853611] [G loss: 2.8873648643493652]\n"
          ]
        },
        {
          "name": "stderr",
          "output_type": "stream",
          "text": [
            "\r  1%|          | 25/2900 [00:04<04:28, 10.71it/s]"
          ]
        },
        {
          "name": "stdout",
          "output_type": "stream",
          "text": [
            "23 [D loss: 0.04059783276170492] [G loss: 3.0408718585968018]\n",
            "24 [D loss: 0.04315059073269367] [G loss: 3.1461362838745117]\n",
            "25 [D loss: 0.04356288583949208] [G loss: 3.250411033630371]\n"
          ]
        },
        {
          "name": "stderr",
          "output_type": "stream",
          "text": [
            "  1%|          | 29/2900 [00:04<04:24, 10.87it/s]"
          ]
        },
        {
          "name": "stdout",
          "output_type": "stream",
          "text": [
            "26 [D loss: 0.025640866719186306] [G loss: 3.1697726249694824]\n",
            "27 [D loss: 0.052439638413488865] [G loss: 3.1268014907836914]\n",
            "28 [D loss: 0.029215638292953372] [G loss: 3.315176010131836]\n"
          ]
        },
        {
          "name": "stderr",
          "output_type": "stream",
          "text": [
            "\r  1%|          | 31/2900 [00:04<04:25, 10.81it/s]"
          ]
        },
        {
          "name": "stdout",
          "output_type": "stream",
          "text": [
            "29 [D loss: 0.024198561906814575] [G loss: 3.297377109527588]\n",
            "30 [D loss: 0.02744990773499012] [G loss: 3.377086639404297]\n",
            "31 [D loss: 0.03066268563270569] [G loss: 3.5008435249328613]\n"
          ]
        },
        {
          "name": "stderr",
          "output_type": "stream",
          "text": [
            "  1%|          | 35/2900 [00:04<04:23, 10.88it/s]"
          ]
        },
        {
          "name": "stdout",
          "output_type": "stream",
          "text": [
            "32 [D loss: 0.024575758259743452] [G loss: 3.3687825202941895]\n",
            "33 [D loss: 0.018595206551253796] [G loss: 3.290134906768799]\n",
            "34 [D loss: 0.03345695277675986] [G loss: 3.454719305038452]\n"
          ]
        },
        {
          "name": "stderr",
          "output_type": "stream",
          "text": [
            "\r  1%|▏         | 37/2900 [00:05<04:30, 10.59it/s]"
          ]
        },
        {
          "name": "stdout",
          "output_type": "stream",
          "text": [
            "35 [D loss: 0.02611401746980846] [G loss: 3.4486441612243652]\n",
            "36 [D loss: 0.02418672852218151] [G loss: 3.4676527976989746]\n"
          ]
        },
        {
          "name": "stderr",
          "output_type": "stream",
          "text": [
            "\r  1%|▏         | 39/2900 [00:05<04:38, 10.28it/s]"
          ]
        },
        {
          "name": "stdout",
          "output_type": "stream",
          "text": [
            "37 [D loss: 0.03026900812983513] [G loss: 3.531895637512207]\n",
            "38 [D loss: 0.01862108986824751] [G loss: 3.620978355407715]\n",
            "39 [D loss: 0.027427793014794588] [G loss: 3.654456615447998]\n"
          ]
        },
        {
          "name": "stderr",
          "output_type": "stream",
          "text": [
            "  1%|▏         | 43/2900 [00:05<04:30, 10.55it/s]"
          ]
        },
        {
          "name": "stdout",
          "output_type": "stream",
          "text": [
            "40 [D loss: 0.024944011587649584] [G loss: 3.7592005729675293]\n",
            "41 [D loss: 0.017517883563414216] [G loss: 3.817003011703491]\n",
            "42 [D loss: 0.027071467600762844] [G loss: 3.835623264312744]\n"
          ]
        },
        {
          "name": "stderr",
          "output_type": "stream",
          "text": [
            "\r  2%|▏         | 45/2900 [00:05<04:29, 10.59it/s]"
          ]
        },
        {
          "name": "stdout",
          "output_type": "stream",
          "text": [
            "43 [D loss: 0.024552926770411432] [G loss: 3.7950997352600098]\n",
            "44 [D loss: 0.02183670736849308] [G loss: 3.8822240829467773]\n"
          ]
        },
        {
          "name": "stderr",
          "output_type": "stream",
          "text": [
            "\r  2%|▏         | 47/2900 [00:06<04:47,  9.91it/s]"
          ]
        },
        {
          "name": "stdout",
          "output_type": "stream",
          "text": [
            "45 [D loss: 0.019390468718484044] [G loss: 3.942701816558838]\n",
            "46 [D loss: 0.01358159282244742] [G loss: 3.766920804977417]\n"
          ]
        },
        {
          "name": "stderr",
          "output_type": "stream",
          "text": [
            "\r  2%|▏         | 49/2900 [00:06<04:36, 10.32it/s]"
          ]
        },
        {
          "name": "stdout",
          "output_type": "stream",
          "text": [
            "47 [D loss: 0.023707262706011534] [G loss: 3.7572438716888428]\n",
            "48 [D loss: 0.023096871562302113] [G loss: 3.8593149185180664]\n",
            "49 [D loss: 0.01511548669077456] [G loss: 3.971104145050049]\n"
          ]
        },
        {
          "name": "stderr",
          "output_type": "stream",
          "text": [
            "  2%|▏         | 53/2900 [00:06<04:37, 10.27it/s]"
          ]
        },
        {
          "name": "stdout",
          "output_type": "stream",
          "text": [
            "50 [D loss: 0.023858332308009267] [G loss: 3.731903553009033]\n",
            "51 [D loss: 0.015038039535284042] [G loss: 3.92366099357605]\n",
            "52 [D loss: 0.022682152222841978] [G loss: 4.059813976287842]\n"
          ]
        },
        {
          "name": "stderr",
          "output_type": "stream",
          "text": [
            "\r  2%|▏         | 55/2900 [00:06<04:42, 10.07it/s]"
          ]
        },
        {
          "name": "stdout",
          "output_type": "stream",
          "text": [
            "53 [D loss: 0.01372521836310625] [G loss: 4.013984680175781]\n",
            "54 [D loss: 0.017389332642778754] [G loss: 4.008632659912109]\n",
            "55 [D loss: 0.011644544545561075] [G loss: 3.9049510955810547]\n"
          ]
        },
        {
          "name": "stderr",
          "output_type": "stream",
          "text": [
            "  2%|▏         | 58/2900 [00:07<04:53,  9.68it/s]"
          ]
        },
        {
          "name": "stdout",
          "output_type": "stream",
          "text": [
            "56 [D loss: 0.016369029879570007] [G loss: 3.9223222732543945]\n",
            "57 [D loss: 0.01786890998482704] [G loss: 3.9079971313476562]\n"
          ]
        },
        {
          "name": "stderr",
          "output_type": "stream",
          "text": [
            "  2%|▏         | 61/2900 [00:07<04:39, 10.15it/s]"
          ]
        },
        {
          "name": "stdout",
          "output_type": "stream",
          "text": [
            "58 [D loss: 0.024237531004473567] [G loss: 3.9008941650390625]\n",
            "59 [D loss: 0.024900659918785095] [G loss: 3.9485816955566406]\n",
            "60 [D loss: 0.013933397363871336] [G loss: 4.201864242553711]\n"
          ]
        },
        {
          "name": "stderr",
          "output_type": "stream",
          "text": [
            "\r  2%|▏         | 63/2900 [00:07<04:33, 10.37it/s]"
          ]
        },
        {
          "name": "stdout",
          "output_type": "stream",
          "text": [
            "61 [D loss: 0.018066001124680042] [G loss: 4.145510673522949]\n",
            "62 [D loss: 0.011212297016754746] [G loss: 4.128252983093262]\n",
            "63 [D loss: 0.01799402362667024] [G loss: 4.106876850128174]\n"
          ]
        },
        {
          "name": "stderr",
          "output_type": "stream",
          "text": [
            "\r  2%|▏         | 65/2900 [00:07<04:28, 10.56it/s]"
          ]
        },
        {
          "name": "stdout",
          "output_type": "stream",
          "text": [
            "64 [D loss: 0.018560148775577545] [G loss: 4.157172203063965]\n",
            "65 [D loss: 0.014565455261617899] [G loss: 4.259650230407715]\n"
          ]
        },
        {
          "name": "stderr",
          "output_type": "stream",
          "text": [
            "  2%|▏         | 69/2900 [00:08<04:30, 10.46it/s]"
          ]
        },
        {
          "name": "stdout",
          "output_type": "stream",
          "text": [
            "66 [D loss: 0.018127721268683672] [G loss: 4.017101764678955]\n",
            "67 [D loss: 0.016896250541321933] [G loss: 4.182572364807129]\n",
            "68 [D loss: 0.011498789303004742] [G loss: 4.031680107116699]\n"
          ]
        },
        {
          "name": "stderr",
          "output_type": "stream",
          "text": [
            "\r  2%|▏         | 71/2900 [00:08<04:24, 10.70it/s]"
          ]
        },
        {
          "name": "stdout",
          "output_type": "stream",
          "text": [
            "69 [D loss: 0.028005451429635286] [G loss: 4.229511737823486]\n",
            "70 [D loss: 0.011334193870425224] [G loss: 4.321847915649414]\n",
            "71 [D loss: 0.026974304113537073] [G loss: 4.434864044189453]\n"
          ]
        },
        {
          "name": "stderr",
          "output_type": "stream",
          "text": [
            "  3%|▎         | 75/2900 [00:08<04:29, 10.47it/s]"
          ]
        },
        {
          "name": "stdout",
          "output_type": "stream",
          "text": [
            "72 [D loss: 0.013447381323203444] [G loss: 4.5494866371154785]\n",
            "73 [D loss: 0.016290481202304363] [G loss: 4.5986328125]\n",
            "74 [D loss: 0.01452773087657988] [G loss: 4.481799125671387]\n"
          ]
        },
        {
          "name": "stderr",
          "output_type": "stream",
          "text": [
            "\r  3%|▎         | 77/2900 [00:09<04:28, 10.52it/s]"
          ]
        },
        {
          "name": "stdout",
          "output_type": "stream",
          "text": [
            "75 [D loss: 0.014696214930154383] [G loss: 4.394744873046875]\n",
            "76 [D loss: 0.014630737248808146] [G loss: 4.3236002922058105]\n",
            "77 [D loss: 0.010756210656836629] [G loss: 4.426802635192871]\n"
          ]
        },
        {
          "name": "stderr",
          "output_type": "stream",
          "text": [
            "  3%|▎         | 81/2900 [00:09<04:18, 10.90it/s]"
          ]
        },
        {
          "name": "stdout",
          "output_type": "stream",
          "text": [
            "78 [D loss: 0.010438251658342779] [G loss: 4.462871074676514]\n",
            "79 [D loss: 0.01190987741574645] [G loss: 4.5279107093811035]\n",
            "80 [D loss: 0.02408202039077878] [G loss: 4.63416051864624]\n"
          ]
        },
        {
          "name": "stderr",
          "output_type": "stream",
          "text": [
            "\r  3%|▎         | 83/2900 [00:09<04:19, 10.85it/s]"
          ]
        },
        {
          "name": "stdout",
          "output_type": "stream",
          "text": [
            "81 [D loss: 0.01949280919507146] [G loss: 4.70888614654541]\n",
            "82 [D loss: 0.013149747624993324] [G loss: 4.857356071472168]\n",
            "83 [D loss: 0.010865324642509222] [G loss: 4.92699670791626]\n"
          ]
        },
        {
          "name": "stderr",
          "output_type": "stream",
          "text": [
            "  3%|▎         | 87/2900 [00:09<04:14, 11.05it/s]"
          ]
        },
        {
          "name": "stdout",
          "output_type": "stream",
          "text": [
            "84 [D loss: 0.013314050622284412] [G loss: 4.920253753662109]\n",
            "85 [D loss: 0.011424494441598654] [G loss: 4.7879743576049805]\n",
            "86 [D loss: 0.006514030043035746] [G loss: 4.80647087097168]\n"
          ]
        },
        {
          "name": "stderr",
          "output_type": "stream",
          "text": [
            "\r  3%|▎         | 89/2900 [00:10<04:16, 10.94it/s]"
          ]
        },
        {
          "name": "stdout",
          "output_type": "stream",
          "text": [
            "87 [D loss: 0.006679019192233682] [G loss: 4.713520526885986]\n",
            "88 [D loss: 0.01605848828330636] [G loss: 4.720426559448242]\n",
            "89 [D loss: 0.01569965248927474] [G loss: 5.005131721496582]\n"
          ]
        },
        {
          "name": "stderr",
          "output_type": "stream",
          "text": [
            "  3%|▎         | 93/2900 [00:10<04:12, 11.11it/s]"
          ]
        },
        {
          "name": "stdout",
          "output_type": "stream",
          "text": [
            "90 [D loss: 0.00730164023116231] [G loss: 4.9516730308532715]\n",
            "91 [D loss: 0.01228629145771265] [G loss: 4.999215602874756]\n",
            "92 [D loss: 0.009417828172445297] [G loss: 4.953043460845947]\n"
          ]
        },
        {
          "name": "stderr",
          "output_type": "stream",
          "text": [
            "\r  3%|▎         | 95/2900 [00:10<04:18, 10.83it/s]"
          ]
        },
        {
          "name": "stdout",
          "output_type": "stream",
          "text": [
            "93 [D loss: 0.00865246239118278] [G loss: 4.862586975097656]\n",
            "94 [D loss: 0.010678799357265234] [G loss: 4.772214889526367]\n",
            "95 [D loss: 0.010017975699156523] [G loss: 4.831570148468018]\n"
          ]
        },
        {
          "name": "stderr",
          "output_type": "stream",
          "text": [
            "  3%|▎         | 99/2900 [00:11<04:17, 10.90it/s]"
          ]
        },
        {
          "name": "stdout",
          "output_type": "stream",
          "text": [
            "96 [D loss: 0.005616804584860802] [G loss: 4.621365547180176]\n",
            "97 [D loss: 0.01719245850108564] [G loss: 4.794399738311768]\n",
            "98 [D loss: 0.012548749800771475] [G loss: 5.262682914733887]\n"
          ]
        },
        {
          "name": "stderr",
          "output_type": "stream",
          "text": [
            "\r  3%|▎         | 101/2900 [00:11<04:20, 10.73it/s]"
          ]
        },
        {
          "name": "stdout",
          "output_type": "stream",
          "text": [
            "99 [D loss: 0.012387290596961975] [G loss: 5.20414924621582]\n",
            "100 [D loss: 0.011815850157290697] [G loss: 5.02663516998291]\n",
            "101 [D loss: 0.015616984805092216] [G loss: 5.258506774902344]\n"
          ]
        },
        {
          "name": "stderr",
          "output_type": "stream",
          "text": [
            "  4%|▎         | 105/2900 [00:11<04:13, 11.03it/s]"
          ]
        },
        {
          "name": "stdout",
          "output_type": "stream",
          "text": [
            "102 [D loss: 0.013179950881749392] [G loss: 5.60915470123291]\n",
            "103 [D loss: 0.013675351161509752] [G loss: 5.347531318664551]\n",
            "104 [D loss: 0.005520437378436327] [G loss: 5.085624694824219]\n"
          ]
        },
        {
          "name": "stderr",
          "output_type": "stream",
          "text": [
            "\r  4%|▎         | 107/2900 [00:11<04:17, 10.87it/s]"
          ]
        },
        {
          "name": "stdout",
          "output_type": "stream",
          "text": [
            "105 [D loss: 0.007199550746008754] [G loss: 5.044094085693359]\n",
            "106 [D loss: 0.008028993848711252] [G loss: 5.0404205322265625]\n",
            "107 [D loss: 0.008369272109121084] [G loss: 4.886861801147461]\n"
          ]
        },
        {
          "name": "stderr",
          "output_type": "stream",
          "text": [
            "  4%|▍         | 111/2900 [00:12<04:23, 10.58it/s]"
          ]
        },
        {
          "name": "stdout",
          "output_type": "stream",
          "text": [
            "108 [D loss: 0.022257422097027302] [G loss: 5.624638557434082]\n",
            "109 [D loss: 0.012067739851772785] [G loss: 5.589993000030518]\n",
            "110 [D loss: 0.010799341835081577] [G loss: 4.988442420959473]\n"
          ]
        },
        {
          "name": "stderr",
          "output_type": "stream",
          "text": [
            "\r  4%|▍         | 113/2900 [00:12<04:24, 10.53it/s]"
          ]
        },
        {
          "name": "stdout",
          "output_type": "stream",
          "text": [
            "111 [D loss: 0.010097404010593891] [G loss: 5.270333290100098]\n",
            "112 [D loss: 0.01018601399846375] [G loss: 5.663351058959961]\n",
            "113 [D loss: 0.00650241575203836] [G loss: 5.259379863739014]\n"
          ]
        },
        {
          "name": "stderr",
          "output_type": "stream",
          "text": [
            "  4%|▍         | 117/2900 [00:12<04:24, 10.52it/s]"
          ]
        },
        {
          "name": "stdout",
          "output_type": "stream",
          "text": [
            "114 [D loss: 0.016032435931265354] [G loss: 5.338074684143066]\n",
            "115 [D loss: 0.01974272122606635] [G loss: 5.337121963500977]\n",
            "116 [D loss: 0.01007576147094369] [G loss: 5.114365577697754]\n"
          ]
        },
        {
          "name": "stderr",
          "output_type": "stream",
          "text": [
            "\r  4%|▍         | 119/2900 [00:12<04:24, 10.52it/s]"
          ]
        },
        {
          "name": "stdout",
          "output_type": "stream",
          "text": [
            "117 [D loss: 0.009889273438602686] [G loss: 5.380470275878906]\n",
            "118 [D loss: 0.015323927393183112] [G loss: 5.866481304168701]\n",
            "119 [D loss: 0.02421616017818451] [G loss: 4.6125993728637695]\n"
          ]
        },
        {
          "name": "stderr",
          "output_type": "stream",
          "text": [
            "  4%|▍         | 123/2900 [00:13<04:17, 10.78it/s]"
          ]
        },
        {
          "name": "stdout",
          "output_type": "stream",
          "text": [
            "120 [D loss: 0.019724099955055863] [G loss: 5.1701202392578125]\n",
            "121 [D loss: 0.03587887104367837] [G loss: 7.011980056762695]\n",
            "122 [D loss: 0.025331606157124043] [G loss: 8.20833969116211]\n"
          ]
        },
        {
          "name": "stderr",
          "output_type": "stream",
          "text": [
            "\r  4%|▍         | 125/2900 [00:13<04:28, 10.33it/s]"
          ]
        },
        {
          "name": "stdout",
          "output_type": "stream",
          "text": [
            "123 [D loss: 0.25224023684859276] [G loss: 14.107650756835938]\n",
            "124 [D loss: 4.443448901176453] [G loss: 4.066164970397949]\n",
            "125 [D loss: 1.816510802737172] [G loss: 2.151298761367798]\n"
          ]
        },
        {
          "name": "stderr",
          "output_type": "stream",
          "text": [
            "  4%|▍         | 129/2900 [00:13<04:27, 10.35it/s]"
          ]
        },
        {
          "name": "stdout",
          "output_type": "stream",
          "text": [
            "126 [D loss: 1.0469213093008705] [G loss: 3.953108787536621]\n",
            "127 [D loss: 0.6895977384187972] [G loss: 3.868020534515381]\n",
            "128 [D loss: 0.22953122047510988] [G loss: 4.242779731750488]\n"
          ]
        },
        {
          "name": "stderr",
          "output_type": "stream",
          "text": [
            "\r  5%|▍         | 131/2900 [00:14<04:26, 10.38it/s]"
          ]
        },
        {
          "name": "stdout",
          "output_type": "stream",
          "text": [
            "129 [D loss: 0.10091408275184222] [G loss: 3.769287347793579]\n",
            "130 [D loss: 0.07387482118792832] [G loss: 3.7154006958007812]\n",
            "131 [D loss: 0.11011072259861976] [G loss: 3.3653247356414795]\n"
          ]
        },
        {
          "name": "stderr",
          "output_type": "stream",
          "text": [
            "  5%|▍         | 135/2900 [00:14<04:26, 10.37it/s]"
          ]
        },
        {
          "name": "stdout",
          "output_type": "stream",
          "text": [
            "132 [D loss: 0.1877987151965499] [G loss: 3.552644729614258]\n",
            "133 [D loss: 0.11482260003685951] [G loss: 3.7176647186279297]\n",
            "134 [D loss: 0.11244954913854599] [G loss: 3.3181629180908203]\n"
          ]
        },
        {
          "name": "stderr",
          "output_type": "stream",
          "text": [
            "\r  5%|▍         | 137/2900 [00:14<04:25, 10.41it/s]"
          ]
        },
        {
          "name": "stdout",
          "output_type": "stream",
          "text": [
            "135 [D loss: 0.06812755577266216] [G loss: 2.670686721801758]\n",
            "136 [D loss: 0.1922739390283823] [G loss: 3.0162830352783203]\n",
            "137 [D loss: 0.09315389581024647] [G loss: 3.2314515113830566]\n"
          ]
        },
        {
          "name": "stderr",
          "output_type": "stream",
          "text": [
            "  5%|▍         | 141/2900 [00:15<04:19, 10.62it/s]"
          ]
        },
        {
          "name": "stdout",
          "output_type": "stream",
          "text": [
            "138 [D loss: 0.18315907567739487] [G loss: 2.901311159133911]\n",
            "139 [D loss: 0.13487041555345058] [G loss: 2.7064151763916016]\n",
            "140 [D loss: 0.19746819883584976] [G loss: 2.468353271484375]\n"
          ]
        },
        {
          "name": "stderr",
          "output_type": "stream",
          "text": [
            "\r  5%|▍         | 143/2900 [00:15<04:23, 10.45it/s]"
          ]
        },
        {
          "name": "stdout",
          "output_type": "stream",
          "text": [
            "141 [D loss: 0.14412528183311224] [G loss: 2.9010660648345947]\n",
            "142 [D loss: 0.18688270822167397] [G loss: 3.0114402770996094]\n",
            "143 [D loss: 0.21832237392663956] [G loss: 3.4437782764434814]\n"
          ]
        },
        {
          "name": "stderr",
          "output_type": "stream",
          "text": [
            "  5%|▌         | 147/2900 [00:15<04:29, 10.22it/s]"
          ]
        },
        {
          "name": "stdout",
          "output_type": "stream",
          "text": [
            "144 [D loss: 0.1461727675050497] [G loss: 2.5913288593292236]\n",
            "145 [D loss: 0.4509710781276226] [G loss: 3.182960033416748]\n",
            "146 [D loss: 0.6487294435501099] [G loss: 1.4218074083328247]\n"
          ]
        },
        {
          "name": "stderr",
          "output_type": "stream",
          "text": [
            "\r  5%|▌         | 149/2900 [00:15<04:31, 10.13it/s]"
          ]
        },
        {
          "name": "stdout",
          "output_type": "stream",
          "text": [
            "147 [D loss: 0.340920221991837] [G loss: 2.0353362560272217]\n",
            "148 [D loss: 0.20506626507267356] [G loss: 3.527647018432617]\n"
          ]
        },
        {
          "name": "stderr",
          "output_type": "stream",
          "text": [
            "\r  5%|▌         | 151/2900 [00:16<04:29, 10.18it/s]"
          ]
        },
        {
          "name": "stdout",
          "output_type": "stream",
          "text": [
            "149 [D loss: 0.14570219814777374] [G loss: 3.6915817260742188]\n",
            "150 [D loss: 0.11894840002059937] [G loss: 2.7157087326049805]\n",
            "151 [D loss: 0.1967703476548195] [G loss: 2.371000289916992]\n"
          ]
        },
        {
          "name": "stderr",
          "output_type": "stream",
          "text": [
            "  5%|▌         | 154/2900 [00:16<04:42,  9.73it/s]"
          ]
        },
        {
          "name": "stdout",
          "output_type": "stream",
          "text": [
            "152 [D loss: 0.15388543531298637] [G loss: 2.7012224197387695]\n",
            "153 [D loss: 0.278007660061121] [G loss: 2.2389135360717773]\n"
          ]
        },
        {
          "name": "stderr",
          "output_type": "stream",
          "text": [
            "\r  5%|▌         | 156/2900 [00:16<04:30, 10.14it/s]"
          ]
        },
        {
          "name": "stdout",
          "output_type": "stream",
          "text": [
            "154 [D loss: 0.11880918592214584] [G loss: 2.486755847930908]\n",
            "155 [D loss: 0.2707286700606346] [G loss: 3.1014316082000732]\n",
            "156 [D loss: 0.36557332426309586] [G loss: 2.465714931488037]\n"
          ]
        },
        {
          "name": "stderr",
          "output_type": "stream",
          "text": [
            "  6%|▌         | 160/2900 [00:16<04:28, 10.20it/s]"
          ]
        },
        {
          "name": "stdout",
          "output_type": "stream",
          "text": [
            "157 [D loss: 0.15413154289126396] [G loss: 2.723867177963257]\n",
            "158 [D loss: 0.23563969135284424] [G loss: 3.4088711738586426]\n",
            "159 [D loss: 0.22121644020080566] [G loss: 2.634812116622925]\n"
          ]
        },
        {
          "name": "stderr",
          "output_type": "stream",
          "text": [
            "\r  6%|▌         | 162/2900 [00:17<04:22, 10.41it/s]"
          ]
        },
        {
          "name": "stdout",
          "output_type": "stream",
          "text": [
            "160 [D loss: 0.15643832460045815] [G loss: 2.8431999683380127]\n",
            "161 [D loss: 0.16407053172588348] [G loss: 2.3694753646850586]\n",
            "162 [D loss: 0.20754289627075195] [G loss: 2.757150888442993]\n"
          ]
        },
        {
          "name": "stderr",
          "output_type": "stream",
          "text": [
            "\r  6%|▌         | 164/2900 [00:17<04:16, 10.66it/s]"
          ]
        },
        {
          "name": "stdout",
          "output_type": "stream",
          "text": [
            "163 [D loss: 0.2699158489704132] [G loss: 2.4562900066375732]\n",
            "164 [D loss: 0.24650805816054344] [G loss: 3.0479533672332764]\n"
          ]
        },
        {
          "name": "stderr",
          "output_type": "stream",
          "text": [
            "  6%|▌         | 168/2900 [00:17<04:15, 10.71it/s]"
          ]
        },
        {
          "name": "stdout",
          "output_type": "stream",
          "text": [
            "165 [D loss: 0.2352355718612671] [G loss: 2.4521288871765137]\n",
            "166 [D loss: 0.13414734229445457] [G loss: 2.7745635509490967]\n",
            "167 [D loss: 0.16738378256559372] [G loss: 2.9365172386169434]\n"
          ]
        },
        {
          "name": "stderr",
          "output_type": "stream",
          "text": [
            "\r  6%|▌         | 170/2900 [00:17<04:19, 10.52it/s]"
          ]
        },
        {
          "name": "stdout",
          "output_type": "stream",
          "text": [
            "168 [D loss: 0.13601266592741013] [G loss: 2.5408477783203125]\n",
            "169 [D loss: 0.1566443368792534] [G loss: 2.8944549560546875]\n",
            "170 [D loss: 0.20232385396957397] [G loss: 2.58955454826355]\n"
          ]
        },
        {
          "name": "stderr",
          "output_type": "stream",
          "text": [
            "\r  6%|▌         | 172/2900 [00:18<04:13, 10.78it/s]"
          ]
        },
        {
          "name": "stdout",
          "output_type": "stream",
          "text": [
            "171 [D loss: 0.17022286728024483] [G loss: 3.2312960624694824]\n",
            "172 [D loss: 0.177937351167202] [G loss: 2.2695469856262207]\n"
          ]
        },
        {
          "name": "stderr",
          "output_type": "stream",
          "text": [
            "  6%|▌         | 176/2900 [00:18<04:21, 10.41it/s]"
          ]
        },
        {
          "name": "stdout",
          "output_type": "stream",
          "text": [
            "173 [D loss: 0.1687761228531599] [G loss: 2.936978340148926]\n",
            "174 [D loss: 0.1080884225666523] [G loss: 3.095846176147461]\n",
            "175 [D loss: 0.19586758315563202] [G loss: 2.6144676208496094]\n"
          ]
        },
        {
          "name": "stderr",
          "output_type": "stream",
          "text": [
            "\r  6%|▌         | 178/2900 [00:18<04:18, 10.52it/s]"
          ]
        },
        {
          "name": "stdout",
          "output_type": "stream",
          "text": [
            "176 [D loss: 0.14565355237573385] [G loss: 2.8382365703582764]\n",
            "177 [D loss: 0.07767784222960472] [G loss: 3.205434799194336]\n",
            "178 [D loss: 0.1291300766170025] [G loss: 2.9654688835144043]\n"
          ]
        },
        {
          "name": "stderr",
          "output_type": "stream",
          "text": [
            "  6%|▌         | 181/2900 [00:19<05:46,  7.84it/s]"
          ]
        },
        {
          "name": "stdout",
          "output_type": "stream",
          "text": [
            "179 [D loss: 0.10917691141366959] [G loss: 2.9196276664733887]\n",
            "180 [D loss: 0.14350540190935135] [G loss: 2.8259639739990234]\n"
          ]
        },
        {
          "name": "stderr",
          "output_type": "stream",
          "text": [
            "\r  6%|▋         | 183/2900 [00:19<05:13,  8.66it/s]"
          ]
        },
        {
          "name": "stdout",
          "output_type": "stream",
          "text": [
            "181 [D loss: 0.1445675939321518] [G loss: 3.190824031829834]\n",
            "182 [D loss: 0.28843165934085846] [G loss: 2.675347328186035]\n",
            "183 [D loss: 0.13074150122702122] [G loss: 3.365910291671753]\n"
          ]
        },
        {
          "name": "stderr",
          "output_type": "stream",
          "text": [
            "  6%|▋         | 186/2900 [00:19<05:17,  8.56it/s]"
          ]
        },
        {
          "name": "stdout",
          "output_type": "stream",
          "text": [
            "184 [D loss: 0.19326938688755035] [G loss: 2.666553258895874]\n",
            "185 [D loss: 0.11477408092468977] [G loss: 3.4894590377807617]\n"
          ]
        },
        {
          "name": "stderr",
          "output_type": "stream",
          "text": [
            "  7%|▋         | 189/2900 [00:20<05:58,  7.56it/s]"
          ]
        },
        {
          "name": "stdout",
          "output_type": "stream",
          "text": [
            "186 [D loss: 0.11159304156899452] [G loss: 3.012572765350342]\n",
            "187 [D loss: 0.10162820480763912] [G loss: 3.2529749870300293]\n",
            "188 [D loss: 0.15845604240894318] [G loss: 3.322725772857666]\n"
          ]
        },
        {
          "name": "stderr",
          "output_type": "stream",
          "text": [
            "\r  7%|▋         | 191/2900 [00:20<05:27,  8.26it/s]"
          ]
        },
        {
          "name": "stdout",
          "output_type": "stream",
          "text": [
            "189 [D loss: 0.15868137031793594] [G loss: 3.1390438079833984]\n",
            "190 [D loss: 0.11929741688072681] [G loss: 3.9189553260803223]\n"
          ]
        },
        {
          "name": "stderr",
          "output_type": "stream",
          "text": [
            "  7%|▋         | 193/2900 [00:20<05:43,  7.89it/s]"
          ]
        },
        {
          "name": "stdout",
          "output_type": "stream",
          "text": [
            "191 [D loss: 0.19282883405685425] [G loss: 2.6116628646850586]\n",
            "192 [D loss: 0.06347059179097414] [G loss: 2.6901087760925293]\n"
          ]
        },
        {
          "name": "stderr",
          "output_type": "stream",
          "text": [
            "  7%|▋         | 195/2900 [00:21<06:32,  6.90it/s]"
          ]
        },
        {
          "name": "stdout",
          "output_type": "stream",
          "text": [
            "193 [D loss: 0.13577171973884106] [G loss: 3.8649861812591553]\n",
            "194 [D loss: 0.2480589747428894] [G loss: 3.267162561416626]\n",
            "195 [D loss: 0.049963099882006645] [G loss: 3.5087196826934814]\n"
          ]
        },
        {
          "name": "stderr",
          "output_type": "stream",
          "text": [
            "\r  7%|▋         | 197/2900 [00:21<05:39,  7.97it/s]"
          ]
        },
        {
          "name": "stdout",
          "output_type": "stream",
          "text": [
            "196 [D loss: 0.10375170409679413] [G loss: 3.1920523643493652]\n",
            "197 [D loss: 0.06496809795498848] [G loss: 2.910285472869873]\n"
          ]
        },
        {
          "name": "stderr",
          "output_type": "stream",
          "text": [
            "  7%|▋         | 201/2900 [00:21<04:48,  9.35it/s]"
          ]
        },
        {
          "name": "stdout",
          "output_type": "stream",
          "text": [
            "198 [D loss: 0.10680250450968742] [G loss: 3.418416738510132]\n",
            "199 [D loss: 0.13768336176872253] [G loss: 3.477944850921631]\n",
            "200 [D loss: 0.08873033337295055] [G loss: 3.758441209793091]\n"
          ]
        },
        {
          "name": "stderr",
          "output_type": "stream",
          "text": [
            "\r  7%|▋         | 203/2900 [00:21<04:35,  9.78it/s]"
          ]
        },
        {
          "name": "stdout",
          "output_type": "stream",
          "text": [
            "201 [D loss: 0.15145929157733917] [G loss: 3.608386993408203]\n",
            "202 [D loss: 0.09614642709493637] [G loss: 4.020771026611328]\n",
            "203 [D loss: 0.17396977543830872] [G loss: 2.6737918853759766]\n"
          ]
        },
        {
          "name": "stderr",
          "output_type": "stream",
          "text": [
            "  7%|▋         | 207/2900 [00:22<04:29,  9.98it/s]"
          ]
        },
        {
          "name": "stdout",
          "output_type": "stream",
          "text": [
            "204 [D loss: 0.07983388938009739] [G loss: 3.530925750732422]\n",
            "205 [D loss: 0.10345754027366638] [G loss: 4.014350891113281]\n",
            "206 [D loss: 0.08978341147303581] [G loss: 2.8565845489501953]\n"
          ]
        },
        {
          "name": "stderr",
          "output_type": "stream",
          "text": [
            "\r  7%|▋         | 209/2900 [00:22<04:28, 10.02it/s]"
          ]
        },
        {
          "name": "stdout",
          "output_type": "stream",
          "text": [
            "207 [D loss: 0.08075885660946369] [G loss: 3.641608476638794]\n",
            "208 [D loss: 0.12806729972362518] [G loss: 4.4275360107421875]\n",
            "209 [D loss: 0.17404747009277344] [G loss: 3.4499125480651855]\n"
          ]
        },
        {
          "name": "stderr",
          "output_type": "stream",
          "text": [
            "  7%|▋         | 213/2900 [00:22<04:16, 10.49it/s]"
          ]
        },
        {
          "name": "stdout",
          "output_type": "stream",
          "text": [
            "210 [D loss: 0.07405214570462704] [G loss: 4.290859222412109]\n",
            "211 [D loss: 0.12610280886292458] [G loss: 3.765972375869751]\n",
            "212 [D loss: 0.10951114818453789] [G loss: 4.716595649719238]\n"
          ]
        },
        {
          "name": "stderr",
          "output_type": "stream",
          "text": [
            "\r  7%|▋         | 215/2900 [00:22<04:15, 10.50it/s]"
          ]
        },
        {
          "name": "stdout",
          "output_type": "stream",
          "text": [
            "213 [D loss: 0.4296770691871643] [G loss: 3.466841459274292]\n",
            "214 [D loss: 0.0449354313313961] [G loss: 4.963766574859619]\n",
            "215 [D loss: 0.1390559896826744] [G loss: 2.9280214309692383]\n"
          ]
        },
        {
          "name": "stderr",
          "output_type": "stream",
          "text": [
            "  8%|▊         | 219/2900 [00:23<04:16, 10.46it/s]"
          ]
        },
        {
          "name": "stdout",
          "output_type": "stream",
          "text": [
            "216 [D loss: 0.061380837112665176] [G loss: 3.633645534515381]\n",
            "217 [D loss: 0.05188562162220478] [G loss: 4.226723670959473]\n",
            "218 [D loss: 0.12482696026563644] [G loss: 2.9071974754333496]\n"
          ]
        },
        {
          "name": "stderr",
          "output_type": "stream",
          "text": [
            "\r  8%|▊         | 221/2900 [00:23<04:13, 10.57it/s]"
          ]
        },
        {
          "name": "stdout",
          "output_type": "stream",
          "text": [
            "219 [D loss: 0.07430017273873091] [G loss: 4.04656982421875]\n",
            "220 [D loss: 0.15526270493865013] [G loss: 4.248814582824707]\n",
            "221 [D loss: 0.07981614023447037] [G loss: 3.907993793487549]\n"
          ]
        },
        {
          "name": "stderr",
          "output_type": "stream",
          "text": [
            "  8%|▊         | 225/2900 [00:23<04:17, 10.37it/s]"
          ]
        },
        {
          "name": "stdout",
          "output_type": "stream",
          "text": [
            "222 [D loss: 0.1925988309085369] [G loss: 4.824367523193359]\n",
            "223 [D loss: 0.44726990908384323] [G loss: 5.004012107849121]\n",
            "224 [D loss: 0.11608199030160904] [G loss: 6.163978099822998]\n"
          ]
        },
        {
          "name": "stderr",
          "output_type": "stream",
          "text": [
            "\r  8%|▊         | 227/2900 [00:24<04:12, 10.57it/s]"
          ]
        },
        {
          "name": "stdout",
          "output_type": "stream",
          "text": [
            "225 [D loss: 0.32787930220365524] [G loss: 3.3655247688293457]\n",
            "226 [D loss: 0.12796862237155437] [G loss: 4.9009599685668945]\n",
            "227 [D loss: 0.1940842717885971] [G loss: 4.728183269500732]\n"
          ]
        },
        {
          "name": "stderr",
          "output_type": "stream",
          "text": [
            "  8%|▊         | 231/2900 [00:24<04:18, 10.32it/s]"
          ]
        },
        {
          "name": "stdout",
          "output_type": "stream",
          "text": [
            "228 [D loss: 0.09791561588644981] [G loss: 4.612067222595215]\n",
            "229 [D loss: 0.1819840967655182] [G loss: 2.939552068710327]\n",
            "230 [D loss: 0.11886352673172951] [G loss: 5.252806186676025]\n"
          ]
        },
        {
          "name": "stderr",
          "output_type": "stream",
          "text": [
            "\r  8%|▊         | 233/2900 [00:24<04:09, 10.68it/s]"
          ]
        },
        {
          "name": "stdout",
          "output_type": "stream",
          "text": [
            "231 [D loss: 2.3352513015270233] [G loss: 0.6805298328399658]\n",
            "232 [D loss: 0.6992400125600398] [G loss: 3.175166606903076]\n",
            "233 [D loss: 0.08480556309223175] [G loss: 4.950401306152344]\n"
          ]
        },
        {
          "name": "stderr",
          "output_type": "stream",
          "text": [
            "\r  8%|▊         | 235/2900 [00:24<04:04, 10.88it/s]"
          ]
        },
        {
          "name": "stdout",
          "output_type": "stream",
          "text": [
            "234 [D loss: 0.7289499640464783] [G loss: 2.5182905197143555]\n",
            "235 [D loss: 0.1855265237390995] [G loss: 4.011534214019775]\n"
          ]
        },
        {
          "name": "stderr",
          "output_type": "stream",
          "text": [
            "  8%|▊         | 239/2900 [00:25<04:15, 10.41it/s]"
          ]
        },
        {
          "name": "stdout",
          "output_type": "stream",
          "text": [
            "236 [D loss: 0.0702691525220871] [G loss: 3.9549367427825928]\n",
            "237 [D loss: 0.17106099426746368] [G loss: 2.717374086380005]\n",
            "238 [D loss: 0.1954074762761593] [G loss: 3.2155866622924805]\n"
          ]
        },
        {
          "name": "stderr",
          "output_type": "stream",
          "text": [
            "\r  8%|▊         | 241/2900 [00:25<04:10, 10.62it/s]"
          ]
        },
        {
          "name": "stdout",
          "output_type": "stream",
          "text": [
            "239 [D loss: 0.2551797404885292] [G loss: 2.3287293910980225]\n",
            "240 [D loss: 0.2017872240394354] [G loss: 3.746601104736328]\n",
            "241 [D loss: 0.527426153421402] [G loss: 4.006302833557129]\n"
          ]
        },
        {
          "name": "stderr",
          "output_type": "stream",
          "text": [
            "\r  8%|▊         | 243/2900 [00:25<04:06, 10.79it/s]"
          ]
        },
        {
          "name": "stdout",
          "output_type": "stream",
          "text": [
            "242 [D loss: 0.1572021059691906] [G loss: 3.472820281982422]\n",
            "243 [D loss: 0.25788046419620514] [G loss: 3.307950973510742]\n"
          ]
        },
        {
          "name": "stderr",
          "output_type": "stream",
          "text": [
            "  9%|▊         | 247/2900 [00:25<04:10, 10.58it/s]"
          ]
        },
        {
          "name": "stdout",
          "output_type": "stream",
          "text": [
            "244 [D loss: 0.30615559220314026] [G loss: 3.007472515106201]\n",
            "245 [D loss: 0.20601661503314972] [G loss: 3.6851272583007812]\n",
            "246 [D loss: 1.171869307756424] [G loss: 1.4591772556304932]\n"
          ]
        },
        {
          "name": "stderr",
          "output_type": "stream",
          "text": [
            "\r  9%|▊         | 249/2900 [00:26<04:12, 10.51it/s]"
          ]
        },
        {
          "name": "stdout",
          "output_type": "stream",
          "text": [
            "247 [D loss: 0.2185500916093588] [G loss: 3.359279155731201]\n",
            "248 [D loss: 0.2511121854186058] [G loss: 4.173059940338135]\n",
            "249 [D loss: 0.47293736040592194] [G loss: 2.69649076461792]\n"
          ]
        },
        {
          "name": "stderr",
          "output_type": "stream",
          "text": [
            "  9%|▊         | 253/2900 [00:26<04:08, 10.64it/s]"
          ]
        },
        {
          "name": "stdout",
          "output_type": "stream",
          "text": [
            "250 [D loss: 0.20665555447340012] [G loss: 3.5979983806610107]\n",
            "251 [D loss: 0.3121751695871353] [G loss: 3.37257719039917]\n",
            "252 [D loss: 0.39425475895404816] [G loss: 4.3262176513671875]\n"
          ]
        },
        {
          "name": "stderr",
          "output_type": "stream",
          "text": [
            "\r  9%|▉         | 255/2900 [00:26<04:09, 10.60it/s]"
          ]
        },
        {
          "name": "stdout",
          "output_type": "stream",
          "text": [
            "253 [D loss: 0.3311845064163208] [G loss: 3.8283276557922363]\n",
            "254 [D loss: 0.26416367292404175] [G loss: 3.376436471939087]\n",
            "255 [D loss: 0.21284119784832] [G loss: 2.5764856338500977]\n"
          ]
        },
        {
          "name": "stderr",
          "output_type": "stream",
          "text": [
            "  9%|▉         | 259/2900 [00:27<04:06, 10.71it/s]"
          ]
        },
        {
          "name": "stdout",
          "output_type": "stream",
          "text": [
            "256 [D loss: 0.19792664051055908] [G loss: 4.090867042541504]\n",
            "257 [D loss: 1.5354046821594238] [G loss: 0.5482463836669922]\n",
            "258 [D loss: 0.8208171278238297] [G loss: 2.943997383117676]\n"
          ]
        },
        {
          "name": "stderr",
          "output_type": "stream",
          "text": [
            "\r  9%|▉         | 261/2900 [00:27<04:05, 10.75it/s]"
          ]
        },
        {
          "name": "stdout",
          "output_type": "stream",
          "text": [
            "259 [D loss: 0.593226969242096] [G loss: 2.7155466079711914]\n",
            "260 [D loss: 0.2042505219578743] [G loss: 2.971920967102051]\n",
            "261 [D loss: 0.5072420239448547] [G loss: 3.2602896690368652]\n"
          ]
        },
        {
          "name": "stderr",
          "output_type": "stream",
          "text": [
            "  9%|▉         | 265/2900 [00:27<04:01, 10.89it/s]"
          ]
        },
        {
          "name": "stdout",
          "output_type": "stream",
          "text": [
            "262 [D loss: 0.3519735634326935] [G loss: 3.026615619659424]\n",
            "263 [D loss: 0.28295935690402985] [G loss: 3.2348551750183105]\n",
            "264 [D loss: 0.4256586283445358] [G loss: 3.149840831756592]\n"
          ]
        },
        {
          "name": "stderr",
          "output_type": "stream",
          "text": [
            "\r  9%|▉         | 267/2900 [00:27<04:01, 10.92it/s]"
          ]
        },
        {
          "name": "stdout",
          "output_type": "stream",
          "text": [
            "265 [D loss: 0.3060375601053238] [G loss: 2.721329689025879]\n",
            "266 [D loss: 0.3828740790486336] [G loss: 3.926997423171997]\n",
            "267 [D loss: 1.2475629448890686] [G loss: 0.9369358420372009]\n"
          ]
        },
        {
          "name": "stderr",
          "output_type": "stream",
          "text": [
            "\r  9%|▉         | 269/2900 [00:28<04:04, 10.75it/s]"
          ]
        },
        {
          "name": "stdout",
          "output_type": "stream",
          "text": [
            "268 [D loss: 0.8371512964367867] [G loss: 3.8486366271972656]\n",
            "269 [D loss: 0.9583429098129272] [G loss: 1.6527929306030273]\n"
          ]
        },
        {
          "name": "stderr",
          "output_type": "stream",
          "text": [
            "  9%|▉         | 273/2900 [00:28<04:10, 10.49it/s]"
          ]
        },
        {
          "name": "stdout",
          "output_type": "stream",
          "text": [
            "270 [D loss: 0.27852684259414673] [G loss: 2.005229949951172]\n",
            "271 [D loss: 0.33486826717853546] [G loss: 3.4128153324127197]\n",
            "272 [D loss: 0.5700089335441589] [G loss: 2.2540245056152344]\n"
          ]
        },
        {
          "name": "stderr",
          "output_type": "stream",
          "text": [
            "\r  9%|▉         | 275/2900 [00:28<04:20, 10.08it/s]"
          ]
        },
        {
          "name": "stdout",
          "output_type": "stream",
          "text": [
            "273 [D loss: 0.2355658933520317] [G loss: 2.2625789642333984]\n",
            "274 [D loss: 0.47733931243419647] [G loss: 2.7704358100891113]\n",
            "275 [D loss: 0.475019246339798] [G loss: 2.2479844093322754]\n"
          ]
        },
        {
          "name": "stderr",
          "output_type": "stream",
          "text": [
            " 10%|▉         | 279/2900 [00:28<04:00, 10.90it/s]"
          ]
        },
        {
          "name": "stdout",
          "output_type": "stream",
          "text": [
            "276 [D loss: 0.23869404941797256] [G loss: 2.9531314373016357]\n",
            "277 [D loss: 0.5254398286342621] [G loss: 2.6178743839263916]\n",
            "278 [D loss: 0.34414204955101013] [G loss: 3.616253614425659]\n"
          ]
        },
        {
          "name": "stderr",
          "output_type": "stream",
          "text": [
            "\r 10%|▉         | 281/2900 [00:29<04:14, 10.29it/s]"
          ]
        },
        {
          "name": "stdout",
          "output_type": "stream",
          "text": [
            "279 [D loss: 0.5499780774116516] [G loss: 1.6485990285873413]\n",
            "280 [D loss: 0.3187248483300209] [G loss: 3.7786366939544678]\n",
            "281 [D loss: 1.0952646136283875] [G loss: 1.2739465236663818]\n"
          ]
        },
        {
          "name": "stderr",
          "output_type": "stream",
          "text": [
            " 10%|▉         | 285/2900 [00:29<04:05, 10.64it/s]"
          ]
        },
        {
          "name": "stdout",
          "output_type": "stream",
          "text": [
            "282 [D loss: 0.3700841888785362] [G loss: 2.7400388717651367]\n",
            "283 [D loss: 0.7065586149692535] [G loss: 1.987886667251587]\n",
            "284 [D loss: 0.23919551819562912] [G loss: 3.172104835510254]\n"
          ]
        },
        {
          "name": "stderr",
          "output_type": "stream",
          "text": [
            "\r 10%|▉         | 287/2900 [00:29<04:06, 10.62it/s]"
          ]
        },
        {
          "name": "stdout",
          "output_type": "stream",
          "text": [
            "285 [D loss: 0.4275358319282532] [G loss: 2.6863889694213867]\n",
            "286 [D loss: 0.3807947486639023] [G loss: 3.5269856452941895]\n",
            "287 [D loss: 0.6045843958854675] [G loss: 2.3300225734710693]\n"
          ]
        },
        {
          "name": "stderr",
          "output_type": "stream",
          "text": [
            " 10%|█         | 291/2900 [00:30<04:03, 10.71it/s]"
          ]
        },
        {
          "name": "stdout",
          "output_type": "stream",
          "text": [
            "288 [D loss: 0.26329921931028366] [G loss: 3.0736517906188965]\n",
            "289 [D loss: 0.7535361647605896] [G loss: 2.9141128063201904]\n",
            "290 [D loss: 0.5391605794429779] [G loss: 3.0570569038391113]\n"
          ]
        },
        {
          "name": "stderr",
          "output_type": "stream",
          "text": [
            "\r 10%|█         | 293/2900 [00:30<04:10, 10.41it/s]"
          ]
        },
        {
          "name": "stdout",
          "output_type": "stream",
          "text": [
            "291 [D loss: 0.5470120012760162] [G loss: 2.391355276107788]\n",
            "292 [D loss: 0.35204923152923584] [G loss: 4.21461296081543]\n",
            "293 [D loss: 1.6624018549919128] [G loss: 0.5684994459152222]\n"
          ]
        },
        {
          "name": "stderr",
          "output_type": "stream",
          "text": [
            " 10%|█         | 297/2900 [00:30<03:58, 10.94it/s]"
          ]
        },
        {
          "name": "stdout",
          "output_type": "stream",
          "text": [
            "294 [D loss: 0.5863503664731979] [G loss: 2.0739588737487793]\n",
            "295 [D loss: 0.4859645664691925] [G loss: 2.554978609085083]\n",
            "296 [D loss: 0.7129043340682983] [G loss: 2.5569872856140137]\n"
          ]
        },
        {
          "name": "stderr",
          "output_type": "stream",
          "text": [
            "\r 10%|█         | 299/2900 [00:30<03:59, 10.86it/s]"
          ]
        },
        {
          "name": "stdout",
          "output_type": "stream",
          "text": [
            "297 [D loss: 0.49665407836437225] [G loss: 2.3765158653259277]\n",
            "298 [D loss: 0.3738698959350586] [G loss: 2.148571491241455]\n",
            "299 [D loss: 0.29586878418922424] [G loss: 2.270049571990967]\n"
          ]
        },
        {
          "name": "stderr",
          "output_type": "stream",
          "text": [
            " 10%|█         | 303/2900 [00:31<04:04, 10.63it/s]"
          ]
        },
        {
          "name": "stdout",
          "output_type": "stream",
          "text": [
            "300 [D loss: 0.4006091356277466] [G loss: 2.4573588371276855]\n",
            "301 [D loss: 0.43328872323036194] [G loss: 2.3736438751220703]\n",
            "302 [D loss: 0.4706595242023468] [G loss: 2.657583475112915]\n"
          ]
        },
        {
          "name": "stderr",
          "output_type": "stream",
          "text": [
            "\r 11%|█         | 305/2900 [00:31<04:06, 10.52it/s]"
          ]
        },
        {
          "name": "stdout",
          "output_type": "stream",
          "text": [
            "303 [D loss: 0.5637240260839462] [G loss: 3.3325631618499756]\n",
            "304 [D loss: 0.9181846082210541] [G loss: 1.5098353624343872]\n",
            "305 [D loss: 0.4199031889438629] [G loss: 3.552900552749634]\n"
          ]
        },
        {
          "name": "stderr",
          "output_type": "stream",
          "text": [
            " 11%|█         | 309/2900 [00:31<04:04, 10.59it/s]"
          ]
        },
        {
          "name": "stdout",
          "output_type": "stream",
          "text": [
            "306 [D loss: 1.218136966228485] [G loss: 1.3291971683502197]\n",
            "307 [D loss: 0.39979222416877747] [G loss: 2.77012300491333]\n",
            "308 [D loss: 0.721007227897644] [G loss: 1.454127550125122]\n"
          ]
        },
        {
          "name": "stderr",
          "output_type": "stream",
          "text": [
            "\r 11%|█         | 311/2900 [00:32<04:04, 10.60it/s]"
          ]
        },
        {
          "name": "stdout",
          "output_type": "stream",
          "text": [
            "309 [D loss: 0.43977007269859314] [G loss: 3.2447099685668945]\n",
            "310 [D loss: 0.7196281254291534] [G loss: 1.6642805337905884]\n",
            "311 [D loss: 0.32621993869543076] [G loss: 2.8297793865203857]\n"
          ]
        },
        {
          "name": "stderr",
          "output_type": "stream",
          "text": [
            " 11%|█         | 315/2900 [00:32<04:06, 10.49it/s]"
          ]
        },
        {
          "name": "stdout",
          "output_type": "stream",
          "text": [
            "312 [D loss: 0.6340657770633698] [G loss: 2.784290313720703]\n",
            "313 [D loss: 0.4459851384162903] [G loss: 2.748255729675293]\n",
            "314 [D loss: 0.8345499634742737] [G loss: 2.273012161254883]\n"
          ]
        },
        {
          "name": "stderr",
          "output_type": "stream",
          "text": [
            "\r 11%|█         | 317/2900 [00:32<04:15, 10.13it/s]"
          ]
        },
        {
          "name": "stdout",
          "output_type": "stream",
          "text": [
            "315 [D loss: 0.37734830379486084] [G loss: 2.8697004318237305]\n",
            "316 [D loss: 0.8430871963500977] [G loss: 2.0876059532165527]\n",
            "317 [D loss: 0.4407311677932739] [G loss: 2.1674206256866455]\n"
          ]
        },
        {
          "name": "stderr",
          "output_type": "stream",
          "text": [
            " 11%|█         | 321/2900 [00:33<04:06, 10.44it/s]"
          ]
        },
        {
          "name": "stdout",
          "output_type": "stream",
          "text": [
            "318 [D loss: 0.5122435092926025] [G loss: 3.1787142753601074]\n",
            "319 [D loss: 0.8764906227588654] [G loss: 1.3221368789672852]\n",
            "320 [D loss: 0.5552520155906677] [G loss: 2.0689926147460938]\n"
          ]
        },
        {
          "name": "stderr",
          "output_type": "stream",
          "text": [
            "\r 11%|█         | 323/2900 [00:33<04:11, 10.23it/s]"
          ]
        },
        {
          "name": "stdout",
          "output_type": "stream",
          "text": [
            "321 [D loss: 0.5254239439964294] [G loss: 2.6439714431762695]\n",
            "322 [D loss: 0.5453663766384125] [G loss: 2.5407214164733887]\n"
          ]
        },
        {
          "name": "stderr",
          "output_type": "stream",
          "text": [
            "\r 11%|█         | 325/2900 [00:33<04:11, 10.24it/s]"
          ]
        },
        {
          "name": "stdout",
          "output_type": "stream",
          "text": [
            "323 [D loss: 0.5050168633460999] [G loss: 3.042564868927002]\n",
            "324 [D loss: 0.7408183515071869] [G loss: 1.675120234489441]\n",
            "325 [D loss: 0.4678274691104889] [G loss: 3.0375356674194336]\n"
          ]
        },
        {
          "name": "stderr",
          "output_type": "stream",
          "text": [
            " 11%|█▏        | 329/2900 [00:33<04:03, 10.57it/s]"
          ]
        },
        {
          "name": "stdout",
          "output_type": "stream",
          "text": [
            "326 [D loss: 1.0947169065475464] [G loss: 1.3887019157409668]\n",
            "327 [D loss: 0.47812172770500183] [G loss: 3.5126118659973145]\n",
            "328 [D loss: 1.505097210407257] [G loss: 0.646382212638855]\n"
          ]
        },
        {
          "name": "stderr",
          "output_type": "stream",
          "text": [
            "\r 11%|█▏        | 331/2900 [00:33<03:58, 10.78it/s]"
          ]
        },
        {
          "name": "stdout",
          "output_type": "stream",
          "text": [
            "329 [D loss: 0.7341189756989479] [G loss: 1.6480011940002441]\n",
            "330 [D loss: 0.5943788886070251] [G loss: 2.2483506202697754]\n",
            "331 [D loss: 0.6198886632919312] [G loss: 1.8970470428466797]\n"
          ]
        },
        {
          "name": "stderr",
          "output_type": "stream",
          "text": [
            " 12%|█▏        | 335/2900 [00:34<03:57, 10.82it/s]"
          ]
        },
        {
          "name": "stdout",
          "output_type": "stream",
          "text": [
            "332 [D loss: 0.5567613244056702] [G loss: 1.8996000289916992]\n",
            "333 [D loss: 0.4575723260641098] [G loss: 2.245513916015625]\n",
            "334 [D loss: 0.6027790904045105] [G loss: 2.3004636764526367]\n"
          ]
        },
        {
          "name": "stderr",
          "output_type": "stream",
          "text": [
            "\r 12%|█▏        | 337/2900 [00:34<03:58, 10.74it/s]"
          ]
        },
        {
          "name": "stdout",
          "output_type": "stream",
          "text": [
            "335 [D loss: 0.5579136162996292] [G loss: 2.3352749347686768]\n",
            "336 [D loss: 0.6307645440101624] [G loss: 2.193920612335205]\n",
            "337 [D loss: 0.6501764953136444] [G loss: 2.1670265197753906]\n"
          ]
        },
        {
          "name": "stderr",
          "output_type": "stream",
          "text": [
            " 12%|█▏        | 341/2900 [00:34<03:55, 10.87it/s]"
          ]
        },
        {
          "name": "stdout",
          "output_type": "stream",
          "text": [
            "338 [D loss: 0.7088603079319] [G loss: 2.3036251068115234]\n",
            "339 [D loss: 0.7474572956562042] [G loss: 1.7684295177459717]\n",
            "340 [D loss: 0.6488729119300842] [G loss: 2.024550676345825]\n"
          ]
        },
        {
          "name": "stderr",
          "output_type": "stream",
          "text": [
            "\r 12%|█▏        | 343/2900 [00:35<03:53, 10.95it/s]"
          ]
        },
        {
          "name": "stdout",
          "output_type": "stream",
          "text": [
            "341 [D loss: 0.732900470495224] [G loss: 2.077347755432129]\n",
            "342 [D loss: 0.6661130785942078] [G loss: 2.3825345039367676]\n",
            "343 [D loss: 0.9206726253032684] [G loss: 1.1710320711135864]\n"
          ]
        },
        {
          "name": "stderr",
          "output_type": "stream",
          "text": [
            " 12%|█▏        | 347/2900 [00:35<04:01, 10.57it/s]"
          ]
        },
        {
          "name": "stdout",
          "output_type": "stream",
          "text": [
            "344 [D loss: 0.5990420877933502] [G loss: 2.5899624824523926]\n",
            "345 [D loss: 0.98051917552948] [G loss: 1.139888048171997]\n",
            "346 [D loss: 0.6829692423343658] [G loss: 2.336566686630249]\n"
          ]
        },
        {
          "name": "stderr",
          "output_type": "stream",
          "text": [
            "\r 12%|█▏        | 349/2900 [00:35<04:04, 10.43it/s]"
          ]
        },
        {
          "name": "stdout",
          "output_type": "stream",
          "text": [
            "347 [D loss: 0.9815970361232758] [G loss: 1.3732550144195557]\n",
            "348 [D loss: 0.5659231841564178] [G loss: 1.6400431394577026]\n",
            "349 [D loss: 0.5196221172809601] [G loss: 1.4938993453979492]\n"
          ]
        },
        {
          "name": "stderr",
          "output_type": "stream",
          "text": [
            " 12%|█▏        | 353/2900 [00:35<03:56, 10.76it/s]"
          ]
        },
        {
          "name": "stdout",
          "output_type": "stream",
          "text": [
            "350 [D loss: 0.5200681686401367] [G loss: 2.1387970447540283]\n",
            "351 [D loss: 0.7027785181999207] [G loss: 1.787262201309204]\n",
            "352 [D loss: 0.7263080179691315] [G loss: 1.8849313259124756]\n"
          ]
        },
        {
          "name": "stderr",
          "output_type": "stream",
          "text": [
            "\r 12%|█▏        | 355/2900 [00:36<04:08, 10.23it/s]"
          ]
        },
        {
          "name": "stdout",
          "output_type": "stream",
          "text": [
            "353 [D loss: 0.6952908039093018] [G loss: 1.638406753540039]\n",
            "354 [D loss: 0.6576128005981445] [G loss: 2.136218309402466]\n"
          ]
        },
        {
          "name": "stderr",
          "output_type": "stream",
          "text": [
            "\r 12%|█▏        | 357/2900 [00:36<04:19,  9.79it/s]"
          ]
        },
        {
          "name": "stdout",
          "output_type": "stream",
          "text": [
            "355 [D loss: 0.7000706791877747] [G loss: 1.3425168991088867]\n",
            "356 [D loss: 0.5588821768760681] [G loss: 1.9564207792282104]\n"
          ]
        },
        {
          "name": "stderr",
          "output_type": "stream",
          "text": [
            " 12%|█▏        | 360/2900 [00:36<04:09, 10.19it/s]"
          ]
        },
        {
          "name": "stdout",
          "output_type": "stream",
          "text": [
            "357 [D loss: 0.7030551135540009] [G loss: 1.4543993473052979]\n",
            "358 [D loss: 0.5912663340568542] [G loss: 2.1106817722320557]\n",
            "359 [D loss: 0.6455277800559998] [G loss: 1.4620325565338135]\n"
          ]
        },
        {
          "name": "stderr",
          "output_type": "stream",
          "text": [
            "\r 12%|█▏        | 362/2900 [00:36<04:07, 10.27it/s]"
          ]
        },
        {
          "name": "stdout",
          "output_type": "stream",
          "text": [
            "360 [D loss: 0.5992176532745361] [G loss: 2.245882034301758]\n",
            "361 [D loss: 0.7991809844970703] [G loss: 1.552170753479004]\n",
            "362 [D loss: 0.5898666679859161] [G loss: 2.0931038856506348]\n"
          ]
        },
        {
          "name": "stderr",
          "output_type": "stream",
          "text": [
            " 13%|█▎        | 366/2900 [00:37<03:57, 10.69it/s]"
          ]
        },
        {
          "name": "stdout",
          "output_type": "stream",
          "text": [
            "363 [D loss: 0.7650512158870697] [G loss: 1.4685964584350586]\n",
            "364 [D loss: 0.6366667151451111] [G loss: 2.20945143699646]\n",
            "365 [D loss: 0.763512372970581] [G loss: 1.3766758441925049]\n"
          ]
        },
        {
          "name": "stderr",
          "output_type": "stream",
          "text": [
            "\r 13%|█▎        | 368/2900 [00:37<04:03, 10.41it/s]"
          ]
        },
        {
          "name": "stdout",
          "output_type": "stream",
          "text": [
            "366 [D loss: 0.6173898279666901] [G loss: 2.3463683128356934]\n",
            "367 [D loss: 0.8325026035308838] [G loss: 1.3331210613250732]\n",
            "368 [D loss: 0.6326796114444733] [G loss: 2.375255584716797]\n"
          ]
        },
        {
          "name": "stderr",
          "output_type": "stream",
          "text": [
            " 13%|█▎        | 372/2900 [00:37<04:06, 10.26it/s]"
          ]
        },
        {
          "name": "stdout",
          "output_type": "stream",
          "text": [
            "369 [D loss: 0.9319227933883667] [G loss: 1.1474207639694214]\n",
            "370 [D loss: 0.5951848924160004] [G loss: 2.3954877853393555]\n",
            "371 [D loss: 1.0501282811164856] [G loss: 1.00483238697052]\n"
          ]
        },
        {
          "name": "stderr",
          "output_type": "stream",
          "text": [
            "\r 13%|█▎        | 374/2900 [00:38<04:07, 10.19it/s]"
          ]
        },
        {
          "name": "stdout",
          "output_type": "stream",
          "text": [
            "372 [D loss: 0.6706173419952393] [G loss: 1.7039271593093872]\n",
            "373 [D loss: 0.8125278949737549] [G loss: 1.385611653327942]\n",
            "374 [D loss: 0.6574757695198059] [G loss: 1.781189203262329]\n"
          ]
        },
        {
          "name": "stderr",
          "output_type": "stream",
          "text": [
            " 13%|█▎        | 378/2900 [00:38<04:03, 10.37it/s]"
          ]
        },
        {
          "name": "stdout",
          "output_type": "stream",
          "text": [
            "375 [D loss: 0.764592319726944] [G loss: 1.5917189121246338]\n",
            "376 [D loss: 0.7294031083583832] [G loss: 1.551826000213623]\n",
            "377 [D loss: 0.700558066368103] [G loss: 1.6759867668151855]\n"
          ]
        },
        {
          "name": "stderr",
          "output_type": "stream",
          "text": [
            "\r 13%|█▎        | 380/2900 [00:38<03:57, 10.59it/s]"
          ]
        },
        {
          "name": "stdout",
          "output_type": "stream",
          "text": [
            "378 [D loss: 0.6695017218589783] [G loss: 1.7175564765930176]\n",
            "379 [D loss: 0.6883177757263184] [G loss: 1.8593437671661377]\n",
            "380 [D loss: 0.6963097751140594] [G loss: 1.5859436988830566]\n"
          ]
        },
        {
          "name": "stderr",
          "output_type": "stream",
          "text": [
            "\r 13%|█▎        | 382/2900 [00:38<03:55, 10.69it/s]"
          ]
        },
        {
          "name": "stdout",
          "output_type": "stream",
          "text": [
            "381 [D loss: 0.6858990788459778] [G loss: 1.9425818920135498]\n",
            "382 [D loss: 0.7622277736663818] [G loss: 1.6534771919250488]\n"
          ]
        },
        {
          "name": "stderr",
          "output_type": "stream",
          "text": [
            " 13%|█▎        | 386/2900 [00:39<03:59, 10.51it/s]"
          ]
        },
        {
          "name": "stdout",
          "output_type": "stream",
          "text": [
            "383 [D loss: 0.7627174258232117] [G loss: 1.5788447856903076]\n",
            "384 [D loss: 0.6934688091278076] [G loss: 1.7399793863296509]\n",
            "385 [D loss: 0.8023998141288757] [G loss: 1.5812599658966064]\n"
          ]
        },
        {
          "name": "stderr",
          "output_type": "stream",
          "text": [
            "\r 13%|█▎        | 388/2900 [00:39<03:59, 10.47it/s]"
          ]
        },
        {
          "name": "stdout",
          "output_type": "stream",
          "text": [
            "386 [D loss: 0.72333163022995] [G loss: 1.930045247077942]\n",
            "387 [D loss: 0.7626650631427765] [G loss: 1.4491937160491943]\n",
            "388 [D loss: 0.6946864128112793] [G loss: 1.801499605178833]\n"
          ]
        },
        {
          "name": "stderr",
          "output_type": "stream",
          "text": [
            " 14%|█▎        | 392/2900 [00:39<03:57, 10.57it/s]"
          ]
        },
        {
          "name": "stdout",
          "output_type": "stream",
          "text": [
            "389 [D loss: 0.788284182548523] [G loss: 1.3639099597930908]\n",
            "390 [D loss: 0.6845731139183044] [G loss: 1.8608887195587158]\n",
            "391 [D loss: 0.8402853608131409] [G loss: 1.3818094730377197]\n"
          ]
        },
        {
          "name": "stderr",
          "output_type": "stream",
          "text": [
            "\r 14%|█▎        | 394/2900 [00:39<03:54, 10.68it/s]"
          ]
        },
        {
          "name": "stdout",
          "output_type": "stream",
          "text": [
            "392 [D loss: 0.6722258627414703] [G loss: 1.9083447456359863]\n",
            "393 [D loss: 0.8553817868232727] [G loss: 1.222259521484375]\n",
            "394 [D loss: 0.7175599932670593] [G loss: 1.7248713970184326]\n"
          ]
        },
        {
          "name": "stderr",
          "output_type": "stream",
          "text": [
            "\r 14%|█▎        | 396/2900 [00:40<03:57, 10.56it/s]"
          ]
        },
        {
          "name": "stdout",
          "output_type": "stream",
          "text": [
            "395 [D loss: 0.8493026196956635] [G loss: 1.4335410594940186]\n",
            "396 [D loss: 0.726753443479538] [G loss: 1.6901276111602783]\n"
          ]
        },
        {
          "name": "stderr",
          "output_type": "stream",
          "text": [
            "\r 14%|█▎        | 398/2900 [00:40<04:01, 10.35it/s]"
          ]
        },
        {
          "name": "stdout",
          "output_type": "stream",
          "text": [
            "397 [D loss: 0.7477975487709045] [G loss: 1.390063762664795]\n",
            "398 [D loss: 0.6717482209205627] [G loss: 1.605262279510498]\n"
          ]
        },
        {
          "name": "stderr",
          "output_type": "stream",
          "text": [
            " 14%|█▍        | 402/2900 [00:40<04:04, 10.22it/s]"
          ]
        },
        {
          "name": "stdout",
          "output_type": "stream",
          "text": [
            "399 [D loss: 0.7585480511188507] [G loss: 1.4416182041168213]\n",
            "400 [D loss: 0.8090314865112305] [G loss: 1.2210716009140015]\n",
            "401 [D loss: 0.6911458671092987] [G loss: 1.7819604873657227]\n"
          ]
        },
        {
          "name": "stderr",
          "output_type": "stream",
          "text": [
            "\r 14%|█▍        | 404/2900 [00:40<04:04, 10.22it/s]"
          ]
        },
        {
          "name": "stdout",
          "output_type": "stream",
          "text": [
            "402 [D loss: 0.840965211391449] [G loss: 1.2026770114898682]\n",
            "403 [D loss: 0.6884004771709442] [G loss: 1.6804306507110596]\n",
            "404 [D loss: 0.8078797459602356] [G loss: 1.1507182121276855]\n"
          ]
        },
        {
          "name": "stderr",
          "output_type": "stream",
          "text": [
            " 14%|█▍        | 408/2900 [00:41<03:54, 10.63it/s]"
          ]
        },
        {
          "name": "stdout",
          "output_type": "stream",
          "text": [
            "405 [D loss: 0.7118476927280426] [G loss: 1.7507169246673584]\n",
            "406 [D loss: 0.8294860124588013] [G loss: 1.0957443714141846]\n",
            "407 [D loss: 0.6897248923778534] [G loss: 1.730893850326538]\n"
          ]
        },
        {
          "name": "stderr",
          "output_type": "stream",
          "text": [
            "\r 14%|█▍        | 410/2900 [00:41<03:54, 10.62it/s]"
          ]
        },
        {
          "name": "stdout",
          "output_type": "stream",
          "text": [
            "408 [D loss: 0.820084273815155] [G loss: 1.259415626525879]\n",
            "409 [D loss: 0.672416627407074] [G loss: 1.7235933542251587]\n",
            "410 [D loss: 0.7790455222129822] [G loss: 1.3915376663208008]\n"
          ]
        },
        {
          "name": "stderr",
          "output_type": "stream",
          "text": [
            " 14%|█▍        | 414/2900 [00:41<03:52, 10.70it/s]"
          ]
        },
        {
          "name": "stdout",
          "output_type": "stream",
          "text": [
            "411 [D loss: 0.686832070350647] [G loss: 1.6265206336975098]\n",
            "412 [D loss: 0.7292798459529877] [G loss: 1.621589183807373]\n",
            "413 [D loss: 0.7568877339363098] [G loss: 1.4619865417480469]\n"
          ]
        },
        {
          "name": "stderr",
          "output_type": "stream",
          "text": [
            "\r 14%|█▍        | 416/2900 [00:42<03:51, 10.75it/s]"
          ]
        },
        {
          "name": "stdout",
          "output_type": "stream",
          "text": [
            "414 [D loss: 0.724583625793457] [G loss: 1.4032998085021973]\n",
            "415 [D loss: 0.6898708045482635] [G loss: 1.5742534399032593]\n",
            "416 [D loss: 0.7535850405693054] [G loss: 1.2476022243499756]\n"
          ]
        },
        {
          "name": "stderr",
          "output_type": "stream",
          "text": [
            " 14%|█▍        | 420/2900 [00:42<04:04, 10.13it/s]"
          ]
        },
        {
          "name": "stdout",
          "output_type": "stream",
          "text": [
            "417 [D loss: 0.6873290538787842] [G loss: 1.667555332183838]\n",
            "418 [D loss: 0.7981585562229156] [G loss: 1.2737324237823486]\n",
            "419 [D loss: 0.6637592613697052] [G loss: 1.6797642707824707]\n"
          ]
        },
        {
          "name": "stderr",
          "output_type": "stream",
          "text": [
            "\r 15%|█▍        | 422/2900 [00:42<04:03, 10.16it/s]"
          ]
        },
        {
          "name": "stdout",
          "output_type": "stream",
          "text": [
            "420 [D loss: 0.753507673740387] [G loss: 1.4180676937103271]\n",
            "421 [D loss: 0.7035897672176361] [G loss: 1.6695008277893066]\n",
            "422 [D loss: 0.7821846008300781] [G loss: 1.2872681617736816]\n"
          ]
        },
        {
          "name": "stderr",
          "output_type": "stream",
          "text": [
            " 15%|█▍        | 426/2900 [00:43<03:50, 10.74it/s]"
          ]
        },
        {
          "name": "stdout",
          "output_type": "stream",
          "text": [
            "423 [D loss: 0.7432760298252106] [G loss: 1.432659387588501]\n",
            "424 [D loss: 0.7400127053260803] [G loss: 1.5525133609771729]\n",
            "425 [D loss: 0.7805553078651428] [G loss: 1.3118683099746704]\n"
          ]
        },
        {
          "name": "stderr",
          "output_type": "stream",
          "text": [
            "\r 15%|█▍        | 428/2900 [00:43<03:54, 10.53it/s]"
          ]
        },
        {
          "name": "stdout",
          "output_type": "stream",
          "text": [
            "426 [D loss: 0.7427013218402863] [G loss: 1.42808198928833]\n",
            "427 [D loss: 0.7675778269767761] [G loss: 1.3342413902282715]\n",
            "428 [D loss: 0.7060987651348114] [G loss: 1.4857327938079834]\n"
          ]
        },
        {
          "name": "stderr",
          "output_type": "stream",
          "text": [
            " 15%|█▍        | 432/2900 [00:43<03:55, 10.50it/s]"
          ]
        },
        {
          "name": "stdout",
          "output_type": "stream",
          "text": [
            "429 [D loss: 0.7125751078128815] [G loss: 1.4682731628417969]\n",
            "430 [D loss: 0.7683489918708801] [G loss: 1.407141923904419]\n",
            "431 [D loss: 0.7104603350162506] [G loss: 1.637476921081543]\n"
          ]
        },
        {
          "name": "stderr",
          "output_type": "stream",
          "text": [
            "\r 15%|█▍        | 434/2900 [00:43<03:54, 10.50it/s]"
          ]
        },
        {
          "name": "stdout",
          "output_type": "stream",
          "text": [
            "432 [D loss: 0.768306702375412] [G loss: 1.330610990524292]\n",
            "433 [D loss: 0.6947270631790161] [G loss: 1.6073824167251587]\n"
          ]
        },
        {
          "name": "stderr",
          "output_type": "stream",
          "text": [
            "\r 15%|█▌        | 436/2900 [00:44<04:02, 10.16it/s]"
          ]
        },
        {
          "name": "stdout",
          "output_type": "stream",
          "text": [
            "434 [D loss: 0.8155015110969543] [G loss: 1.1890181303024292]\n",
            "435 [D loss: 0.7716613709926605] [G loss: 1.293168067932129]\n",
            "436 [D loss: 0.7380733489990234] [G loss: 1.4760758876800537]\n"
          ]
        },
        {
          "name": "stderr",
          "output_type": "stream",
          "text": [
            " 15%|█▌        | 440/2900 [00:44<03:57, 10.35it/s]"
          ]
        },
        {
          "name": "stdout",
          "output_type": "stream",
          "text": [
            "437 [D loss: 0.7384957075119019] [G loss: 1.455786943435669]\n",
            "438 [D loss: 0.7242347896099091] [G loss: 1.6747336387634277]\n",
            "439 [D loss: 0.8165324032306671] [G loss: 1.2121505737304688]\n"
          ]
        },
        {
          "name": "stderr",
          "output_type": "stream",
          "text": [
            "\r 15%|█▌        | 442/2900 [00:44<04:12,  9.72it/s]"
          ]
        },
        {
          "name": "stdout",
          "output_type": "stream",
          "text": [
            "440 [D loss: 0.7535594999790192] [G loss: 1.4311785697937012]\n",
            "441 [D loss: 0.8060384392738342] [G loss: 1.193389892578125]\n",
            "442 [D loss: 0.7282840609550476] [G loss: 1.3698512315750122]\n"
          ]
        },
        {
          "name": "stderr",
          "output_type": "stream",
          "text": [
            " 15%|█▌        | 446/2900 [00:44<03:58, 10.28it/s]"
          ]
        },
        {
          "name": "stdout",
          "output_type": "stream",
          "text": [
            "443 [D loss: 0.7314787209033966] [G loss: 1.3643760681152344]\n",
            "444 [D loss: 0.7249387204647064] [G loss: 1.4342275857925415]\n",
            "445 [D loss: 0.7762558460235596] [G loss: 1.2506632804870605]\n"
          ]
        },
        {
          "name": "stderr",
          "output_type": "stream",
          "text": [
            "\r 15%|█▌        | 448/2900 [00:45<03:58, 10.29it/s]"
          ]
        },
        {
          "name": "stdout",
          "output_type": "stream",
          "text": [
            "446 [D loss: 0.7029143571853638] [G loss: 1.3638709783554077]\n",
            "447 [D loss: 0.7531142830848694] [G loss: 1.3432341814041138]\n",
            "448 [D loss: 0.7530296146869659] [G loss: 1.3118659257888794]\n"
          ]
        },
        {
          "name": "stderr",
          "output_type": "stream",
          "text": [
            " 16%|█▌        | 452/2900 [00:45<03:52, 10.53it/s]"
          ]
        },
        {
          "name": "stdout",
          "output_type": "stream",
          "text": [
            "449 [D loss: 0.7339855134487152] [G loss: 1.3060611486434937]\n",
            "450 [D loss: 0.7395126223564148] [G loss: 1.3423891067504883]\n",
            "451 [D loss: 0.7164660096168518] [G loss: 1.496788501739502]\n"
          ]
        },
        {
          "name": "stderr",
          "output_type": "stream",
          "text": [
            "\r 16%|█▌        | 454/2900 [00:45<03:47, 10.76it/s]"
          ]
        },
        {
          "name": "stdout",
          "output_type": "stream",
          "text": [
            "452 [D loss: 0.7570403814315796] [G loss: 1.372257947921753]\n",
            "453 [D loss: 0.7313121259212494] [G loss: 1.3357166051864624]\n",
            "454 [D loss: 0.7623881101608276] [G loss: 1.285143256187439]\n"
          ]
        },
        {
          "name": "stderr",
          "output_type": "stream",
          "text": [
            " 16%|█▌        | 458/2900 [00:46<03:43, 10.95it/s]"
          ]
        },
        {
          "name": "stdout",
          "output_type": "stream",
          "text": [
            "455 [D loss: 0.7301681041717529] [G loss: 1.273108720779419]\n",
            "456 [D loss: 0.7250027060508728] [G loss: 1.5471065044403076]\n",
            "457 [D loss: 0.76747065782547] [G loss: 1.2128725051879883]\n"
          ]
        },
        {
          "name": "stderr",
          "output_type": "stream",
          "text": [
            "\r 16%|█▌        | 460/2900 [00:46<03:43, 10.93it/s]"
          ]
        },
        {
          "name": "stdout",
          "output_type": "stream",
          "text": [
            "458 [D loss: 0.7170460522174835] [G loss: 1.2314610481262207]\n",
            "459 [D loss: 0.7385791838169098] [G loss: 1.4477994441986084]\n",
            "460 [D loss: 0.8004796802997589] [G loss: 1.1894724369049072]\n"
          ]
        },
        {
          "name": "stderr",
          "output_type": "stream",
          "text": [
            " 16%|█▌        | 464/2900 [00:46<03:45, 10.81it/s]"
          ]
        },
        {
          "name": "stdout",
          "output_type": "stream",
          "text": [
            "461 [D loss: 0.7469991445541382] [G loss: 1.2380802631378174]\n",
            "462 [D loss: 0.745019793510437] [G loss: 1.214202880859375]\n",
            "463 [D loss: 0.7083244919776917] [G loss: 1.4954050779342651]\n"
          ]
        },
        {
          "name": "stderr",
          "output_type": "stream",
          "text": [
            "\r 16%|█▌        | 466/2900 [00:46<03:46, 10.72it/s]"
          ]
        },
        {
          "name": "stdout",
          "output_type": "stream",
          "text": [
            "464 [D loss: 0.8030799627304077] [G loss: 1.1228091716766357]\n",
            "465 [D loss: 0.7132750451564789] [G loss: 1.308218240737915]\n",
            "466 [D loss: 0.7304225265979767] [G loss: 1.3114030361175537]\n"
          ]
        },
        {
          "name": "stderr",
          "output_type": "stream",
          "text": [
            " 16%|█▌        | 470/2900 [00:47<03:51, 10.49it/s]"
          ]
        },
        {
          "name": "stdout",
          "output_type": "stream",
          "text": [
            "467 [D loss: 0.756292998790741] [G loss: 1.464048147201538]\n",
            "468 [D loss: 0.7387893497943878] [G loss: 1.4339344501495361]\n",
            "469 [D loss: 0.7477762401103973] [G loss: 1.4148948192596436]\n"
          ]
        },
        {
          "name": "stderr",
          "output_type": "stream",
          "text": [
            "\r 16%|█▋        | 472/2900 [00:47<03:52, 10.43it/s]"
          ]
        },
        {
          "name": "stdout",
          "output_type": "stream",
          "text": [
            "470 [D loss: 0.7544699609279633] [G loss: 1.2346367835998535]\n",
            "471 [D loss: 0.7430602610111237] [G loss: 1.2664647102355957]\n"
          ]
        },
        {
          "name": "stderr",
          "output_type": "stream",
          "text": [
            "\r 16%|█▋        | 474/2900 [00:47<03:57, 10.20it/s]"
          ]
        },
        {
          "name": "stdout",
          "output_type": "stream",
          "text": [
            "472 [D loss: 0.7398056387901306] [G loss: 1.2976981401443481]\n",
            "473 [D loss: 0.7244928479194641] [G loss: 1.4132323265075684]\n",
            "474 [D loss: 0.7656789124011993] [G loss: 1.210399866104126]\n"
          ]
        },
        {
          "name": "stderr",
          "output_type": "stream",
          "text": [
            "\r 16%|█▋        | 476/2900 [00:47<03:54, 10.36it/s]"
          ]
        },
        {
          "name": "stdout",
          "output_type": "stream",
          "text": [
            "475 [D loss: 0.7247252464294434] [G loss: 1.5368696451187134]\n"
          ]
        },
        {
          "name": "stderr",
          "output_type": "stream",
          "text": [
            "\r 16%|█▋        | 478/2900 [00:48<05:30,  7.34it/s]"
          ]
        },
        {
          "name": "stdout",
          "output_type": "stream",
          "text": [
            "476 [D loss: 0.8196425139904022] [G loss: 1.0783851146697998]\n",
            "477 [D loss: 0.7255010604858398] [G loss: 1.2273266315460205]\n",
            "478 [D loss: 0.719957560300827] [G loss: 1.3725929260253906]\n"
          ]
        },
        {
          "name": "stderr",
          "output_type": "stream",
          "text": [
            "\r 17%|█▋        | 480/2900 [00:48<04:54,  8.22it/s]"
          ]
        },
        {
          "name": "stdout",
          "output_type": "stream",
          "text": [
            "479 [D loss: 0.7414021193981171] [G loss: 1.2960858345031738]\n",
            "480 [D loss: 0.7225682735443115] [G loss: 1.3751964569091797]\n",
            "481 [D loss: 0.7604019045829773] [G loss: 1.1516538858413696]\n"
          ]
        },
        {
          "name": "stderr",
          "output_type": "stream",
          "text": [
            " 17%|█▋        | 484/2900 [00:48<04:35,  8.76it/s]"
          ]
        },
        {
          "name": "stdout",
          "output_type": "stream",
          "text": [
            "482 [D loss: 0.7158063650131226] [G loss: 1.3087506294250488]\n",
            "483 [D loss: 0.7554279565811157] [G loss: 1.1417326927185059]\n"
          ]
        },
        {
          "name": "stderr",
          "output_type": "stream",
          "text": [
            " 17%|█▋        | 487/2900 [00:49<04:18,  9.33it/s]"
          ]
        },
        {
          "name": "stdout",
          "output_type": "stream",
          "text": [
            "484 [D loss: 0.7076152265071869] [G loss: 1.2755310535430908]\n",
            "485 [D loss: 0.7706360816955566] [G loss: 1.1445496082305908]\n",
            "486 [D loss: 0.712035745382309] [G loss: 1.3266162872314453]\n"
          ]
        },
        {
          "name": "stderr",
          "output_type": "stream",
          "text": [
            " 17%|█▋        | 490/2900 [00:49<04:04,  9.84it/s]"
          ]
        },
        {
          "name": "stdout",
          "output_type": "stream",
          "text": [
            "487 [D loss: 0.753793478012085] [G loss: 1.270873785018921]\n",
            "488 [D loss: 0.7310080528259277] [G loss: 1.2637360095977783]\n",
            "489 [D loss: 0.7377913296222687] [G loss: 1.23528254032135]\n"
          ]
        },
        {
          "name": "stderr",
          "output_type": "stream",
          "text": [
            " 17%|█▋        | 492/2900 [00:49<04:06,  9.76it/s]"
          ]
        },
        {
          "name": "stdout",
          "output_type": "stream",
          "text": [
            "490 [D loss: 0.7408739328384399] [G loss: 1.3354072570800781]\n",
            "491 [D loss: 0.750531017780304] [G loss: 1.2123191356658936]\n"
          ]
        },
        {
          "name": "stderr",
          "output_type": "stream",
          "text": [
            " 17%|█▋        | 494/2900 [00:49<04:06,  9.76it/s]"
          ]
        },
        {
          "name": "stdout",
          "output_type": "stream",
          "text": [
            "492 [D loss: 0.7236487865447998] [G loss: 1.3737760782241821]\n",
            "493 [D loss: 0.7429719269275665] [G loss: 1.2390327453613281]\n",
            "494 [D loss: 0.7254313826560974] [G loss: 1.2991349697113037]\n"
          ]
        },
        {
          "name": "stderr",
          "output_type": "stream",
          "text": [
            " 17%|█▋        | 498/2900 [00:50<03:46, 10.62it/s]"
          ]
        },
        {
          "name": "stdout",
          "output_type": "stream",
          "text": [
            "495 [D loss: 0.7347475290298462] [G loss: 1.2391271591186523]\n",
            "496 [D loss: 0.7208212316036224] [G loss: 1.187750220298767]\n",
            "497 [D loss: 0.7135037183761597] [G loss: 1.3447411060333252]\n"
          ]
        },
        {
          "name": "stderr",
          "output_type": "stream",
          "text": [
            "\r 17%|█▋        | 500/2900 [00:50<03:46, 10.60it/s]"
          ]
        },
        {
          "name": "stdout",
          "output_type": "stream",
          "text": [
            "498 [D loss: 0.7431198358535767] [G loss: 1.2172341346740723]\n",
            "499 [D loss: 0.7296875715255737] [G loss: 1.3033080101013184]\n",
            "500 [D loss: 0.7251612842082977] [G loss: 1.3186755180358887]\n"
          ]
        },
        {
          "name": "stderr",
          "output_type": "stream",
          "text": [
            " 17%|█▋        | 504/2900 [00:50<03:51, 10.35it/s]"
          ]
        },
        {
          "name": "stdout",
          "output_type": "stream",
          "text": [
            "501 [D loss: 0.759771078824997] [G loss: 1.2418673038482666]\n",
            "502 [D loss: 0.7119112312793732] [G loss: 1.3117855787277222]\n",
            "503 [D loss: 0.7411354184150696] [G loss: 1.2538906335830688]\n"
          ]
        },
        {
          "name": "stderr",
          "output_type": "stream",
          "text": [
            "\r 17%|█▋        | 506/2900 [00:51<03:53, 10.24it/s]"
          ]
        },
        {
          "name": "stdout",
          "output_type": "stream",
          "text": [
            "504 [D loss: 0.7317202389240265] [G loss: 1.2575024366378784]\n",
            "505 [D loss: 0.7422658503055573] [G loss: 1.142216682434082]\n",
            "506 [D loss: 0.7177293300628662] [G loss: 1.2350759506225586]\n"
          ]
        },
        {
          "name": "stderr",
          "output_type": "stream",
          "text": [
            "\r 18%|█▊        | 508/2900 [00:51<03:48, 10.46it/s]"
          ]
        },
        {
          "name": "stdout",
          "output_type": "stream",
          "text": [
            "507 [D loss: 0.741173505783081] [G loss: 1.1868587732315063]\n",
            "508 [D loss: 0.7343246936798096] [G loss: 1.1649017333984375]\n"
          ]
        },
        {
          "name": "stderr",
          "output_type": "stream",
          "text": [
            " 18%|█▊        | 512/2900 [00:51<03:58, 10.01it/s]"
          ]
        },
        {
          "name": "stdout",
          "output_type": "stream",
          "text": [
            "509 [D loss: 0.7255169749259949] [G loss: 1.185245394706726]\n",
            "510 [D loss: 0.7342467308044434] [G loss: 1.1399606466293335]\n",
            "511 [D loss: 0.7138879299163818] [G loss: 1.249523401260376]\n"
          ]
        },
        {
          "name": "stderr",
          "output_type": "stream",
          "text": [
            "\r 18%|█▊        | 514/2900 [00:51<03:56, 10.07it/s]"
          ]
        },
        {
          "name": "stdout",
          "output_type": "stream",
          "text": [
            "512 [D loss: 0.7583773136138916] [G loss: 1.1458828449249268]\n",
            "513 [D loss: 0.7290514409542084] [G loss: 1.223652720451355]\n",
            "514 [D loss: 0.7479301691055298] [G loss: 1.2050297260284424]\n"
          ]
        },
        {
          "name": "stderr",
          "output_type": "stream",
          "text": [
            " 18%|█▊        | 518/2900 [00:52<03:51, 10.30it/s]"
          ]
        },
        {
          "name": "stdout",
          "output_type": "stream",
          "text": [
            "515 [D loss: 0.7293731272220612] [G loss: 1.105229377746582]\n",
            "516 [D loss: 0.6987072825431824] [G loss: 1.1944434642791748]\n",
            "517 [D loss: 0.7354701161384583] [G loss: 1.1296555995941162]\n"
          ]
        },
        {
          "name": "stderr",
          "output_type": "stream",
          "text": [
            "\r 18%|█▊        | 520/2900 [00:52<03:50, 10.31it/s]"
          ]
        },
        {
          "name": "stdout",
          "output_type": "stream",
          "text": [
            "518 [D loss: 0.7149598598480225] [G loss: 1.28525710105896]\n",
            "519 [D loss: 0.7415762841701508] [G loss: 1.1784863471984863]\n",
            "520 [D loss: 0.7299660444259644] [G loss: 1.1447011232376099]\n"
          ]
        },
        {
          "name": "stderr",
          "output_type": "stream",
          "text": [
            " 18%|█▊        | 523/2900 [00:52<04:03,  9.75it/s]"
          ]
        },
        {
          "name": "stdout",
          "output_type": "stream",
          "text": [
            "521 [D loss: 0.7158801555633545] [G loss: 1.2335362434387207]\n",
            "522 [D loss: 0.7257556915283203] [G loss: 1.23052978515625]\n",
            "523 [D loss: 0.725181519985199] [G loss: 1.1546084880828857]\n"
          ]
        },
        {
          "name": "stderr",
          "output_type": "stream",
          "text": [
            " 18%|█▊        | 526/2900 [00:53<04:05,  9.69it/s]"
          ]
        },
        {
          "name": "stdout",
          "output_type": "stream",
          "text": [
            "524 [D loss: 0.7177731692790985] [G loss: 1.1691409349441528]\n",
            "525 [D loss: 0.7161675095558167] [G loss: 1.2568602561950684]\n"
          ]
        },
        {
          "name": "stderr",
          "output_type": "stream",
          "text": [
            " 18%|█▊        | 528/2900 [00:53<04:03,  9.74it/s]"
          ]
        },
        {
          "name": "stdout",
          "output_type": "stream",
          "text": [
            "526 [D loss: 0.7255224287509918] [G loss: 1.2114531993865967]\n",
            "527 [D loss: 0.7334994375705719] [G loss: 1.2316936254501343]\n",
            "528 [D loss: 0.7424397766590118] [G loss: 1.1793040037155151]\n"
          ]
        },
        {
          "name": "stderr",
          "output_type": "stream",
          "text": [
            " 18%|█▊        | 532/2900 [00:53<03:34, 11.02it/s]"
          ]
        },
        {
          "name": "stdout",
          "output_type": "stream",
          "text": [
            "529 [D loss: 0.7164334654808044] [G loss: 1.2857933044433594]\n",
            "530 [D loss: 0.7412457764148712] [G loss: 1.1809864044189453]\n",
            "531 [D loss: 0.720790833234787] [G loss: 1.2029505968093872]\n"
          ]
        },
        {
          "name": "stderr",
          "output_type": "stream",
          "text": [
            "\r 18%|█▊        | 534/2900 [00:53<03:40, 10.74it/s]"
          ]
        },
        {
          "name": "stdout",
          "output_type": "stream",
          "text": [
            "532 [D loss: 0.7342797517776489] [G loss: 1.0751187801361084]\n",
            "533 [D loss: 0.7308111488819122] [G loss: 1.1315319538116455]\n",
            "534 [D loss: 0.7025599181652069] [G loss: 1.2210044860839844]\n"
          ]
        },
        {
          "name": "stderr",
          "output_type": "stream",
          "text": [
            " 19%|█▊        | 538/2900 [00:54<03:42, 10.61it/s]"
          ]
        },
        {
          "name": "stdout",
          "output_type": "stream",
          "text": [
            "535 [D loss: 0.719178706407547] [G loss: 1.2256669998168945]\n",
            "536 [D loss: 0.7077274918556213] [G loss: 1.221550464630127]\n",
            "537 [D loss: 0.7310799658298492] [G loss: 1.1173774003982544]\n"
          ]
        },
        {
          "name": "stderr",
          "output_type": "stream",
          "text": [
            "\r 19%|█▊        | 540/2900 [00:54<03:36, 10.88it/s]"
          ]
        },
        {
          "name": "stdout",
          "output_type": "stream",
          "text": [
            "538 [D loss: 0.7251855731010437] [G loss: 1.1216334104537964]\n",
            "539 [D loss: 0.711781919002533] [G loss: 1.2247674465179443]\n",
            "540 [D loss: 0.735554963350296] [G loss: 1.1404625177383423]\n"
          ]
        },
        {
          "name": "stderr",
          "output_type": "stream",
          "text": [
            "\r 19%|█▊        | 542/2900 [00:54<03:40, 10.67it/s]"
          ]
        },
        {
          "name": "stdout",
          "output_type": "stream",
          "text": [
            "541 [D loss: 0.7211893796920776] [G loss: 1.1939011812210083]\n",
            "542 [D loss: 0.7218616604804993] [G loss: 1.0980054140090942]\n",
            "543 [D loss: 0.7120275497436523] [G loss: 1.1544561386108398]"
          ]
        },
        {
          "name": "stderr",
          "output_type": "stream",
          "text": [
            " 19%|█▉        | 546/2900 [00:54<03:47, 10.34it/s]"
          ]
        },
        {
          "name": "stdout",
          "output_type": "stream",
          "text": [
            "\n",
            "544 [D loss: 0.6931595802307129] [G loss: 1.2246631383895874]\n",
            "545 [D loss: 0.7091076672077179] [G loss: 1.2748632431030273]\n"
          ]
        },
        {
          "name": "stderr",
          "output_type": "stream",
          "text": [
            "\r 19%|█▉        | 548/2900 [00:55<03:43, 10.54it/s]"
          ]
        },
        {
          "name": "stdout",
          "output_type": "stream",
          "text": [
            "546 [D loss: 0.7075238823890686] [G loss: 1.3256549835205078]\n",
            "547 [D loss: 0.7045038938522339] [G loss: 1.2037047147750854]\n",
            "548 [D loss: 0.6981083452701569] [G loss: 1.1816580295562744]\n"
          ]
        },
        {
          "name": "stderr",
          "output_type": "stream",
          "text": [
            "\r 19%|█▉        | 550/2900 [00:55<03:49, 10.25it/s]"
          ]
        },
        {
          "name": "stdout",
          "output_type": "stream",
          "text": [
            "549 [D loss: 0.7176190614700317] [G loss: 1.1613256931304932]\n",
            "550 [D loss: 0.6861923038959503] [G loss: 1.2786798477172852]\n"
          ]
        },
        {
          "name": "stderr",
          "output_type": "stream",
          "text": [
            " 19%|█▉        | 554/2900 [00:55<03:50, 10.16it/s]"
          ]
        },
        {
          "name": "stdout",
          "output_type": "stream",
          "text": [
            "551 [D loss: 0.7195337116718292] [G loss: 1.2120344638824463]\n",
            "552 [D loss: 0.7114003002643585] [G loss: 1.3198208808898926]\n",
            "553 [D loss: 0.7530074715614319] [G loss: 1.0590782165527344]\n"
          ]
        },
        {
          "name": "stderr",
          "output_type": "stream",
          "text": [
            "\r 19%|█▉        | 556/2900 [00:55<03:50, 10.15it/s]"
          ]
        },
        {
          "name": "stdout",
          "output_type": "stream",
          "text": [
            "554 [D loss: 0.7052818834781647] [G loss: 1.1611738204956055]\n",
            "555 [D loss: 0.7205220460891724] [G loss: 1.1401560306549072]\n",
            "556 [D loss: 0.7150371372699738] [G loss: 1.1443140506744385]\n"
          ]
        },
        {
          "name": "stderr",
          "output_type": "stream",
          "text": [
            " 19%|█▉        | 560/2900 [00:56<03:48, 10.24it/s]"
          ]
        },
        {
          "name": "stdout",
          "output_type": "stream",
          "text": [
            "557 [D loss: 0.7211833596229553] [G loss: 1.1685290336608887]\n",
            "558 [D loss: 0.7190347015857697] [G loss: 1.1790610551834106]\n",
            "559 [D loss: 0.7338041663169861] [G loss: 1.1650974750518799]\n"
          ]
        },
        {
          "name": "stderr",
          "output_type": "stream",
          "text": [
            "\r 19%|█▉        | 562/2900 [00:56<03:46, 10.31it/s]"
          ]
        },
        {
          "name": "stdout",
          "output_type": "stream",
          "text": [
            "560 [D loss: 0.7226527333259583] [G loss: 1.1363914012908936]\n",
            "561 [D loss: 0.7150393128395081] [G loss: 1.2061715126037598]\n"
          ]
        },
        {
          "name": "stderr",
          "output_type": "stream",
          "text": [
            "\r 19%|█▉        | 564/2900 [00:56<03:53, 10.00it/s]"
          ]
        },
        {
          "name": "stdout",
          "output_type": "stream",
          "text": [
            "562 [D loss: 0.7193398177623749] [G loss: 1.147369146347046]\n",
            "563 [D loss: 0.7218733727931976] [G loss: 1.2115402221679688]\n",
            "564 [D loss: 0.7454982995986938] [G loss: 1.0695687532424927]\n"
          ]
        },
        {
          "name": "stderr",
          "output_type": "stream",
          "text": [
            " 20%|█▉        | 568/2900 [00:57<03:47, 10.26it/s]"
          ]
        },
        {
          "name": "stdout",
          "output_type": "stream",
          "text": [
            "565 [D loss: 0.6939700245857239] [G loss: 1.1865652799606323]\n",
            "566 [D loss: 0.7222285866737366] [G loss: 1.2295384407043457]\n",
            "567 [D loss: 0.7063987851142883] [G loss: 1.1960270404815674]\n"
          ]
        },
        {
          "name": "stderr",
          "output_type": "stream",
          "text": [
            "\r 20%|█▉        | 570/2900 [00:57<03:45, 10.34it/s]"
          ]
        },
        {
          "name": "stdout",
          "output_type": "stream",
          "text": [
            "568 [D loss: 0.7156040072441101] [G loss: 1.1628835201263428]\n",
            "569 [D loss: 0.7265863120555878] [G loss: 1.0940945148468018]\n",
            "570 [D loss: 0.6930417716503143] [G loss: 1.1968399286270142]\n"
          ]
        },
        {
          "name": "stderr",
          "output_type": "stream",
          "text": [
            " 20%|█▉        | 574/2900 [00:57<03:38, 10.65it/s]"
          ]
        },
        {
          "name": "stdout",
          "output_type": "stream",
          "text": [
            "571 [D loss: 0.7066963911056519] [G loss: 1.1877851486206055]\n",
            "572 [D loss: 0.7185719609260559] [G loss: 1.1404848098754883]\n",
            "573 [D loss: 0.7018885910511017] [G loss: 1.1483049392700195]\n"
          ]
        },
        {
          "name": "stderr",
          "output_type": "stream",
          "text": [
            "\r 20%|█▉        | 576/2900 [00:57<03:40, 10.55it/s]"
          ]
        },
        {
          "name": "stdout",
          "output_type": "stream",
          "text": [
            "574 [D loss: 0.7114006876945496] [G loss: 1.1812649965286255]\n",
            "575 [D loss: 0.7268009781837463] [G loss: 1.0853254795074463]\n"
          ]
        },
        {
          "name": "stderr",
          "output_type": "stream",
          "text": [
            "\r 20%|█▉        | 578/2900 [00:58<03:45, 10.29it/s]"
          ]
        },
        {
          "name": "stdout",
          "output_type": "stream",
          "text": [
            "576 [D loss: 0.7118844389915466] [G loss: 1.109147548675537]\n",
            "577 [D loss: 0.7039145529270172] [G loss: 1.1562778949737549]\n",
            "578 [D loss: 0.7117776870727539] [G loss: 1.1688532829284668]\n"
          ]
        },
        {
          "name": "stderr",
          "output_type": "stream",
          "text": [
            " 20%|██        | 582/2900 [00:58<03:36, 10.73it/s]"
          ]
        },
        {
          "name": "stdout",
          "output_type": "stream",
          "text": [
            "579 [D loss: 0.72174271941185] [G loss: 1.136389970779419]\n",
            "580 [D loss: 0.7151827812194824] [G loss: 1.1615281105041504]\n",
            "581 [D loss: 0.7318482100963593] [G loss: 1.0564923286437988]\n"
          ]
        },
        {
          "name": "stderr",
          "output_type": "stream",
          "text": [
            "\r 20%|██        | 584/2900 [00:58<03:36, 10.69it/s]"
          ]
        },
        {
          "name": "stdout",
          "output_type": "stream",
          "text": [
            "582 [D loss: 0.7005636394023895] [G loss: 1.1191983222961426]\n",
            "583 [D loss: 0.7043276727199554] [G loss: 1.124263048171997]\n",
            "584 [D loss: 0.6943158507347107] [G loss: 1.217666506767273]\n"
          ]
        },
        {
          "name": "stderr",
          "output_type": "stream",
          "text": [
            " 20%|██        | 588/2900 [00:58<03:35, 10.72it/s]"
          ]
        },
        {
          "name": "stdout",
          "output_type": "stream",
          "text": [
            "585 [D loss: 0.7325138747692108] [G loss: 1.101209282875061]\n",
            "586 [D loss: 0.6974462270736694] [G loss: 1.1429247856140137]\n",
            "587 [D loss: 0.7043349742889404] [G loss: 1.141456127166748]\n"
          ]
        },
        {
          "name": "stderr",
          "output_type": "stream",
          "text": [
            "\r 20%|██        | 590/2900 [00:59<03:35, 10.72it/s]"
          ]
        },
        {
          "name": "stdout",
          "output_type": "stream",
          "text": [
            "588 [D loss: 0.6957798898220062] [G loss: 1.1883621215820312]\n",
            "589 [D loss: 0.7261174917221069] [G loss: 1.070712924003601]\n",
            "590 [D loss: 0.698304295539856] [G loss: 1.1045325994491577]\n"
          ]
        },
        {
          "name": "stderr",
          "output_type": "stream",
          "text": [
            " 20%|██        | 594/2900 [00:59<03:37, 10.59it/s]"
          ]
        },
        {
          "name": "stdout",
          "output_type": "stream",
          "text": [
            "591 [D loss: 0.7178334593772888] [G loss: 1.0874357223510742]\n",
            "592 [D loss: 0.7051348984241486] [G loss: 1.083523154258728]\n",
            "593 [D loss: 0.7120912671089172] [G loss: 1.1133487224578857]\n"
          ]
        },
        {
          "name": "stderr",
          "output_type": "stream",
          "text": [
            "\r 21%|██        | 596/2900 [00:59<03:36, 10.62it/s]"
          ]
        },
        {
          "name": "stdout",
          "output_type": "stream",
          "text": [
            "594 [D loss: 0.7048599421977997] [G loss: 1.1510117053985596]\n",
            "595 [D loss: 0.7144847810268402] [G loss: 1.1047172546386719]\n",
            "596 [D loss: 0.7147156000137329] [G loss: 1.0903888940811157]\n"
          ]
        },
        {
          "name": "stderr",
          "output_type": "stream",
          "text": [
            " 21%|██        | 600/2900 [01:00<03:35, 10.66it/s]"
          ]
        },
        {
          "name": "stdout",
          "output_type": "stream",
          "text": [
            "597 [D loss: 0.7011135220527649] [G loss: 1.163175344467163]\n",
            "598 [D loss: 0.7217289209365845] [G loss: 1.121300220489502]\n",
            "599 [D loss: 0.7022377699613571] [G loss: 1.1215354204177856]\n"
          ]
        },
        {
          "name": "stderr",
          "output_type": "stream",
          "text": [
            "\r 21%|██        | 602/2900 [01:00<03:42, 10.34it/s]"
          ]
        },
        {
          "name": "stdout",
          "output_type": "stream",
          "text": [
            "600 [D loss: 0.7142159044742584] [G loss: 1.1319239139556885]\n",
            "601 [D loss: 0.7070493996143341] [G loss: 1.1634960174560547]\n",
            "602 [D loss: 0.7420230507850647] [G loss: 1.0435411930084229]\n"
          ]
        },
        {
          "name": "stderr",
          "output_type": "stream",
          "text": [
            " 21%|██        | 606/2900 [01:00<03:33, 10.72it/s]"
          ]
        },
        {
          "name": "stdout",
          "output_type": "stream",
          "text": [
            "603 [D loss: 0.7026380002498627] [G loss: 1.00252366065979]\n",
            "604 [D loss: 0.695503294467926] [G loss: 1.0489096641540527]\n",
            "605 [D loss: 0.7105228900909424] [G loss: 1.0766505002975464]\n"
          ]
        },
        {
          "name": "stderr",
          "output_type": "stream",
          "text": [
            "\r 21%|██        | 608/2900 [01:00<03:40, 10.41it/s]"
          ]
        },
        {
          "name": "stdout",
          "output_type": "stream",
          "text": [
            "606 [D loss: 0.7036701738834381] [G loss: 1.0482051372528076]\n",
            "607 [D loss: 0.7051571011543274] [G loss: 1.084120273590088]\n"
          ]
        },
        {
          "name": "stderr",
          "output_type": "stream",
          "text": [
            "\r 21%|██        | 610/2900 [01:01<03:42, 10.29it/s]"
          ]
        },
        {
          "name": "stdout",
          "output_type": "stream",
          "text": [
            "608 [D loss: 0.7246102392673492] [G loss: 1.0354294776916504]\n",
            "609 [D loss: 0.6974464952945709] [G loss: 1.068641185760498]\n",
            "610 [D loss: 0.7180623710155487] [G loss: 1.102111577987671]\n"
          ]
        },
        {
          "name": "stderr",
          "output_type": "stream",
          "text": [
            " 21%|██        | 614/2900 [01:01<03:43, 10.25it/s]"
          ]
        },
        {
          "name": "stdout",
          "output_type": "stream",
          "text": [
            "611 [D loss: 0.7190469205379486] [G loss: 1.0593552589416504]\n",
            "612 [D loss: 0.6978420317173004] [G loss: 1.104348063468933]\n",
            "613 [D loss: 0.7094502449035645] [G loss: 1.1100802421569824]\n"
          ]
        },
        {
          "name": "stderr",
          "output_type": "stream",
          "text": [
            "\r 21%|██        | 616/2900 [01:01<03:43, 10.21it/s]"
          ]
        },
        {
          "name": "stdout",
          "output_type": "stream",
          "text": [
            "614 [D loss: 0.7267228364944458] [G loss: 1.0477936267852783]\n",
            "615 [D loss: 0.7131310999393463] [G loss: 1.023733139038086]\n",
            "616 [D loss: 0.6989710628986359] [G loss: 1.0837287902832031]\n"
          ]
        },
        {
          "name": "stderr",
          "output_type": "stream",
          "text": [
            " 21%|██▏       | 620/2900 [01:02<03:45, 10.13it/s]"
          ]
        },
        {
          "name": "stdout",
          "output_type": "stream",
          "text": [
            "617 [D loss: 0.704654186964035] [G loss: 1.0401737689971924]\n",
            "618 [D loss: 0.7067590057849884] [G loss: 1.077871561050415]\n",
            "619 [D loss: 0.6980368793010712] [G loss: 1.184337854385376]\n"
          ]
        },
        {
          "name": "stderr",
          "output_type": "stream",
          "text": [
            "\r 21%|██▏       | 622/2900 [01:02<03:41, 10.30it/s]"
          ]
        },
        {
          "name": "stdout",
          "output_type": "stream",
          "text": [
            "620 [D loss: 0.7249460816383362] [G loss: 1.057861328125]\n",
            "621 [D loss: 0.7121746838092804] [G loss: 1.0528967380523682]\n"
          ]
        },
        {
          "name": "stderr",
          "output_type": "stream",
          "text": [
            "\r 22%|██▏       | 624/2900 [01:02<03:47, 10.01it/s]"
          ]
        },
        {
          "name": "stdout",
          "output_type": "stream",
          "text": [
            "622 [D loss: 0.6851387321949005] [G loss: 1.1437594890594482]\n",
            "623 [D loss: 0.7094704508781433] [G loss: 1.0952003002166748]\n",
            "624 [D loss: 0.7147254049777985] [G loss: 1.0750057697296143]\n"
          ]
        },
        {
          "name": "stderr",
          "output_type": "stream",
          "text": [
            " 22%|██▏       | 628/2900 [01:02<03:35, 10.52it/s]"
          ]
        },
        {
          "name": "stdout",
          "output_type": "stream",
          "text": [
            "625 [D loss: 0.6969579756259918] [G loss: 1.0684514045715332]\n",
            "626 [D loss: 0.6944893002510071] [G loss: 1.1202473640441895]\n",
            "627 [D loss: 0.7126707136631012] [G loss: 1.0855765342712402]\n"
          ]
        },
        {
          "name": "stderr",
          "output_type": "stream",
          "text": [
            "\r 22%|██▏       | 630/2900 [01:03<03:37, 10.42it/s]"
          ]
        },
        {
          "name": "stdout",
          "output_type": "stream",
          "text": [
            "628 [D loss: 0.69926318526268] [G loss: 1.1008834838867188]\n",
            "629 [D loss: 0.7088103890419006] [G loss: 1.0575649738311768]\n",
            "630 [D loss: 0.6952461898326874] [G loss: 1.1298065185546875]\n"
          ]
        },
        {
          "name": "stderr",
          "output_type": "stream",
          "text": [
            "\r 22%|██▏       | 632/2900 [01:03<03:43, 10.17it/s]"
          ]
        },
        {
          "name": "stdout",
          "output_type": "stream",
          "text": [
            "631 [D loss: 0.7120464742183685] [G loss: 1.0670032501220703]\n",
            "632 [D loss: 0.7105156779289246] [G loss: 1.0158946514129639]\n"
          ]
        },
        {
          "name": "stderr",
          "output_type": "stream",
          "text": [
            " 22%|██▏       | 636/2900 [01:03<03:39, 10.32it/s]"
          ]
        },
        {
          "name": "stdout",
          "output_type": "stream",
          "text": [
            "633 [D loss: 0.6953583359718323] [G loss: 1.068986177444458]\n",
            "634 [D loss: 0.6920849084854126] [G loss: 1.098057746887207]\n",
            "635 [D loss: 0.7066358327865601] [G loss: 1.0827789306640625]\n"
          ]
        },
        {
          "name": "stderr",
          "output_type": "stream",
          "text": [
            "\r 22%|██▏       | 638/2900 [01:03<03:33, 10.60it/s]"
          ]
        },
        {
          "name": "stdout",
          "output_type": "stream",
          "text": [
            "636 [D loss: 0.7010847926139832] [G loss: 1.0858149528503418]\n",
            "637 [D loss: 0.7135710418224335] [G loss: 1.0595725774765015]\n",
            "638 [D loss: 0.6993391513824463] [G loss: 1.0783699750900269]\n"
          ]
        },
        {
          "name": "stderr",
          "output_type": "stream",
          "text": [
            " 22%|██▏       | 642/2900 [01:04<03:36, 10.45it/s]"
          ]
        },
        {
          "name": "stdout",
          "output_type": "stream",
          "text": [
            "639 [D loss: 0.6905853748321533] [G loss: 1.2164031267166138]\n",
            "640 [D loss: 0.7296718955039978] [G loss: 1.0460894107818604]\n",
            "641 [D loss: 0.7083654403686523] [G loss: 1.0717859268188477]\n"
          ]
        },
        {
          "name": "stderr",
          "output_type": "stream",
          "text": [
            "\r 22%|██▏       | 644/2900 [01:04<03:37, 10.38it/s]"
          ]
        },
        {
          "name": "stdout",
          "output_type": "stream",
          "text": [
            "642 [D loss: 0.7109725773334503] [G loss: 1.0284627676010132]\n",
            "643 [D loss: 0.6986657679080963] [G loss: 1.0676703453063965]\n",
            "644 [D loss: 0.6968116462230682] [G loss: 1.0720622539520264]\n"
          ]
        },
        {
          "name": "stderr",
          "output_type": "stream",
          "text": [
            " 22%|██▏       | 648/2900 [01:04<03:30, 10.69it/s]"
          ]
        },
        {
          "name": "stdout",
          "output_type": "stream",
          "text": [
            "645 [D loss: 0.6952424645423889] [G loss: 1.0973763465881348]\n",
            "646 [D loss: 0.6919921636581421] [G loss: 1.142439365386963]\n",
            "647 [D loss: 0.6896253824234009] [G loss: 1.1837830543518066]\n"
          ]
        },
        {
          "name": "stderr",
          "output_type": "stream",
          "text": [
            "\r 22%|██▏       | 650/2900 [01:04<03:35, 10.44it/s]"
          ]
        },
        {
          "name": "stdout",
          "output_type": "stream",
          "text": [
            "648 [D loss: 0.7229970097541809] [G loss: 1.062845230102539]\n",
            "649 [D loss: 0.707642138004303] [G loss: 1.0282504558563232]\n",
            "650 [D loss: 0.6917241215705872] [G loss: 1.0660330057144165]\n"
          ]
        },
        {
          "name": "stderr",
          "output_type": "stream",
          "text": [
            " 23%|██▎       | 654/2900 [01:05<03:36, 10.39it/s]"
          ]
        },
        {
          "name": "stdout",
          "output_type": "stream",
          "text": [
            "651 [D loss: 0.6866500079631805] [G loss: 1.1435587406158447]\n",
            "652 [D loss: 0.7051458209753036] [G loss: 1.096397876739502]\n",
            "653 [D loss: 0.6919225752353668] [G loss: 1.1309905052185059]\n"
          ]
        },
        {
          "name": "stderr",
          "output_type": "stream",
          "text": [
            "\r 23%|██▎       | 656/2900 [01:05<03:29, 10.73it/s]"
          ]
        },
        {
          "name": "stdout",
          "output_type": "stream",
          "text": [
            "654 [D loss: 0.7070415318012238] [G loss: 1.0859416723251343]\n",
            "655 [D loss: 0.6983400881290436] [G loss: 1.0742031335830688]\n",
            "656 [D loss: 0.7041245698928833] [G loss: 1.0617138147354126]\n"
          ]
        },
        {
          "name": "stderr",
          "output_type": "stream",
          "text": [
            " 23%|██▎       | 660/2900 [01:05<03:31, 10.61it/s]"
          ]
        },
        {
          "name": "stdout",
          "output_type": "stream",
          "text": [
            "657 [D loss: 0.6960539519786835] [G loss: 1.1018102169036865]\n",
            "658 [D loss: 0.712787926197052] [G loss: 1.0134680271148682]\n",
            "659 [D loss: 0.7040382027626038] [G loss: 1.026633620262146]\n"
          ]
        },
        {
          "name": "stderr",
          "output_type": "stream",
          "text": [
            "\r 23%|██▎       | 662/2900 [01:06<03:29, 10.68it/s]"
          ]
        },
        {
          "name": "stdout",
          "output_type": "stream",
          "text": [
            "660 [D loss: 0.6916040182113647] [G loss: 1.0763812065124512]\n",
            "661 [D loss: 0.6944074183702469] [G loss: 1.0391753911972046]\n",
            "662 [D loss: 0.6883301734924316] [G loss: 1.066056489944458]\n"
          ]
        },
        {
          "name": "stderr",
          "output_type": "stream",
          "text": [
            " 23%|██▎       | 666/2900 [01:06<03:26, 10.82it/s]"
          ]
        },
        {
          "name": "stdout",
          "output_type": "stream",
          "text": [
            "663 [D loss: 0.6985464096069336] [G loss: 1.0953328609466553]\n",
            "664 [D loss: 0.7005498856306076] [G loss: 1.0507991313934326]\n",
            "665 [D loss: 0.6873793601989746] [G loss: 1.1680283546447754]\n"
          ]
        },
        {
          "name": "stderr",
          "output_type": "stream",
          "text": [
            "\r 23%|██▎       | 668/2900 [01:06<03:22, 11.01it/s]"
          ]
        },
        {
          "name": "stdout",
          "output_type": "stream",
          "text": [
            "666 [D loss: 0.7010504007339478] [G loss: 1.0916335582733154]\n",
            "667 [D loss: 0.6984080225229263] [G loss: 1.0969395637512207]\n"
          ]
        },
        {
          "name": "stderr",
          "output_type": "stream",
          "text": [
            "\r 23%|██▎       | 670/2900 [01:06<03:33, 10.43it/s]"
          ]
        },
        {
          "name": "stdout",
          "output_type": "stream",
          "text": [
            "668 [D loss: 0.7018216848373413] [G loss: 1.0807323455810547]\n",
            "669 [D loss: 0.6983359158039093] [G loss: 1.0804431438446045]\n",
            "670 [D loss: 0.7036960422992706] [G loss: 1.0565105676651]\n"
          ]
        },
        {
          "name": "stderr",
          "output_type": "stream",
          "text": [
            " 23%|██▎       | 674/2900 [01:07<03:31, 10.53it/s]"
          ]
        },
        {
          "name": "stdout",
          "output_type": "stream",
          "text": [
            "671 [D loss: 0.6862170994281769] [G loss: 1.070823311805725]\n",
            "672 [D loss: 0.6888849288225174] [G loss: 1.1224894523620605]\n",
            "673 [D loss: 0.6751406192779541] [G loss: 1.147387981414795]\n"
          ]
        },
        {
          "name": "stderr",
          "output_type": "stream",
          "text": [
            "\r 23%|██▎       | 676/2900 [01:07<03:26, 10.78it/s]"
          ]
        },
        {
          "name": "stdout",
          "output_type": "stream",
          "text": [
            "674 [D loss: 0.6987314224243164] [G loss: 1.104928731918335]\n",
            "675 [D loss: 0.6907508075237274] [G loss: 1.0986229181289673]\n",
            "676 [D loss: 0.6926956325769424] [G loss: 1.116449236869812]\n"
          ]
        },
        {
          "name": "stderr",
          "output_type": "stream",
          "text": [
            " 23%|██▎       | 680/2900 [01:07<03:26, 10.74it/s]"
          ]
        },
        {
          "name": "stdout",
          "output_type": "stream",
          "text": [
            "677 [D loss: 0.6976190060377121] [G loss: 1.1478066444396973]\n",
            "678 [D loss: 0.7037848234176636] [G loss: 1.0711194276809692]\n",
            "679 [D loss: 0.6864323914051056] [G loss: 1.1034866571426392]\n"
          ]
        },
        {
          "name": "stderr",
          "output_type": "stream",
          "text": [
            "\r 24%|██▎       | 682/2900 [01:07<03:31, 10.49it/s]"
          ]
        },
        {
          "name": "stdout",
          "output_type": "stream",
          "text": [
            "680 [D loss: 0.6882428675889969] [G loss: 1.1143485307693481]\n",
            "681 [D loss: 0.6898459792137146] [G loss: 1.1343395709991455]\n",
            "682 [D loss: 0.6994740664958954] [G loss: 1.1273423433303833]\n"
          ]
        },
        {
          "name": "stderr",
          "output_type": "stream",
          "text": [
            " 24%|██▎       | 686/2900 [01:08<03:31, 10.49it/s]"
          ]
        },
        {
          "name": "stdout",
          "output_type": "stream",
          "text": [
            "683 [D loss: 0.7016719579696655] [G loss: 1.0534110069274902]\n",
            "684 [D loss: 0.6975304186344147] [G loss: 1.0460920333862305]\n",
            "685 [D loss: 0.6814173609018326] [G loss: 1.08787202835083]\n"
          ]
        },
        {
          "name": "stderr",
          "output_type": "stream",
          "text": [
            "\r 24%|██▎       | 688/2900 [01:08<03:23, 10.85it/s]"
          ]
        },
        {
          "name": "stdout",
          "output_type": "stream",
          "text": [
            "686 [D loss: 0.6839705407619476] [G loss: 1.1033596992492676]\n",
            "687 [D loss: 0.6943074464797974] [G loss: 1.0715806484222412]\n",
            "688 [D loss: 0.6731458306312561] [G loss: 1.134016752243042]\n"
          ]
        },
        {
          "name": "stderr",
          "output_type": "stream",
          "text": [
            " 24%|██▍       | 692/2900 [01:08<03:28, 10.59it/s]"
          ]
        },
        {
          "name": "stdout",
          "output_type": "stream",
          "text": [
            "689 [D loss: 0.686533585190773] [G loss: 1.1401972770690918]\n",
            "690 [D loss: 0.7034620940685272] [G loss: 1.0857603549957275]\n",
            "691 [D loss: 0.6929812133312225] [G loss: 1.0584337711334229]\n"
          ]
        },
        {
          "name": "stderr",
          "output_type": "stream",
          "text": [
            "\r 24%|██▍       | 694/2900 [01:09<03:20, 10.99it/s]"
          ]
        },
        {
          "name": "stdout",
          "output_type": "stream",
          "text": [
            "692 [D loss: 0.6799515783786774] [G loss: 1.1028618812561035]\n",
            "693 [D loss: 0.6911481767892838] [G loss: 1.0585846900939941]\n",
            "694 [D loss: 0.6864400058984756] [G loss: 1.0287601947784424]\n"
          ]
        },
        {
          "name": "stderr",
          "output_type": "stream",
          "text": [
            " 24%|██▍       | 698/2900 [01:09<03:20, 10.98it/s]"
          ]
        },
        {
          "name": "stdout",
          "output_type": "stream",
          "text": [
            "695 [D loss: 0.6879067718982697] [G loss: 1.1375316381454468]\n",
            "696 [D loss: 0.6892033964395523] [G loss: 1.0737311840057373]\n",
            "697 [D loss: 0.6839407384395599] [G loss: 1.0962848663330078]\n"
          ]
        },
        {
          "name": "stderr",
          "output_type": "stream",
          "text": [
            "\r 24%|██▍       | 700/2900 [01:09<03:25, 10.68it/s]"
          ]
        },
        {
          "name": "stdout",
          "output_type": "stream",
          "text": [
            "698 [D loss: 0.6959852278232574] [G loss: 1.0664153099060059]\n",
            "699 [D loss: 0.6716385334730148] [G loss: 1.12314772605896]\n",
            "700 [D loss: 0.7002459466457367] [G loss: 1.0571284294128418]\n"
          ]
        },
        {
          "name": "stderr",
          "output_type": "stream",
          "text": [
            " 24%|██▍       | 704/2900 [01:10<03:21, 10.89it/s]"
          ]
        },
        {
          "name": "stdout",
          "output_type": "stream",
          "text": [
            "701 [D loss: 0.6764718294143677] [G loss: 1.1199678182601929]\n",
            "702 [D loss: 0.7001904547214508] [G loss: 1.052470326423645]\n",
            "703 [D loss: 0.6856665909290314] [G loss: 1.044579267501831]\n"
          ]
        },
        {
          "name": "stderr",
          "output_type": "stream",
          "text": [
            "\r 24%|██▍       | 706/2900 [01:10<03:30, 10.42it/s]"
          ]
        },
        {
          "name": "stdout",
          "output_type": "stream",
          "text": [
            "704 [D loss: 0.6752090752124786] [G loss: 1.113248586654663]\n",
            "705 [D loss: 0.6851391196250916] [G loss: 1.1563695669174194]\n"
          ]
        },
        {
          "name": "stderr",
          "output_type": "stream",
          "text": [
            "\r 24%|██▍       | 708/2900 [01:10<03:37, 10.08it/s]"
          ]
        },
        {
          "name": "stdout",
          "output_type": "stream",
          "text": [
            "706 [D loss: 0.7070918381214142] [G loss: 1.0375583171844482]\n",
            "707 [D loss: 0.6675320416688919] [G loss: 1.176833152770996]\n",
            "708 [D loss: 0.6957812905311584] [G loss: 1.1049385070800781]\n"
          ]
        },
        {
          "name": "stderr",
          "output_type": "stream",
          "text": [
            " 25%|██▍       | 712/2900 [01:10<03:27, 10.54it/s]"
          ]
        },
        {
          "name": "stdout",
          "output_type": "stream",
          "text": [
            "709 [D loss: 0.7009098827838898] [G loss: 1.0684789419174194]\n",
            "710 [D loss: 0.6697464734315872] [G loss: 1.0827268362045288]\n",
            "711 [D loss: 0.688667893409729] [G loss: 1.1328457593917847]\n"
          ]
        },
        {
          "name": "stderr",
          "output_type": "stream",
          "text": [
            "\r 25%|██▍       | 714/2900 [01:10<03:31, 10.34it/s]"
          ]
        },
        {
          "name": "stdout",
          "output_type": "stream",
          "text": [
            "712 [D loss: 0.6875639408826828] [G loss: 1.0648516416549683]\n",
            "713 [D loss: 0.6930568814277649] [G loss: 1.1162689924240112]\n",
            "714 [D loss: 0.7120568752288818] [G loss: 1.0331933498382568]\n"
          ]
        },
        {
          "name": "stderr",
          "output_type": "stream",
          "text": [
            " 25%|██▍       | 718/2900 [01:11<03:32, 10.29it/s]"
          ]
        },
        {
          "name": "stdout",
          "output_type": "stream",
          "text": [
            "715 [D loss: 0.6826286911964417] [G loss: 1.0309181213378906]\n",
            "716 [D loss: 0.6826574951410294] [G loss: 1.078352451324463]\n",
            "717 [D loss: 0.6908614635467529] [G loss: 1.085756778717041]\n"
          ]
        },
        {
          "name": "stderr",
          "output_type": "stream",
          "text": [
            "\r 25%|██▍       | 720/2900 [01:11<03:29, 10.41it/s]"
          ]
        },
        {
          "name": "stdout",
          "output_type": "stream",
          "text": [
            "718 [D loss: 0.6917916536331177] [G loss: 1.0604968070983887]\n",
            "719 [D loss: 0.6833613514900208] [G loss: 1.1003260612487793]\n",
            "720 [D loss: 0.6920997947454453] [G loss: 1.060585618019104]\n"
          ]
        },
        {
          "name": "stderr",
          "output_type": "stream",
          "text": [
            " 25%|██▍       | 724/2900 [01:11<03:25, 10.59it/s]"
          ]
        },
        {
          "name": "stdout",
          "output_type": "stream",
          "text": [
            "721 [D loss: 0.6806939244270325] [G loss: 1.0916532278060913]\n",
            "722 [D loss: 0.6958662867546082] [G loss: 1.0609691143035889]\n",
            "723 [D loss: 0.6823630630970001] [G loss: 1.1062893867492676]\n"
          ]
        },
        {
          "name": "stderr",
          "output_type": "stream",
          "text": [
            "\r 25%|██▌       | 726/2900 [01:12<03:23, 10.70it/s]"
          ]
        },
        {
          "name": "stdout",
          "output_type": "stream",
          "text": [
            "724 [D loss: 0.6974663436412811] [G loss: 1.0577878952026367]\n",
            "725 [D loss: 0.6958498358726501] [G loss: 1.0493234395980835]\n",
            "726 [D loss: 0.6899259984493256] [G loss: 1.0569050312042236]\n"
          ]
        },
        {
          "name": "stderr",
          "output_type": "stream",
          "text": [
            "\r 25%|██▌       | 728/2900 [01:12<03:29, 10.39it/s]"
          ]
        },
        {
          "name": "stdout",
          "output_type": "stream",
          "text": [
            "727 [D loss: 0.6898750960826874] [G loss: 1.091623067855835]\n",
            "728 [D loss: 0.696568638086319] [G loss: 1.048546314239502]\n"
          ]
        },
        {
          "name": "stderr",
          "output_type": "stream",
          "text": [
            "\r 25%|██▌       | 730/2900 [01:12<03:34, 10.13it/s]"
          ]
        },
        {
          "name": "stdout",
          "output_type": "stream",
          "text": [
            "729 [D loss: 0.6942797601222992] [G loss: 1.0173892974853516]\n",
            "730 [D loss: 0.6976041793823242] [G loss: 0.9989458918571472]\n"
          ]
        },
        {
          "name": "stderr",
          "output_type": "stream",
          "text": [
            "\r 25%|██▌       | 732/2900 [01:12<03:36, 10.02it/s]"
          ]
        },
        {
          "name": "stdout",
          "output_type": "stream",
          "text": [
            "731 [D loss: 0.6964662969112396] [G loss: 1.0161337852478027]\n",
            "732 [D loss: 0.6844191253185272] [G loss: 1.0513051748275757]\n"
          ]
        },
        {
          "name": "stderr",
          "output_type": "stream",
          "text": [
            " 25%|██▌       | 736/2900 [01:13<03:38,  9.91it/s]"
          ]
        },
        {
          "name": "stdout",
          "output_type": "stream",
          "text": [
            "733 [D loss: 0.6919832527637482] [G loss: 1.0309981107711792]\n",
            "734 [D loss: 0.688993901014328] [G loss: 1.0317705869674683]\n",
            "735 [D loss: 0.6930854022502899] [G loss: 1.0379085540771484]\n"
          ]
        },
        {
          "name": "stderr",
          "output_type": "stream",
          "text": [
            " 25%|██▌       | 738/2900 [01:13<03:47,  9.48it/s]"
          ]
        },
        {
          "name": "stdout",
          "output_type": "stream",
          "text": [
            "736 [D loss: 0.6875720024108887] [G loss: 1.0403738021850586]\n",
            "737 [D loss: 0.681657075881958] [G loss: 1.0687367916107178]\n"
          ]
        },
        {
          "name": "stderr",
          "output_type": "stream",
          "text": [
            " 26%|██▌       | 740/2900 [01:13<03:48,  9.45it/s]"
          ]
        },
        {
          "name": "stdout",
          "output_type": "stream",
          "text": [
            "738 [D loss: 0.6920534372329712] [G loss: 1.0617302656173706]\n",
            "739 [D loss: 0.6929114609956741] [G loss: 1.025292992591858]\n"
          ]
        },
        {
          "name": "stderr",
          "output_type": "stream",
          "text": [
            " 26%|██▌       | 742/2900 [01:13<03:59,  8.99it/s]"
          ]
        },
        {
          "name": "stdout",
          "output_type": "stream",
          "text": [
            "740 [D loss: 0.6884510964155197] [G loss: 1.0314666032791138]\n",
            "741 [D loss: 0.6927863359451294] [G loss: 1.060132384300232]\n"
          ]
        },
        {
          "name": "stderr",
          "output_type": "stream",
          "text": [
            "\r 26%|██▌       | 744/2900 [01:14<03:39,  9.80it/s]"
          ]
        },
        {
          "name": "stdout",
          "output_type": "stream",
          "text": [
            "742 [D loss: 0.699141800403595] [G loss: 1.0321340560913086]\n",
            "743 [D loss: 0.6803284287452698] [G loss: 1.0498309135437012]\n",
            "744 [D loss: 0.6716709434986115] [G loss: 1.1481313705444336]\n"
          ]
        },
        {
          "name": "stderr",
          "output_type": "stream",
          "text": [
            " 26%|██▌       | 747/2900 [01:14<03:40,  9.76it/s]"
          ]
        },
        {
          "name": "stdout",
          "output_type": "stream",
          "text": [
            "745 [D loss: 0.7053876668214798] [G loss: 1.0300081968307495]\n",
            "746 [D loss: 0.6855318546295166] [G loss: 1.0414677858352661]\n",
            "747 [D loss: 0.6868396401405334] [G loss: 1.0503461360931396]\n"
          ]
        },
        {
          "name": "stderr",
          "output_type": "stream",
          "text": [
            " 26%|██▌       | 751/2900 [01:14<03:25, 10.47it/s]"
          ]
        },
        {
          "name": "stdout",
          "output_type": "stream",
          "text": [
            "748 [D loss: 0.6761395186185837] [G loss: 1.0728847980499268]\n",
            "749 [D loss: 0.6796248108148575] [G loss: 1.0761311054229736]\n",
            "750 [D loss: 0.6917731612920761] [G loss: 1.044799566268921]\n"
          ]
        },
        {
          "name": "stderr",
          "output_type": "stream",
          "text": [
            "\r 26%|██▌       | 753/2900 [01:14<03:27, 10.33it/s]"
          ]
        },
        {
          "name": "stdout",
          "output_type": "stream",
          "text": [
            "751 [D loss: 0.6689166724681854] [G loss: 1.1139854192733765]\n",
            "752 [D loss: 0.6982237994670868] [G loss: 1.050178050994873]\n"
          ]
        },
        {
          "name": "stderr",
          "output_type": "stream",
          "text": [
            "\r 26%|██▌       | 755/2900 [01:15<03:32, 10.08it/s]"
          ]
        },
        {
          "name": "stdout",
          "output_type": "stream",
          "text": [
            "753 [D loss: 0.6826571226119995] [G loss: 1.0500602722167969]\n",
            "754 [D loss: 0.6834684610366821] [G loss: 1.0621354579925537]\n",
            "755 [D loss: 0.6980760097503662] [G loss: 1.014695644378662]\n"
          ]
        },
        {
          "name": "stderr",
          "output_type": "stream",
          "text": [
            " 26%|██▌       | 759/2900 [01:15<03:31, 10.12it/s]"
          ]
        },
        {
          "name": "stdout",
          "output_type": "stream",
          "text": [
            "756 [D loss: 0.6872920393943787] [G loss: 1.0109844207763672]\n",
            "757 [D loss: 0.6795886904001236] [G loss: 1.0473642349243164]\n",
            "758 [D loss: 0.6807343512773514] [G loss: 1.077509880065918]\n"
          ]
        },
        {
          "name": "stderr",
          "output_type": "stream",
          "text": [
            "\r 26%|██▌       | 761/2900 [01:15<03:25, 10.41it/s]"
          ]
        },
        {
          "name": "stdout",
          "output_type": "stream",
          "text": [
            "759 [D loss: 0.6723772138357162] [G loss: 1.143204927444458]\n",
            "760 [D loss: 0.705603837966919] [G loss: 1.1102228164672852]\n",
            "761 [D loss: 0.6903476715087891] [G loss: 1.0558985471725464]\n"
          ]
        },
        {
          "name": "stderr",
          "output_type": "stream",
          "text": [
            " 26%|██▋       | 765/2900 [01:16<03:26, 10.32it/s]"
          ]
        },
        {
          "name": "stdout",
          "output_type": "stream",
          "text": [
            "762 [D loss: 0.6918767392635345] [G loss: 1.0056653022766113]\n",
            "763 [D loss: 0.6876122355461121] [G loss: 1.0102293491363525]\n",
            "764 [D loss: 0.6786742210388184] [G loss: 1.0238920450210571]\n"
          ]
        },
        {
          "name": "stderr",
          "output_type": "stream",
          "text": [
            "\r 26%|██▋       | 767/2900 [01:16<03:23, 10.48it/s]"
          ]
        },
        {
          "name": "stdout",
          "output_type": "stream",
          "text": [
            "765 [D loss: 0.6819473803043365] [G loss: 1.045174241065979]\n",
            "766 [D loss: 0.6870195865631104] [G loss: 1.0200402736663818]\n",
            "767 [D loss: 0.6812545359134674] [G loss: 1.076338291168213]\n"
          ]
        },
        {
          "name": "stderr",
          "output_type": "stream",
          "text": [
            " 27%|██▋       | 771/2900 [01:16<03:11, 11.10it/s]"
          ]
        },
        {
          "name": "stdout",
          "output_type": "stream",
          "text": [
            "768 [D loss: 0.6813783049583435] [G loss: 1.0756399631500244]\n",
            "769 [D loss: 0.6956632733345032] [G loss: 1.026090383529663]\n",
            "770 [D loss: 0.6790359020233154] [G loss: 1.0386075973510742]\n"
          ]
        },
        {
          "name": "stderr",
          "output_type": "stream",
          "text": [
            "\r 27%|██▋       | 773/2900 [01:16<03:14, 10.94it/s]"
          ]
        },
        {
          "name": "stdout",
          "output_type": "stream",
          "text": [
            "771 [D loss: 0.6700379401445389] [G loss: 1.0965341329574585]\n",
            "772 [D loss: 0.6856447458267212] [G loss: 1.103215217590332]\n"
          ]
        },
        {
          "name": "stderr",
          "output_type": "stream",
          "text": [
            "\r 27%|██▋       | 775/2900 [01:16<03:17, 10.76it/s]"
          ]
        },
        {
          "name": "stdout",
          "output_type": "stream",
          "text": [
            "773 [D loss: 0.6987118571996689] [G loss: 1.030940055847168]\n",
            "774 [D loss: 0.690585196018219] [G loss: 1.0226062536239624]\n",
            "775 [D loss: 0.6747674643993378] [G loss: 1.0392251014709473]\n"
          ]
        },
        {
          "name": "stderr",
          "output_type": "stream",
          "text": [
            " 27%|██▋       | 779/2900 [01:17<03:19, 10.62it/s]"
          ]
        },
        {
          "name": "stdout",
          "output_type": "stream",
          "text": [
            "776 [D loss: 0.6834219396114349] [G loss: 1.044636607170105]\n",
            "777 [D loss: 0.6875333786010742] [G loss: 1.0281577110290527]\n",
            "778 [D loss: 0.687126874923706] [G loss: 1.0197795629501343]\n"
          ]
        },
        {
          "name": "stderr",
          "output_type": "stream",
          "text": [
            "\r 27%|██▋       | 781/2900 [01:17<03:17, 10.71it/s]"
          ]
        },
        {
          "name": "stdout",
          "output_type": "stream",
          "text": [
            "779 [D loss: 0.6710987091064453] [G loss: 1.0657284259796143]\n",
            "780 [D loss: 0.6943245530128479] [G loss: 1.0616490840911865]\n",
            "781 [D loss: 0.6905223429203033] [G loss: 1.0526683330535889]\n"
          ]
        },
        {
          "name": "stderr",
          "output_type": "stream",
          "text": [
            " 27%|██▋       | 785/2900 [01:17<03:17, 10.73it/s]"
          ]
        },
        {
          "name": "stdout",
          "output_type": "stream",
          "text": [
            "782 [D loss: 0.68503737449646] [G loss: 1.0425817966461182]\n",
            "783 [D loss: 0.6846276819705963] [G loss: 1.037865161895752]\n",
            "784 [D loss: 0.6804265975952148] [G loss: 1.0291037559509277]\n"
          ]
        },
        {
          "name": "stderr",
          "output_type": "stream",
          "text": [
            "\r 27%|██▋       | 787/2900 [01:18<03:13, 10.91it/s]"
          ]
        },
        {
          "name": "stdout",
          "output_type": "stream",
          "text": [
            "785 [D loss: 0.6804582178592682] [G loss: 1.05549955368042]\n",
            "786 [D loss: 0.6877158135175705] [G loss: 1.0112724304199219]\n",
            "787 [D loss: 0.6787639558315277] [G loss: 1.0165269374847412]\n"
          ]
        },
        {
          "name": "stderr",
          "output_type": "stream",
          "text": [
            " 27%|██▋       | 791/2900 [01:18<03:17, 10.69it/s]"
          ]
        },
        {
          "name": "stdout",
          "output_type": "stream",
          "text": [
            "788 [D loss: 0.6787040829658508] [G loss: 1.021984338760376]\n",
            "789 [D loss: 0.6777239888906479] [G loss: 1.0358400344848633]\n",
            "790 [D loss: 0.6725285649299622] [G loss: 1.068058729171753]\n"
          ]
        },
        {
          "name": "stderr",
          "output_type": "stream",
          "text": [
            "\r 27%|██▋       | 793/2900 [01:18<03:15, 10.78it/s]"
          ]
        },
        {
          "name": "stdout",
          "output_type": "stream",
          "text": [
            "791 [D loss: 0.6869852542877197] [G loss: 1.0553480386734009]\n",
            "792 [D loss: 0.6903416514396667] [G loss: 1.0439629554748535]\n",
            "793 [D loss: 0.6809835731983185] [G loss: 1.0294886827468872]\n"
          ]
        },
        {
          "name": "stderr",
          "output_type": "stream",
          "text": [
            " 27%|██▋       | 797/2900 [01:18<03:09, 11.07it/s]"
          ]
        },
        {
          "name": "stdout",
          "output_type": "stream",
          "text": [
            "794 [D loss: 0.669996052980423] [G loss: 1.0782374143600464]\n",
            "795 [D loss: 0.6772815883159637] [G loss: 1.0551936626434326]\n",
            "796 [D loss: 0.6739006042480469] [G loss: 1.056528925895691]\n"
          ]
        },
        {
          "name": "stderr",
          "output_type": "stream",
          "text": [
            "\r 28%|██▊       | 799/2900 [01:19<03:09, 11.09it/s]"
          ]
        },
        {
          "name": "stdout",
          "output_type": "stream",
          "text": [
            "797 [D loss: 0.6738960444927216] [G loss: 1.0711323022842407]\n",
            "798 [D loss: 0.6767372190952301] [G loss: 1.0718250274658203]\n",
            "799 [D loss: 0.683240681886673] [G loss: 1.038456678390503]\n"
          ]
        },
        {
          "name": "stderr",
          "output_type": "stream",
          "text": [
            " 28%|██▊       | 803/2900 [01:19<03:09, 11.05it/s]"
          ]
        },
        {
          "name": "stdout",
          "output_type": "stream",
          "text": [
            "800 [D loss: 0.6621066033840179] [G loss: 1.100182056427002]\n",
            "801 [D loss: 0.6937204301357269] [G loss: 1.0590718984603882]\n",
            "802 [D loss: 0.6765765845775604] [G loss: 1.0804328918457031]\n"
          ]
        },
        {
          "name": "stderr",
          "output_type": "stream",
          "text": [
            "\r 28%|██▊       | 805/2900 [01:19<03:09, 11.05it/s]"
          ]
        },
        {
          "name": "stdout",
          "output_type": "stream",
          "text": [
            "803 [D loss: 0.7000588476657867] [G loss: 1.0055429935455322]\n",
            "804 [D loss: 0.6702734529972076] [G loss: 1.0621671676635742]\n",
            "805 [D loss: 0.6909013390541077] [G loss: 1.001532793045044]\n"
          ]
        },
        {
          "name": "stderr",
          "output_type": "stream",
          "text": [
            " 28%|██▊       | 809/2900 [01:20<03:14, 10.73it/s]"
          ]
        },
        {
          "name": "stdout",
          "output_type": "stream",
          "text": [
            "806 [D loss: 0.6833980083465576] [G loss: 0.9969171285629272]\n",
            "807 [D loss: 0.6680566370487213] [G loss: 1.058279275894165]\n",
            "808 [D loss: 0.6862793266773224] [G loss: 0.999860405921936]\n"
          ]
        },
        {
          "name": "stderr",
          "output_type": "stream",
          "text": [
            "\r 28%|██▊       | 811/2900 [01:20<03:23, 10.25it/s]"
          ]
        },
        {
          "name": "stdout",
          "output_type": "stream",
          "text": [
            "809 [D loss: 0.6721089780330658] [G loss: 1.0388468503952026]\n",
            "810 [D loss: 0.6751573085784912] [G loss: 1.022705078125]\n"
          ]
        },
        {
          "name": "stderr",
          "output_type": "stream",
          "text": [
            "\r 28%|██▊       | 813/2900 [01:20<03:28, 10.02it/s]"
          ]
        },
        {
          "name": "stdout",
          "output_type": "stream",
          "text": [
            "811 [D loss: 0.6704363971948624] [G loss: 1.0200064182281494]\n",
            "812 [D loss: 0.6735014170408249] [G loss: 1.0731477737426758]\n",
            "813 [D loss: 0.6817040592432022] [G loss: 1.1301357746124268]\n"
          ]
        },
        {
          "name": "stderr",
          "output_type": "stream",
          "text": [
            " 28%|██▊       | 817/2900 [01:20<03:19, 10.43it/s]"
          ]
        },
        {
          "name": "stdout",
          "output_type": "stream",
          "text": [
            "814 [D loss: 0.708244115114212] [G loss: 1.028176188468933]\n",
            "815 [D loss: 0.6638048738241196] [G loss: 1.0726147890090942]\n",
            "816 [D loss: 0.6970215737819672] [G loss: 0.9930633902549744]\n"
          ]
        },
        {
          "name": "stderr",
          "output_type": "stream",
          "text": [
            "\r 28%|██▊       | 819/2900 [01:21<03:14, 10.69it/s]"
          ]
        },
        {
          "name": "stdout",
          "output_type": "stream",
          "text": [
            "817 [D loss: 0.6852508783340454] [G loss: 0.9985966682434082]\n",
            "818 [D loss: 0.6837112307548523] [G loss: 1.0123028755187988]\n",
            "819 [D loss: 0.6761181354522705] [G loss: 1.0193636417388916]\n"
          ]
        },
        {
          "name": "stderr",
          "output_type": "stream",
          "text": [
            " 28%|██▊       | 823/2900 [01:21<03:14, 10.70it/s]"
          ]
        },
        {
          "name": "stdout",
          "output_type": "stream",
          "text": [
            "820 [D loss: 0.6805924475193024] [G loss: 1.0199306011199951]\n",
            "821 [D loss: 0.6806532740592957] [G loss: 1.0235437154769897]\n",
            "822 [D loss: 0.6808836758136749] [G loss: 1.0227335691452026]\n"
          ]
        },
        {
          "name": "stderr",
          "output_type": "stream",
          "text": [
            "\r 28%|██▊       | 825/2900 [01:21<03:11, 10.84it/s]"
          ]
        },
        {
          "name": "stdout",
          "output_type": "stream",
          "text": [
            "823 [D loss: 0.6757112741470337] [G loss: 1.0302454233169556]\n",
            "824 [D loss: 0.6836187690496445] [G loss: 1.0103960037231445]\n",
            "825 [D loss: 0.6765652894973755] [G loss: 1.0594463348388672]\n"
          ]
        },
        {
          "name": "stderr",
          "output_type": "stream",
          "text": [
            " 29%|██▊       | 829/2900 [01:21<03:07, 11.02it/s]"
          ]
        },
        {
          "name": "stdout",
          "output_type": "stream",
          "text": [
            "826 [D loss: 0.6823164224624634] [G loss: 1.009791374206543]\n",
            "827 [D loss: 0.6824177205562592] [G loss: 1.0109423398971558]\n",
            "828 [D loss: 0.6776775121688843] [G loss: 1.0312926769256592]\n"
          ]
        },
        {
          "name": "stderr",
          "output_type": "stream",
          "text": [
            "\r 29%|██▊       | 831/2900 [01:22<03:11, 10.78it/s]"
          ]
        },
        {
          "name": "stdout",
          "output_type": "stream",
          "text": [
            "829 [D loss: 0.6832520365715027] [G loss: 1.0178025960922241]\n",
            "830 [D loss: 0.6702792942523956] [G loss: 1.0351231098175049]\n",
            "831 [D loss: 0.6682151108980179] [G loss: 1.1235520839691162]\n"
          ]
        },
        {
          "name": "stderr",
          "output_type": "stream",
          "text": [
            " 29%|██▉       | 835/2900 [01:22<03:18, 10.42it/s]"
          ]
        },
        {
          "name": "stdout",
          "output_type": "stream",
          "text": [
            "832 [D loss: 0.6846137344837189] [G loss: 1.0380409955978394]\n",
            "833 [D loss: 0.67722287774086] [G loss: 1.015624761581421]\n",
            "834 [D loss: 0.6708700805902481] [G loss: 1.0477620363235474]\n"
          ]
        },
        {
          "name": "stderr",
          "output_type": "stream",
          "text": [
            "\r 29%|██▉       | 837/2900 [01:22<03:15, 10.53it/s]"
          ]
        },
        {
          "name": "stdout",
          "output_type": "stream",
          "text": [
            "835 [D loss: 0.6750577390193939] [G loss: 1.0371218919754028]\n",
            "836 [D loss: 0.6726519912481308] [G loss: 1.0300809144973755]\n",
            "837 [D loss: 0.6726619750261307] [G loss: 1.0679166316986084]\n"
          ]
        },
        {
          "name": "stderr",
          "output_type": "stream",
          "text": [
            " 29%|██▉       | 841/2900 [01:23<03:06, 11.07it/s]"
          ]
        },
        {
          "name": "stdout",
          "output_type": "stream",
          "text": [
            "838 [D loss: 0.6885342597961426] [G loss: 1.0319112539291382]\n",
            "839 [D loss: 0.6679523885250092] [G loss: 1.038393259048462]\n",
            "840 [D loss: 0.6736131906509399] [G loss: 1.0254881381988525]\n"
          ]
        },
        {
          "name": "stderr",
          "output_type": "stream",
          "text": [
            "\r 29%|██▉       | 843/2900 [01:23<03:15, 10.51it/s]"
          ]
        },
        {
          "name": "stdout",
          "output_type": "stream",
          "text": [
            "841 [D loss: 0.6696178019046783] [G loss: 1.0384681224822998]\n",
            "842 [D loss: 0.6714702248573303] [G loss: 1.0564367771148682]\n",
            "843 [D loss: 0.6867033243179321] [G loss: 1.0076472759246826]\n"
          ]
        },
        {
          "name": "stderr",
          "output_type": "stream",
          "text": [
            " 29%|██▉       | 847/2900 [01:23<03:17, 10.42it/s]"
          ]
        },
        {
          "name": "stdout",
          "output_type": "stream",
          "text": [
            "844 [D loss: 0.6648297160863876] [G loss: 1.044172763824463]\n",
            "845 [D loss: 0.6735750287771225] [G loss: 1.0445013046264648]\n",
            "846 [D loss: 0.6698326915502548] [G loss: 1.06040620803833]\n"
          ]
        },
        {
          "name": "stderr",
          "output_type": "stream",
          "text": [
            "\r 29%|██▉       | 849/2900 [01:23<03:20, 10.25it/s]"
          ]
        },
        {
          "name": "stdout",
          "output_type": "stream",
          "text": [
            "847 [D loss: 0.6643147170543671] [G loss: 1.0739327669143677]\n",
            "848 [D loss: 0.6622000485658646] [G loss: 1.0859129428863525]\n"
          ]
        },
        {
          "name": "stderr",
          "output_type": "stream",
          "text": [
            "\r 29%|██▉       | 851/2900 [01:24<03:16, 10.45it/s]"
          ]
        },
        {
          "name": "stdout",
          "output_type": "stream",
          "text": [
            "849 [D loss: 0.6763006448745728] [G loss: 1.0762596130371094]\n",
            "850 [D loss: 0.6828807294368744] [G loss: 1.0562822818756104]\n",
            "851 [D loss: 0.6771517395973206] [G loss: 1.0169621706008911]\n"
          ]
        },
        {
          "name": "stderr",
          "output_type": "stream",
          "text": [
            " 29%|██▉       | 855/2900 [01:24<03:13, 10.54it/s]"
          ]
        },
        {
          "name": "stdout",
          "output_type": "stream",
          "text": [
            "852 [D loss: 0.668841078877449] [G loss: 1.0675932168960571]\n",
            "853 [D loss: 0.6781740337610245] [G loss: 1.0179239511489868]\n",
            "854 [D loss: 0.6778506338596344] [G loss: 1.0283807516098022]\n"
          ]
        },
        {
          "name": "stderr",
          "output_type": "stream",
          "text": [
            "\r 30%|██▉       | 857/2900 [01:24<03:13, 10.55it/s]"
          ]
        },
        {
          "name": "stdout",
          "output_type": "stream",
          "text": [
            "855 [D loss: 0.6667446792125702] [G loss: 1.0597643852233887]\n",
            "856 [D loss: 0.6761686503887177] [G loss: 1.1274919509887695]\n",
            "857 [D loss: 0.6898116916418076] [G loss: 1.082315444946289]\n"
          ]
        },
        {
          "name": "stderr",
          "output_type": "stream",
          "text": [
            " 30%|██▉       | 861/2900 [01:25<03:04, 11.05it/s]"
          ]
        },
        {
          "name": "stdout",
          "output_type": "stream",
          "text": [
            "858 [D loss: 0.6547182649374008] [G loss: 1.1080379486083984]\n",
            "859 [D loss: 0.6783917248249054] [G loss: 1.0484179258346558]\n",
            "860 [D loss: 0.6643824279308319] [G loss: 1.0352463722229004]\n"
          ]
        },
        {
          "name": "stderr",
          "output_type": "stream",
          "text": [
            "\r 30%|██▉       | 863/2900 [01:25<03:05, 10.99it/s]"
          ]
        },
        {
          "name": "stdout",
          "output_type": "stream",
          "text": [
            "861 [D loss: 0.670503169298172] [G loss: 1.0283676385879517]\n",
            "862 [D loss: 0.6711428463459015] [G loss: 1.0380418300628662]\n",
            "863 [D loss: 0.6722992360591888] [G loss: 1.042019248008728]\n"
          ]
        },
        {
          "name": "stderr",
          "output_type": "stream",
          "text": [
            " 30%|██▉       | 867/2900 [01:25<03:03, 11.06it/s]"
          ]
        },
        {
          "name": "stdout",
          "output_type": "stream",
          "text": [
            "864 [D loss: 0.686544731259346] [G loss: 1.0036506652832031]\n",
            "865 [D loss: 0.6707543134689331] [G loss: 1.036370873451233]\n",
            "866 [D loss: 0.6798944771289825] [G loss: 1.0132814645767212]\n"
          ]
        },
        {
          "name": "stderr",
          "output_type": "stream",
          "text": [
            "\r 30%|██▉       | 869/2900 [01:25<03:09, 10.71it/s]"
          ]
        },
        {
          "name": "stdout",
          "output_type": "stream",
          "text": [
            "867 [D loss: 0.6763559281826019] [G loss: 1.002476692199707]\n",
            "868 [D loss: 0.6688370406627655] [G loss: 1.0234352350234985]\n",
            "869 [D loss: 0.6730983853340149] [G loss: 1.0466210842132568]\n"
          ]
        },
        {
          "name": "stderr",
          "output_type": "stream",
          "text": [
            " 30%|███       | 873/2900 [01:26<03:09, 10.72it/s]"
          ]
        },
        {
          "name": "stdout",
          "output_type": "stream",
          "text": [
            "870 [D loss: 0.6822420954704285] [G loss: 1.0102874040603638]\n",
            "871 [D loss: 0.6819063425064087] [G loss: 0.9962764978408813]\n",
            "872 [D loss: 0.6636550426483154] [G loss: 1.0368425846099854]\n"
          ]
        },
        {
          "name": "stderr",
          "output_type": "stream",
          "text": [
            "\r 30%|███       | 875/2900 [01:26<03:15, 10.35it/s]"
          ]
        },
        {
          "name": "stdout",
          "output_type": "stream",
          "text": [
            "873 [D loss: 0.6753268837928772] [G loss: 1.0187101364135742]\n",
            "874 [D loss: 0.6766093969345093] [G loss: 1.0243449211120605]\n"
          ]
        },
        {
          "name": "stderr",
          "output_type": "stream",
          "text": [
            "\r 30%|███       | 877/2900 [01:26<03:23,  9.95it/s]"
          ]
        },
        {
          "name": "stdout",
          "output_type": "stream",
          "text": [
            "875 [D loss: 0.671018660068512] [G loss: 1.0466903448104858]\n",
            "876 [D loss: 0.6810615658760071] [G loss: 1.0160584449768066]\n"
          ]
        },
        {
          "name": "stderr",
          "output_type": "stream",
          "text": [
            "\r 30%|███       | 879/2900 [01:26<03:22,  9.97it/s]"
          ]
        },
        {
          "name": "stdout",
          "output_type": "stream",
          "text": [
            "877 [D loss: 0.6616819947957993] [G loss: 1.0428965091705322]\n",
            "878 [D loss: 0.6693844795227051] [G loss: 1.0147291421890259]\n",
            "879 [D loss: 0.6643198132514954] [G loss: 1.0434173345565796]\n"
          ]
        },
        {
          "name": "stderr",
          "output_type": "stream",
          "text": [
            " 30%|███       | 883/2900 [01:27<03:18, 10.15it/s]"
          ]
        },
        {
          "name": "stdout",
          "output_type": "stream",
          "text": [
            "880 [D loss: 0.6778510510921478] [G loss: 1.0196576118469238]\n",
            "881 [D loss: 0.6598035097122192] [G loss: 1.0736165046691895]\n",
            "882 [D loss: 0.6862764358520508] [G loss: 1.0293926000595093]\n"
          ]
        },
        {
          "name": "stderr",
          "output_type": "stream",
          "text": [
            "\r 31%|███       | 885/2900 [01:27<03:16, 10.25it/s]"
          ]
        },
        {
          "name": "stdout",
          "output_type": "stream",
          "text": [
            "883 [D loss: 0.6727026402950287] [G loss: 1.0175750255584717]\n",
            "884 [D loss: 0.6684717386960983] [G loss: 1.0504379272460938]\n",
            "885 [D loss: 0.6769064962863922] [G loss: 1.0224261283874512]\n"
          ]
        },
        {
          "name": "stderr",
          "output_type": "stream",
          "text": [
            " 31%|███       | 889/2900 [01:27<03:06, 10.77it/s]"
          ]
        },
        {
          "name": "stdout",
          "output_type": "stream",
          "text": [
            "886 [D loss: 0.670548602938652] [G loss: 1.0397686958312988]\n",
            "887 [D loss: 0.6783809661865234] [G loss: 1.020806074142456]\n",
            "888 [D loss: 0.6708024144172668] [G loss: 1.0764294862747192]\n"
          ]
        },
        {
          "name": "stderr",
          "output_type": "stream",
          "text": [
            "\r 31%|███       | 891/2900 [01:27<03:06, 10.76it/s]"
          ]
        },
        {
          "name": "stdout",
          "output_type": "stream",
          "text": [
            "889 [D loss: 0.688442587852478] [G loss: 0.9954465627670288]\n",
            "890 [D loss: 0.6586286723613739] [G loss: 1.0493519306182861]\n",
            "891 [D loss: 0.6865023970603943] [G loss: 1.0252470970153809]\n"
          ]
        },
        {
          "name": "stderr",
          "output_type": "stream",
          "text": [
            " 31%|███       | 895/2900 [01:28<03:04, 10.86it/s]"
          ]
        },
        {
          "name": "stdout",
          "output_type": "stream",
          "text": [
            "892 [D loss: 0.6809189915657043] [G loss: 0.9906479716300964]\n",
            "893 [D loss: 0.666024386882782] [G loss: 1.0057028532028198]\n",
            "894 [D loss: 0.6739637553691864] [G loss: 0.9928291440010071]\n"
          ]
        },
        {
          "name": "stderr",
          "output_type": "stream",
          "text": [
            "\r 31%|███       | 897/2900 [01:28<03:02, 10.97it/s]"
          ]
        },
        {
          "name": "stdout",
          "output_type": "stream",
          "text": [
            "895 [D loss: 0.6763925552368164] [G loss: 0.9969587922096252]\n",
            "896 [D loss: 0.6746318340301514] [G loss: 0.9897775053977966]\n",
            "897 [D loss: 0.6700995862483978] [G loss: 0.9921311736106873]\n"
          ]
        },
        {
          "name": "stderr",
          "output_type": "stream",
          "text": [
            " 31%|███       | 901/2900 [01:28<03:02, 10.97it/s]"
          ]
        },
        {
          "name": "stdout",
          "output_type": "stream",
          "text": [
            "898 [D loss: 0.6667873412370682] [G loss: 1.0168380737304688]\n",
            "899 [D loss: 0.6753568053245544] [G loss: 1.0047578811645508]\n",
            "900 [D loss: 0.6676497459411621] [G loss: 1.0369873046875]\n"
          ]
        },
        {
          "name": "stderr",
          "output_type": "stream",
          "text": [
            "\r 31%|███       | 903/2900 [01:29<03:07, 10.67it/s]"
          ]
        },
        {
          "name": "stdout",
          "output_type": "stream",
          "text": [
            "901 [D loss: 0.6669560521841049] [G loss: 1.0513118505477905]\n",
            "902 [D loss: 0.6673605740070343] [G loss: 1.0430909395217896]\n",
            "903 [D loss: 0.6696507930755615] [G loss: 1.014564037322998]\n"
          ]
        },
        {
          "name": "stderr",
          "output_type": "stream",
          "text": [
            " 31%|███▏      | 907/2900 [01:29<03:06, 10.67it/s]"
          ]
        },
        {
          "name": "stdout",
          "output_type": "stream",
          "text": [
            "904 [D loss: 0.6722084879875183] [G loss: 1.0319364070892334]\n",
            "905 [D loss: 0.6750127673149109] [G loss: 1.0828639268875122]\n",
            "906 [D loss: 0.6859056055545807] [G loss: 1.0237421989440918]\n"
          ]
        },
        {
          "name": "stderr",
          "output_type": "stream",
          "text": [
            "\r 31%|███▏      | 909/2900 [01:29<03:02, 10.89it/s]"
          ]
        },
        {
          "name": "stdout",
          "output_type": "stream",
          "text": [
            "907 [D loss: 0.6740869283676147] [G loss: 1.0160183906555176]\n",
            "908 [D loss: 0.6710209250450134] [G loss: 1.0340228080749512]\n",
            "909 [D loss: 0.68433478474617] [G loss: 1.0004262924194336]\n"
          ]
        },
        {
          "name": "stderr",
          "output_type": "stream",
          "text": [
            " 31%|███▏      | 913/2900 [01:29<03:07, 10.57it/s]"
          ]
        },
        {
          "name": "stdout",
          "output_type": "stream",
          "text": [
            "910 [D loss: 0.6699573695659637] [G loss: 0.9948437809944153]\n",
            "911 [D loss: 0.6642007529735565] [G loss: 1.0181584358215332]\n",
            "912 [D loss: 0.6760538518428802] [G loss: 1.013256311416626]\n"
          ]
        },
        {
          "name": "stderr",
          "output_type": "stream",
          "text": [
            "\r 32%|███▏      | 915/2900 [01:30<03:10, 10.42it/s]"
          ]
        },
        {
          "name": "stdout",
          "output_type": "stream",
          "text": [
            "913 [D loss: 0.6681618988513947] [G loss: 0.9973624348640442]\n",
            "914 [D loss: 0.6655380725860596] [G loss: 1.0703656673431396]\n",
            "915 [D loss: 0.6782079190015793] [G loss: 1.0151699781417847]\n"
          ]
        },
        {
          "name": "stderr",
          "output_type": "stream",
          "text": [
            " 32%|███▏      | 919/2900 [01:30<03:11, 10.37it/s]"
          ]
        },
        {
          "name": "stdout",
          "output_type": "stream",
          "text": [
            "916 [D loss: 0.6686785817146301] [G loss: 1.0153812170028687]\n",
            "917 [D loss: 0.6624315530061722] [G loss: 1.0087367296218872]\n",
            "918 [D loss: 0.6671469807624817] [G loss: 1.0430384874343872]\n"
          ]
        },
        {
          "name": "stderr",
          "output_type": "stream",
          "text": [
            "\r 32%|███▏      | 921/2900 [01:30<03:20,  9.85it/s]"
          ]
        },
        {
          "name": "stdout",
          "output_type": "stream",
          "text": [
            "919 [D loss: 0.6663746535778046] [G loss: 1.0330309867858887]\n",
            "920 [D loss: 0.6691784858703613] [G loss: 1.0432815551757812]\n",
            "921 [D loss: 0.6774493306875229] [G loss: 1.0145118236541748]\n"
          ]
        },
        {
          "name": "stderr",
          "output_type": "stream",
          "text": [
            " 32%|███▏      | 925/2900 [01:31<03:07, 10.51it/s]"
          ]
        },
        {
          "name": "stdout",
          "output_type": "stream",
          "text": [
            "922 [D loss: 0.6556956917047501] [G loss: 1.0723435878753662]\n",
            "923 [D loss: 0.6846769750118256] [G loss: 1.040860652923584]\n",
            "924 [D loss: 0.661157637834549] [G loss: 1.0336925983428955]\n"
          ]
        },
        {
          "name": "stderr",
          "output_type": "stream",
          "text": [
            "\r 32%|███▏      | 927/2900 [01:31<03:14, 10.16it/s]"
          ]
        },
        {
          "name": "stdout",
          "output_type": "stream",
          "text": [
            "925 [D loss: 0.6665558815002441] [G loss: 1.010637640953064]\n",
            "926 [D loss: 0.6725689172744751] [G loss: 0.9843271970748901]\n"
          ]
        },
        {
          "name": "stderr",
          "output_type": "stream",
          "text": [
            "\r 32%|███▏      | 929/2900 [01:31<03:14, 10.13it/s]"
          ]
        },
        {
          "name": "stdout",
          "output_type": "stream",
          "text": [
            "927 [D loss: 0.6629057228565216] [G loss: 1.0168640613555908]\n",
            "928 [D loss: 0.6623173356056213] [G loss: 1.0103256702423096]\n",
            "929 [D loss: 0.6608168482780457] [G loss: 0.9954264163970947]\n"
          ]
        },
        {
          "name": "stderr",
          "output_type": "stream",
          "text": [
            " 32%|███▏      | 933/2900 [01:31<03:10, 10.33it/s]"
          ]
        },
        {
          "name": "stdout",
          "output_type": "stream",
          "text": [
            "930 [D loss: 0.6697599589824677] [G loss: 1.0137449502944946]\n",
            "931 [D loss: 0.6657595634460449] [G loss: 1.0461528301239014]\n",
            "932 [D loss: 0.6641290187835693] [G loss: 1.0581257343292236]\n"
          ]
        },
        {
          "name": "stderr",
          "output_type": "stream",
          "text": [
            "\r 32%|███▏      | 935/2900 [01:32<03:07, 10.48it/s]"
          ]
        },
        {
          "name": "stdout",
          "output_type": "stream",
          "text": [
            "933 [D loss: 0.6709559261798859] [G loss: 1.0426456928253174]\n",
            "934 [D loss: 0.691203236579895] [G loss: 0.9918206930160522]\n",
            "935 [D loss: 0.6698944270610809] [G loss: 1.007014513015747]\n"
          ]
        },
        {
          "name": "stderr",
          "output_type": "stream",
          "text": [
            " 32%|███▏      | 939/2900 [01:32<03:02, 10.74it/s]"
          ]
        },
        {
          "name": "stdout",
          "output_type": "stream",
          "text": [
            "936 [D loss: 0.6682348251342773] [G loss: 1.028918981552124]\n",
            "937 [D loss: 0.6728528141975403] [G loss: 1.0246827602386475]\n",
            "938 [D loss: 0.6762227714061737] [G loss: 0.9939370155334473]\n"
          ]
        },
        {
          "name": "stderr",
          "output_type": "stream",
          "text": [
            "\r 32%|███▏      | 941/2900 [01:32<03:05, 10.57it/s]"
          ]
        },
        {
          "name": "stdout",
          "output_type": "stream",
          "text": [
            "939 [D loss: 0.6707495450973511] [G loss: 0.994671106338501]\n",
            "940 [D loss: 0.6579710245132446] [G loss: 1.0655347108840942]\n",
            "941 [D loss: 0.6735527068376541] [G loss: 1.0560284852981567]\n"
          ]
        },
        {
          "name": "stderr",
          "output_type": "stream",
          "text": [
            " 33%|███▎      | 945/2900 [01:33<03:04, 10.60it/s]"
          ]
        },
        {
          "name": "stdout",
          "output_type": "stream",
          "text": [
            "942 [D loss: 0.6824305653572083] [G loss: 1.0062769651412964]\n",
            "943 [D loss: 0.6730453073978424] [G loss: 1.0332868099212646]\n",
            "944 [D loss: 0.6743107289075851] [G loss: 0.9909301996231079]\n"
          ]
        },
        {
          "name": "stderr",
          "output_type": "stream",
          "text": [
            "\r 33%|███▎      | 947/2900 [01:33<03:04, 10.61it/s]"
          ]
        },
        {
          "name": "stdout",
          "output_type": "stream",
          "text": [
            "945 [D loss: 0.6731474101543427] [G loss: 1.0486993789672852]\n",
            "946 [D loss: 0.6663212478160858] [G loss: 0.9972496628761292]\n",
            "947 [D loss: 0.6738739907741547] [G loss: 1.015222430229187]\n"
          ]
        },
        {
          "name": "stderr",
          "output_type": "stream",
          "text": [
            " 33%|███▎      | 951/2900 [01:33<02:54, 11.16it/s]"
          ]
        },
        {
          "name": "stdout",
          "output_type": "stream",
          "text": [
            "948 [D loss: 0.6649245321750641] [G loss: 1.044846773147583]\n",
            "949 [D loss: 0.6761307120323181] [G loss: 1.0442092418670654]\n",
            "950 [D loss: 0.6724527478218079] [G loss: 1.0178576707839966]\n"
          ]
        },
        {
          "name": "stderr",
          "output_type": "stream",
          "text": [
            "\r 33%|███▎      | 953/2900 [01:33<03:05, 10.47it/s]"
          ]
        },
        {
          "name": "stdout",
          "output_type": "stream",
          "text": [
            "951 [D loss: 0.6713634729385376] [G loss: 0.9988492727279663]\n",
            "952 [D loss: 0.6733648777008057] [G loss: 1.0261192321777344]\n",
            "953 [D loss: 0.669275164604187] [G loss: 0.9913628101348877]\n"
          ]
        },
        {
          "name": "stderr",
          "output_type": "stream",
          "text": [
            " 33%|███▎      | 957/2900 [01:34<02:56, 11.02it/s]"
          ]
        },
        {
          "name": "stdout",
          "output_type": "stream",
          "text": [
            "954 [D loss: 0.6614238619804382] [G loss: 0.9909956455230713]\n",
            "955 [D loss: 0.6637154221534729] [G loss: 1.0049841403961182]\n",
            "956 [D loss: 0.665092945098877] [G loss: 0.9950919151306152]\n"
          ]
        },
        {
          "name": "stderr",
          "output_type": "stream",
          "text": [
            "\r 33%|███▎      | 959/2900 [01:34<02:54, 11.14it/s]"
          ]
        },
        {
          "name": "stdout",
          "output_type": "stream",
          "text": [
            "957 [D loss: 0.6540079414844513] [G loss: 1.1205215454101562]\n",
            "958 [D loss: 0.6895131170749664] [G loss: 0.9938086867332458]\n",
            "959 [D loss: 0.6620916724205017] [G loss: 1.0386790037155151]\n"
          ]
        },
        {
          "name": "stderr",
          "output_type": "stream",
          "text": [
            " 33%|███▎      | 963/2900 [01:34<02:57, 10.94it/s]"
          ]
        },
        {
          "name": "stdout",
          "output_type": "stream",
          "text": [
            "960 [D loss: 0.6733142882585526] [G loss: 1.0562447309494019]\n",
            "961 [D loss: 0.6795251071453094] [G loss: 1.0014140605926514]\n",
            "962 [D loss: 0.6718967854976654] [G loss: 0.999910295009613]\n"
          ]
        },
        {
          "name": "stderr",
          "output_type": "stream",
          "text": [
            "\r 33%|███▎      | 965/2900 [01:34<02:58, 10.86it/s]"
          ]
        },
        {
          "name": "stdout",
          "output_type": "stream",
          "text": [
            "963 [D loss: 0.6648534536361694] [G loss: 1.0154719352722168]\n",
            "964 [D loss: 0.6629538834095001] [G loss: 1.0376698970794678]\n",
            "965 [D loss: 0.681257426738739] [G loss: 0.9858524203300476]\n"
          ]
        },
        {
          "name": "stderr",
          "output_type": "stream",
          "text": [
            " 33%|███▎      | 969/2900 [01:35<02:57, 10.86it/s]"
          ]
        },
        {
          "name": "stdout",
          "output_type": "stream",
          "text": [
            "966 [D loss: 0.6742574572563171] [G loss: 0.982092559337616]\n",
            "967 [D loss: 0.6775423586368561] [G loss: 0.9637932777404785]\n",
            "968 [D loss: 0.6595910787582397] [G loss: 0.9911532402038574]\n"
          ]
        },
        {
          "name": "stderr",
          "output_type": "stream",
          "text": [
            "\r 33%|███▎      | 971/2900 [01:35<02:55, 10.97it/s]"
          ]
        },
        {
          "name": "stdout",
          "output_type": "stream",
          "text": [
            "969 [D loss: 0.6712208390235901] [G loss: 0.9866584539413452]\n",
            "970 [D loss: 0.664225161075592] [G loss: 1.0045840740203857]\n",
            "971 [D loss: 0.6599067151546478] [G loss: 1.0134263038635254]\n"
          ]
        },
        {
          "name": "stderr",
          "output_type": "stream",
          "text": [
            "\r 34%|███▎      | 973/2900 [01:35<02:55, 11.00it/s]"
          ]
        },
        {
          "name": "stdout",
          "output_type": "stream",
          "text": [
            "972 [D loss: 0.6810851991176605] [G loss: 0.9895449876785278]\n",
            "973 [D loss: 0.6741851568222046] [G loss: 1.021116018295288]\n"
          ]
        },
        {
          "name": "stderr",
          "output_type": "stream",
          "text": [
            " 34%|███▎      | 977/2900 [01:35<03:00, 10.64it/s]"
          ]
        },
        {
          "name": "stdout",
          "output_type": "stream",
          "text": [
            "974 [D loss: 0.6806033253669739] [G loss: 0.9958480596542358]\n",
            "975 [D loss: 0.6596411764621735] [G loss: 1.0295075178146362]\n",
            "976 [D loss: 0.6845215857028961] [G loss: 0.9988186955451965]\n"
          ]
        },
        {
          "name": "stderr",
          "output_type": "stream",
          "text": [
            "\r 34%|███▍      | 979/2900 [01:36<03:00, 10.62it/s]"
          ]
        },
        {
          "name": "stdout",
          "output_type": "stream",
          "text": [
            "977 [D loss: 0.6699913144111633] [G loss: 1.0493671894073486]\n",
            "978 [D loss: 0.6734022796154022] [G loss: 0.9996800422668457]\n",
            "979 [D loss: 0.6746924817562103] [G loss: 0.9928768873214722]\n"
          ]
        },
        {
          "name": "stderr",
          "output_type": "stream",
          "text": [
            " 34%|███▍      | 983/2900 [01:36<02:56, 10.88it/s]"
          ]
        },
        {
          "name": "stdout",
          "output_type": "stream",
          "text": [
            "980 [D loss: 0.6782728433609009] [G loss: 0.9802864789962769]\n",
            "981 [D loss: 0.6756879091262817] [G loss: 0.9907466173171997]\n",
            "982 [D loss: 0.6672043204307556] [G loss: 1.0158905982971191]\n"
          ]
        },
        {
          "name": "stderr",
          "output_type": "stream",
          "text": [
            "\r 34%|███▍      | 985/2900 [01:36<03:00, 10.63it/s]"
          ]
        },
        {
          "name": "stdout",
          "output_type": "stream",
          "text": [
            "983 [D loss: 0.6708179712295532] [G loss: 1.017494559288025]\n",
            "984 [D loss: 0.6673101186752319] [G loss: 1.0003018379211426]\n"
          ]
        },
        {
          "name": "stderr",
          "output_type": "stream",
          "text": [
            "\r 34%|███▍      | 987/2900 [01:36<03:06, 10.26it/s]"
          ]
        },
        {
          "name": "stdout",
          "output_type": "stream",
          "text": [
            "985 [D loss: 0.6757040619850159] [G loss: 0.987281084060669]\n",
            "986 [D loss: 0.6717169284820557] [G loss: 1.0215731859207153]\n",
            "987 [D loss: 0.6619404554367065] [G loss: 1.0108306407928467]\n"
          ]
        },
        {
          "name": "stderr",
          "output_type": "stream",
          "text": [
            " 34%|███▍      | 991/2900 [01:37<02:59, 10.61it/s]"
          ]
        },
        {
          "name": "stdout",
          "output_type": "stream",
          "text": [
            "988 [D loss: 0.6706116795539856] [G loss: 1.0132806301116943]\n",
            "989 [D loss: 0.677914023399353] [G loss: 0.9728125333786011]\n",
            "990 [D loss: 0.6602813601493835] [G loss: 1.0539965629577637]\n"
          ]
        },
        {
          "name": "stderr",
          "output_type": "stream",
          "text": [
            "\r 34%|███▍      | 993/2900 [01:37<02:59, 10.61it/s]"
          ]
        },
        {
          "name": "stdout",
          "output_type": "stream",
          "text": [
            "991 [D loss: 0.6705056130886078] [G loss: 1.0225770473480225]\n",
            "992 [D loss: 0.6630466282367706] [G loss: 1.0388611555099487]\n",
            "993 [D loss: 0.6794094443321228] [G loss: 0.9817944765090942]\n"
          ]
        },
        {
          "name": "stderr",
          "output_type": "stream",
          "text": [
            " 34%|███▍      | 997/2900 [01:37<02:55, 10.86it/s]"
          ]
        },
        {
          "name": "stdout",
          "output_type": "stream",
          "text": [
            "994 [D loss: 0.6646848320960999] [G loss: 1.0125945806503296]\n",
            "995 [D loss: 0.6683677732944489] [G loss: 1.0158672332763672]\n",
            "996 [D loss: 0.674820214509964] [G loss: 1.0298126935958862]\n"
          ]
        },
        {
          "name": "stderr",
          "output_type": "stream",
          "text": [
            "\r 34%|███▍      | 999/2900 [01:38<02:57, 10.70it/s]"
          ]
        },
        {
          "name": "stdout",
          "output_type": "stream",
          "text": [
            "997 [D loss: 0.6606158912181854] [G loss: 1.0463995933532715]\n",
            "998 [D loss: 0.6691341996192932] [G loss: 1.0224883556365967]\n",
            "999 [D loss: 0.6623496413230896] [G loss: 1.0227936506271362]\n"
          ]
        },
        {
          "name": "stderr",
          "output_type": "stream",
          "text": [
            " 35%|███▍      | 1003/2900 [01:38<02:52, 10.97it/s]"
          ]
        },
        {
          "name": "stdout",
          "output_type": "stream",
          "text": [
            "1000 [D loss: 0.6686786711215973] [G loss: 1.0503284931182861]\n",
            "1001 [D loss: 0.6800761222839355] [G loss: 1.0386557579040527]\n",
            "1002 [D loss: 0.667036771774292] [G loss: 1.000171184539795]\n"
          ]
        },
        {
          "name": "stderr",
          "output_type": "stream",
          "text": [
            "\r 35%|███▍      | 1005/2900 [01:38<02:51, 11.07it/s]"
          ]
        },
        {
          "name": "stdout",
          "output_type": "stream",
          "text": [
            "1003 [D loss: 0.6670463681221008] [G loss: 1.0186824798583984]\n",
            "1004 [D loss: 0.6582892686128616] [G loss: 1.0328593254089355]\n",
            "1005 [D loss: 0.6704370379447937] [G loss: 1.0094791650772095]\n"
          ]
        },
        {
          "name": "stderr",
          "output_type": "stream",
          "text": [
            " 35%|███▍      | 1009/2900 [01:38<02:56, 10.70it/s]"
          ]
        },
        {
          "name": "stdout",
          "output_type": "stream",
          "text": [
            "1006 [D loss: 0.670165091753006] [G loss: 1.0056641101837158]\n",
            "1007 [D loss: 0.6669668257236481] [G loss: 1.0248445272445679]\n",
            "1008 [D loss: 0.6699208319187164] [G loss: 0.9798304438591003]\n"
          ]
        },
        {
          "name": "stderr",
          "output_type": "stream",
          "text": [
            "\r 35%|███▍      | 1011/2900 [01:39<02:53, 10.90it/s]"
          ]
        },
        {
          "name": "stdout",
          "output_type": "stream",
          "text": [
            "1009 [D loss: 0.6572587192058563] [G loss: 1.069231390953064]\n",
            "1010 [D loss: 0.6759574711322784] [G loss: 0.9929144978523254]\n",
            "1011 [D loss: 0.6724931597709656] [G loss: 1.038212537765503]\n"
          ]
        },
        {
          "name": "stderr",
          "output_type": "stream",
          "text": [
            " 35%|███▌      | 1015/2900 [01:39<02:58, 10.54it/s]"
          ]
        },
        {
          "name": "stdout",
          "output_type": "stream",
          "text": [
            "1012 [D loss: 0.6671992242336273] [G loss: 1.0185761451721191]\n",
            "1013 [D loss: 0.6796654462814331] [G loss: 0.9771460294723511]\n",
            "1014 [D loss: 0.6639828085899353] [G loss: 1.0538601875305176]\n"
          ]
        },
        {
          "name": "stderr",
          "output_type": "stream",
          "text": [
            "\r 35%|███▌      | 1017/2900 [01:39<03:00, 10.45it/s]"
          ]
        },
        {
          "name": "stdout",
          "output_type": "stream",
          "text": [
            "1015 [D loss: 0.6819444596767426] [G loss: 1.0096845626831055]\n",
            "1016 [D loss: 0.6703730523586273] [G loss: 0.9822109937667847]\n",
            "1017 [D loss: 0.6573899984359741] [G loss: 1.0556929111480713]\n"
          ]
        },
        {
          "name": "stderr",
          "output_type": "stream",
          "text": [
            " 35%|███▌      | 1021/2900 [01:40<02:55, 10.69it/s]"
          ]
        },
        {
          "name": "stdout",
          "output_type": "stream",
          "text": [
            "1018 [D loss: 0.6799478232860565] [G loss: 1.0130712985992432]\n",
            "1019 [D loss: 0.6636309623718262] [G loss: 1.0106751918792725]\n",
            "1020 [D loss: 0.6702757775783539] [G loss: 1.0507969856262207]\n"
          ]
        },
        {
          "name": "stderr",
          "output_type": "stream",
          "text": [
            "\r 35%|███▌      | 1023/2900 [01:40<02:55, 10.70it/s]"
          ]
        },
        {
          "name": "stdout",
          "output_type": "stream",
          "text": [
            "1021 [D loss: 0.6765380203723907] [G loss: 0.994975209236145]\n",
            "1022 [D loss: 0.6785203218460083] [G loss: 0.9832750558853149]\n",
            "1023 [D loss: 0.6581347584724426] [G loss: 1.0358026027679443]\n"
          ]
        },
        {
          "name": "stderr",
          "output_type": "stream",
          "text": [
            " 35%|███▌      | 1027/2900 [01:40<02:51, 10.94it/s]"
          ]
        },
        {
          "name": "stdout",
          "output_type": "stream",
          "text": [
            "1024 [D loss: 0.6643853187561035] [G loss: 1.0330102443695068]\n",
            "1025 [D loss: 0.6812227368354797] [G loss: 0.9926920533180237]\n",
            "1026 [D loss: 0.6647512912750244] [G loss: 1.015498399734497]\n"
          ]
        },
        {
          "name": "stderr",
          "output_type": "stream",
          "text": [
            "\r 35%|███▌      | 1029/2900 [01:40<02:52, 10.85it/s]"
          ]
        },
        {
          "name": "stdout",
          "output_type": "stream",
          "text": [
            "1027 [D loss: 0.6555631756782532] [G loss: 1.1072146892547607]\n",
            "1028 [D loss: 0.6938148438930511] [G loss: 0.9934320449829102]\n",
            "1029 [D loss: 0.6661011874675751] [G loss: 1.028522253036499]\n"
          ]
        },
        {
          "name": "stderr",
          "output_type": "stream",
          "text": [
            " 36%|███▌      | 1033/2900 [01:41<02:50, 10.98it/s]"
          ]
        },
        {
          "name": "stdout",
          "output_type": "stream",
          "text": [
            "1030 [D loss: 0.6791567206382751] [G loss: 0.9646707773208618]\n",
            "1031 [D loss: 0.6625759303569794] [G loss: 1.0298418998718262]\n",
            "1032 [D loss: 0.6742749214172363] [G loss: 0.9894005656242371]\n"
          ]
        },
        {
          "name": "stderr",
          "output_type": "stream",
          "text": [
            "\r 36%|███▌      | 1035/2900 [01:41<02:48, 11.09it/s]"
          ]
        },
        {
          "name": "stdout",
          "output_type": "stream",
          "text": [
            "1033 [D loss: 0.6573690176010132] [G loss: 1.007725477218628]\n",
            "1034 [D loss: 0.6702719330787659] [G loss: 0.9952821731567383]\n",
            "1035 [D loss: 0.6592682301998138] [G loss: 1.0563933849334717]\n"
          ]
        },
        {
          "name": "stderr",
          "output_type": "stream",
          "text": [
            " 36%|███▌      | 1039/2900 [01:41<02:50, 10.95it/s]"
          ]
        },
        {
          "name": "stdout",
          "output_type": "stream",
          "text": [
            "1036 [D loss: 0.6917128562927246] [G loss: 1.0110023021697998]\n",
            "1037 [D loss: 0.6709410846233368] [G loss: 0.9828630685806274]\n",
            "1038 [D loss: 0.6699536442756653] [G loss: 1.025408148765564]\n"
          ]
        },
        {
          "name": "stderr",
          "output_type": "stream",
          "text": [
            "\r 36%|███▌      | 1041/2900 [01:41<02:52, 10.77it/s]"
          ]
        },
        {
          "name": "stdout",
          "output_type": "stream",
          "text": [
            "1039 [D loss: 0.657124400138855] [G loss: 1.0264075994491577]\n",
            "1040 [D loss: 0.6682686805725098] [G loss: 1.0095009803771973]\n",
            "1041 [D loss: 0.6681681275367737] [G loss: 0.9958422183990479]\n"
          ]
        },
        {
          "name": "stderr",
          "output_type": "stream",
          "text": [
            " 36%|███▌      | 1044/2900 [01:42<03:01, 10.21it/s]"
          ]
        },
        {
          "name": "stdout",
          "output_type": "stream",
          "text": [
            "1042 [D loss: 0.6597362458705902] [G loss: 1.0271706581115723]\n",
            "1043 [D loss: 0.6687744557857513] [G loss: 0.9727054834365845]\n"
          ]
        },
        {
          "name": "stderr",
          "output_type": "stream",
          "text": [
            "\n"
          ]
        },
        {
          "ename": "KeyboardInterrupt",
          "evalue": "ignored",
          "output_type": "error",
          "traceback": [
            "\u001b[0;31m---------------------------------------------------------------------------\u001b[0m",
            "\u001b[0;31mKeyboardInterrupt\u001b[0m                         Traceback (most recent call last)",
            "\u001b[0;32m<ipython-input-19-029b29f3d3ad>\u001b[0m in \u001b[0;36m<module>\u001b[0;34m()\u001b[0m\n\u001b[1;32m     21\u001b[0m \u001b[0;31m# timetaken = timecallback()\u001b[0m\u001b[0;34m\u001b[0m\u001b[0;34m\u001b[0m\u001b[0;34m\u001b[0m\u001b[0m\n\u001b[1;32m     22\u001b[0m \u001b[0;34m\u001b[0m\u001b[0m\n\u001b[0;32m---> 23\u001b[0;31m \u001b[0mtrain\u001b[0m\u001b[0;34m(\u001b[0m\u001b[0mepochs\u001b[0m\u001b[0;34m=\u001b[0m\u001b[0;36m2900\u001b[0m\u001b[0;34m,\u001b[0m \u001b[0mbatch_size\u001b[0m\u001b[0;34m=\u001b[0m\u001b[0;36m32\u001b[0m\u001b[0;34m)\u001b[0m\u001b[0;34m\u001b[0m\u001b[0;34m\u001b[0m\u001b[0m\n\u001b[0m\u001b[1;32m     24\u001b[0m \u001b[0mgenerator\u001b[0m\u001b[0;34m.\u001b[0m\u001b[0msave\u001b[0m\u001b[0;34m(\u001b[0m\u001b[0;34m'/gdrive/MyDrive/BMEN_4470_Fall_2021/Final Project/Final_Project_Dataset/generator_model_2_9K.h5'\u001b[0m\u001b[0;34m)\u001b[0m\u001b[0;34m\u001b[0m\u001b[0;34m\u001b[0m\u001b[0m\n",
            "\u001b[0;32m<ipython-input-17-0b76a105be23>\u001b[0m in \u001b[0;36mtrain\u001b[0;34m(epochs, batch_size)\u001b[0m\n\u001b[1;32m     22\u001b[0m \u001b[0;34m\u001b[0m\u001b[0m\n\u001b[1;32m     23\u001b[0m         \u001b[0;31m# Generate a half batch of fake signals\u001b[0m\u001b[0;34m\u001b[0m\u001b[0;34m\u001b[0m\u001b[0;34m\u001b[0m\u001b[0m\n\u001b[0;32m---> 24\u001b[0;31m         \u001b[0mgen_signals\u001b[0m \u001b[0;34m=\u001b[0m \u001b[0mgenerator\u001b[0m\u001b[0;34m.\u001b[0m\u001b[0mpredict\u001b[0m\u001b[0;34m(\u001b[0m\u001b[0mnoise\u001b[0m\u001b[0;34m)\u001b[0m\u001b[0;34m\u001b[0m\u001b[0;34m\u001b[0m\u001b[0m\n\u001b[0m\u001b[1;32m     25\u001b[0m \u001b[0;34m\u001b[0m\u001b[0m\n\u001b[1;32m     26\u001b[0m         \u001b[0;31m# Train the discriminator on real and fake signals, separately\u001b[0m\u001b[0;34m\u001b[0m\u001b[0;34m\u001b[0m\u001b[0;34m\u001b[0m\u001b[0m\n",
            "\u001b[0;32m/usr/local/lib/python3.7/dist-packages/keras/utils/traceback_utils.py\u001b[0m in \u001b[0;36merror_handler\u001b[0;34m(*args, **kwargs)\u001b[0m\n\u001b[1;32m     62\u001b[0m     \u001b[0mfiltered_tb\u001b[0m \u001b[0;34m=\u001b[0m \u001b[0;32mNone\u001b[0m\u001b[0;34m\u001b[0m\u001b[0;34m\u001b[0m\u001b[0m\n\u001b[1;32m     63\u001b[0m     \u001b[0;32mtry\u001b[0m\u001b[0;34m:\u001b[0m\u001b[0;34m\u001b[0m\u001b[0;34m\u001b[0m\u001b[0m\n\u001b[0;32m---> 64\u001b[0;31m       \u001b[0;32mreturn\u001b[0m \u001b[0mfn\u001b[0m\u001b[0;34m(\u001b[0m\u001b[0;34m*\u001b[0m\u001b[0margs\u001b[0m\u001b[0;34m,\u001b[0m \u001b[0;34m**\u001b[0m\u001b[0mkwargs\u001b[0m\u001b[0;34m)\u001b[0m\u001b[0;34m\u001b[0m\u001b[0;34m\u001b[0m\u001b[0m\n\u001b[0m\u001b[1;32m     65\u001b[0m     \u001b[0;32mexcept\u001b[0m \u001b[0mException\u001b[0m \u001b[0;32mas\u001b[0m \u001b[0me\u001b[0m\u001b[0;34m:\u001b[0m  \u001b[0;31m# pylint: disable=broad-except\u001b[0m\u001b[0;34m\u001b[0m\u001b[0;34m\u001b[0m\u001b[0m\n\u001b[1;32m     66\u001b[0m       \u001b[0mfiltered_tb\u001b[0m \u001b[0;34m=\u001b[0m \u001b[0m_process_traceback_frames\u001b[0m\u001b[0;34m(\u001b[0m\u001b[0me\u001b[0m\u001b[0;34m.\u001b[0m\u001b[0m__traceback__\u001b[0m\u001b[0;34m)\u001b[0m\u001b[0;34m\u001b[0m\u001b[0;34m\u001b[0m\u001b[0m\n",
            "\u001b[0;32m/usr/local/lib/python3.7/dist-packages/keras/engine/training.py\u001b[0m in \u001b[0;36mpredict\u001b[0;34m(self, x, batch_size, verbose, steps, callbacks, max_queue_size, workers, use_multiprocessing)\u001b[0m\n\u001b[1;32m   1766\u001b[0m           \u001b[0muse_multiprocessing\u001b[0m\u001b[0;34m=\u001b[0m\u001b[0muse_multiprocessing\u001b[0m\u001b[0;34m,\u001b[0m\u001b[0;34m\u001b[0m\u001b[0;34m\u001b[0m\u001b[0m\n\u001b[1;32m   1767\u001b[0m           \u001b[0mmodel\u001b[0m\u001b[0;34m=\u001b[0m\u001b[0mself\u001b[0m\u001b[0;34m,\u001b[0m\u001b[0;34m\u001b[0m\u001b[0;34m\u001b[0m\u001b[0m\n\u001b[0;32m-> 1768\u001b[0;31m           steps_per_execution=self._steps_per_execution)\n\u001b[0m\u001b[1;32m   1769\u001b[0m \u001b[0;34m\u001b[0m\u001b[0m\n\u001b[1;32m   1770\u001b[0m       \u001b[0;31m# Container that configures and calls `tf.keras.Callback`s.\u001b[0m\u001b[0;34m\u001b[0m\u001b[0;34m\u001b[0m\u001b[0;34m\u001b[0m\u001b[0m\n",
            "\u001b[0;32m/usr/local/lib/python3.7/dist-packages/keras/engine/data_adapter.py\u001b[0m in \u001b[0;36mget_data_handler\u001b[0;34m(*args, **kwargs)\u001b[0m\n\u001b[1;32m   1401\u001b[0m   \u001b[0;32mif\u001b[0m \u001b[0mgetattr\u001b[0m\u001b[0;34m(\u001b[0m\u001b[0mkwargs\u001b[0m\u001b[0;34m[\u001b[0m\u001b[0;34m\"model\"\u001b[0m\u001b[0;34m]\u001b[0m\u001b[0;34m,\u001b[0m \u001b[0;34m\"_cluster_coordinator\"\u001b[0m\u001b[0;34m,\u001b[0m \u001b[0;32mNone\u001b[0m\u001b[0;34m)\u001b[0m\u001b[0;34m:\u001b[0m\u001b[0;34m\u001b[0m\u001b[0;34m\u001b[0m\u001b[0m\n\u001b[1;32m   1402\u001b[0m     \u001b[0;32mreturn\u001b[0m \u001b[0m_ClusterCoordinatorDataHandler\u001b[0m\u001b[0;34m(\u001b[0m\u001b[0;34m*\u001b[0m\u001b[0margs\u001b[0m\u001b[0;34m,\u001b[0m \u001b[0;34m**\u001b[0m\u001b[0mkwargs\u001b[0m\u001b[0;34m)\u001b[0m\u001b[0;34m\u001b[0m\u001b[0;34m\u001b[0m\u001b[0m\n\u001b[0;32m-> 1403\u001b[0;31m   \u001b[0;32mreturn\u001b[0m \u001b[0mDataHandler\u001b[0m\u001b[0;34m(\u001b[0m\u001b[0;34m*\u001b[0m\u001b[0margs\u001b[0m\u001b[0;34m,\u001b[0m \u001b[0;34m**\u001b[0m\u001b[0mkwargs\u001b[0m\u001b[0;34m)\u001b[0m\u001b[0;34m\u001b[0m\u001b[0;34m\u001b[0m\u001b[0m\n\u001b[0m\u001b[1;32m   1404\u001b[0m \u001b[0;34m\u001b[0m\u001b[0m\n\u001b[1;32m   1405\u001b[0m \u001b[0;34m\u001b[0m\u001b[0m\n",
            "\u001b[0;32m/usr/local/lib/python3.7/dist-packages/keras/engine/data_adapter.py\u001b[0m in \u001b[0;36m__init__\u001b[0;34m(self, x, y, sample_weight, batch_size, steps_per_epoch, initial_epoch, epochs, shuffle, class_weight, max_queue_size, workers, use_multiprocessing, model, steps_per_execution, distribute)\u001b[0m\n\u001b[1;32m   1163\u001b[0m         \u001b[0muse_multiprocessing\u001b[0m\u001b[0;34m=\u001b[0m\u001b[0muse_multiprocessing\u001b[0m\u001b[0;34m,\u001b[0m\u001b[0;34m\u001b[0m\u001b[0;34m\u001b[0m\u001b[0m\n\u001b[1;32m   1164\u001b[0m         \u001b[0mdistribution_strategy\u001b[0m\u001b[0;34m=\u001b[0m\u001b[0mtf\u001b[0m\u001b[0;34m.\u001b[0m\u001b[0mdistribute\u001b[0m\u001b[0;34m.\u001b[0m\u001b[0mget_strategy\u001b[0m\u001b[0;34m(\u001b[0m\u001b[0;34m)\u001b[0m\u001b[0;34m,\u001b[0m\u001b[0;34m\u001b[0m\u001b[0;34m\u001b[0m\u001b[0m\n\u001b[0;32m-> 1165\u001b[0;31m         model=model)\n\u001b[0m\u001b[1;32m   1166\u001b[0m \u001b[0;34m\u001b[0m\u001b[0m\n\u001b[1;32m   1167\u001b[0m     \u001b[0mstrategy\u001b[0m \u001b[0;34m=\u001b[0m \u001b[0mtf\u001b[0m\u001b[0;34m.\u001b[0m\u001b[0mdistribute\u001b[0m\u001b[0;34m.\u001b[0m\u001b[0mget_strategy\u001b[0m\u001b[0;34m(\u001b[0m\u001b[0;34m)\u001b[0m\u001b[0;34m\u001b[0m\u001b[0;34m\u001b[0m\u001b[0m\n",
            "\u001b[0;32m/usr/local/lib/python3.7/dist-packages/keras/engine/data_adapter.py\u001b[0m in \u001b[0;36m__init__\u001b[0;34m(self, x, y, sample_weights, sample_weight_modes, batch_size, epochs, steps, shuffle, **kwargs)\u001b[0m\n\u001b[1;32m    323\u001b[0m       \u001b[0;32mreturn\u001b[0m \u001b[0mflat_dataset\u001b[0m\u001b[0;34m\u001b[0m\u001b[0;34m\u001b[0m\u001b[0m\n\u001b[1;32m    324\u001b[0m \u001b[0;34m\u001b[0m\u001b[0m\n\u001b[0;32m--> 325\u001b[0;31m     \u001b[0mindices_dataset\u001b[0m \u001b[0;34m=\u001b[0m \u001b[0mindices_dataset\u001b[0m\u001b[0;34m.\u001b[0m\u001b[0mflat_map\u001b[0m\u001b[0;34m(\u001b[0m\u001b[0mslice_batch_indices\u001b[0m\u001b[0;34m)\u001b[0m\u001b[0;34m\u001b[0m\u001b[0;34m\u001b[0m\u001b[0m\n\u001b[0m\u001b[1;32m    326\u001b[0m \u001b[0;34m\u001b[0m\u001b[0m\n\u001b[1;32m    327\u001b[0m     \u001b[0mdataset\u001b[0m \u001b[0;34m=\u001b[0m \u001b[0mself\u001b[0m\u001b[0;34m.\u001b[0m\u001b[0mslice_inputs\u001b[0m\u001b[0;34m(\u001b[0m\u001b[0mindices_dataset\u001b[0m\u001b[0;34m,\u001b[0m \u001b[0minputs\u001b[0m\u001b[0;34m)\u001b[0m\u001b[0;34m\u001b[0m\u001b[0;34m\u001b[0m\u001b[0m\n",
            "\u001b[0;32m/usr/local/lib/python3.7/dist-packages/tensorflow/python/data/ops/dataset_ops.py\u001b[0m in \u001b[0;36mflat_map\u001b[0;34m(self, map_func, name)\u001b[0m\n\u001b[1;32m   2046\u001b[0m       \u001b[0mDataset\u001b[0m\u001b[0;34m:\u001b[0m \u001b[0mA\u001b[0m\u001b[0;31m \u001b[0m\u001b[0;31m`\u001b[0m\u001b[0mDataset\u001b[0m\u001b[0;31m`\u001b[0m\u001b[0;34m.\u001b[0m\u001b[0;34m\u001b[0m\u001b[0;34m\u001b[0m\u001b[0m\n\u001b[1;32m   2047\u001b[0m     \"\"\"\n\u001b[0;32m-> 2048\u001b[0;31m     \u001b[0;32mreturn\u001b[0m \u001b[0mFlatMapDataset\u001b[0m\u001b[0;34m(\u001b[0m\u001b[0mself\u001b[0m\u001b[0;34m,\u001b[0m \u001b[0mmap_func\u001b[0m\u001b[0;34m,\u001b[0m \u001b[0mname\u001b[0m\u001b[0;34m=\u001b[0m\u001b[0mname\u001b[0m\u001b[0;34m)\u001b[0m\u001b[0;34m\u001b[0m\u001b[0;34m\u001b[0m\u001b[0m\n\u001b[0m\u001b[1;32m   2049\u001b[0m \u001b[0;34m\u001b[0m\u001b[0m\n\u001b[1;32m   2050\u001b[0m   def interleave(self,\n",
            "\u001b[0;32m/usr/local/lib/python3.7/dist-packages/tensorflow/python/data/ops/dataset_ops.py\u001b[0m in \u001b[0;36m__init__\u001b[0;34m(self, input_dataset, map_func, name)\u001b[0m\n\u001b[1;32m   5548\u001b[0m     \u001b[0mself\u001b[0m\u001b[0;34m.\u001b[0m\u001b[0m_input_dataset\u001b[0m \u001b[0;34m=\u001b[0m \u001b[0minput_dataset\u001b[0m\u001b[0;34m\u001b[0m\u001b[0;34m\u001b[0m\u001b[0m\n\u001b[1;32m   5549\u001b[0m     self._map_func = StructuredFunctionWrapper(\n\u001b[0;32m-> 5550\u001b[0;31m         map_func, self._transformation_name(), dataset=input_dataset)\n\u001b[0m\u001b[1;32m   5551\u001b[0m     \u001b[0;32mif\u001b[0m \u001b[0;32mnot\u001b[0m \u001b[0misinstance\u001b[0m\u001b[0;34m(\u001b[0m\u001b[0mself\u001b[0m\u001b[0;34m.\u001b[0m\u001b[0m_map_func\u001b[0m\u001b[0;34m.\u001b[0m\u001b[0moutput_structure\u001b[0m\u001b[0;34m,\u001b[0m \u001b[0mDatasetSpec\u001b[0m\u001b[0;34m)\u001b[0m\u001b[0;34m:\u001b[0m\u001b[0;34m\u001b[0m\u001b[0;34m\u001b[0m\u001b[0m\n\u001b[1;32m   5552\u001b[0m       raise TypeError(\n",
            "\u001b[0;32m/usr/local/lib/python3.7/dist-packages/tensorflow/python/data/ops/dataset_ops.py\u001b[0m in \u001b[0;36m__init__\u001b[0;34m(self, func, transformation_name, dataset, input_classes, input_shapes, input_types, input_structure, add_to_graph, use_legacy_function, defun_kwargs)\u001b[0m\n\u001b[1;32m   4531\u001b[0m         \u001b[0mfn_factory\u001b[0m \u001b[0;34m=\u001b[0m \u001b[0mtrace_tf_function\u001b[0m\u001b[0;34m(\u001b[0m\u001b[0mdefun_kwargs\u001b[0m\u001b[0;34m)\u001b[0m\u001b[0;34m\u001b[0m\u001b[0;34m\u001b[0m\u001b[0m\n\u001b[1;32m   4532\u001b[0m \u001b[0;34m\u001b[0m\u001b[0m\n\u001b[0;32m-> 4533\u001b[0;31m     \u001b[0mself\u001b[0m\u001b[0;34m.\u001b[0m\u001b[0m_function\u001b[0m \u001b[0;34m=\u001b[0m \u001b[0mfn_factory\u001b[0m\u001b[0;34m(\u001b[0m\u001b[0;34m)\u001b[0m\u001b[0;34m\u001b[0m\u001b[0;34m\u001b[0m\u001b[0m\n\u001b[0m\u001b[1;32m   4534\u001b[0m     \u001b[0;31m# There is no graph to add in eager mode.\u001b[0m\u001b[0;34m\u001b[0m\u001b[0;34m\u001b[0m\u001b[0;34m\u001b[0m\u001b[0m\n\u001b[1;32m   4535\u001b[0m     \u001b[0madd_to_graph\u001b[0m \u001b[0;34m&=\u001b[0m \u001b[0;32mnot\u001b[0m \u001b[0mcontext\u001b[0m\u001b[0;34m.\u001b[0m\u001b[0mexecuting_eagerly\u001b[0m\u001b[0;34m(\u001b[0m\u001b[0;34m)\u001b[0m\u001b[0;34m\u001b[0m\u001b[0;34m\u001b[0m\u001b[0m\n",
            "\u001b[0;32m/usr/local/lib/python3.7/dist-packages/tensorflow/python/eager/function.py\u001b[0m in \u001b[0;36mget_concrete_function\u001b[0;34m(self, *args, **kwargs)\u001b[0m\n\u001b[1;32m   3243\u001b[0m     \"\"\"\n\u001b[1;32m   3244\u001b[0m     graph_function = self._get_concrete_function_garbage_collected(\n\u001b[0;32m-> 3245\u001b[0;31m         *args, **kwargs)\n\u001b[0m\u001b[1;32m   3246\u001b[0m     \u001b[0mgraph_function\u001b[0m\u001b[0;34m.\u001b[0m\u001b[0m_garbage_collector\u001b[0m\u001b[0;34m.\u001b[0m\u001b[0mrelease\u001b[0m\u001b[0;34m(\u001b[0m\u001b[0;34m)\u001b[0m  \u001b[0;31m# pylint: disable=protected-access\u001b[0m\u001b[0;34m\u001b[0m\u001b[0;34m\u001b[0m\u001b[0m\n\u001b[1;32m   3247\u001b[0m     \u001b[0;32mreturn\u001b[0m \u001b[0mgraph_function\u001b[0m\u001b[0;34m\u001b[0m\u001b[0;34m\u001b[0m\u001b[0m\n",
            "\u001b[0;32m/usr/local/lib/python3.7/dist-packages/tensorflow/python/eager/function.py\u001b[0m in \u001b[0;36m_get_concrete_function_garbage_collected\u001b[0;34m(self, *args, **kwargs)\u001b[0m\n\u001b[1;32m   3208\u001b[0m       \u001b[0margs\u001b[0m\u001b[0;34m,\u001b[0m \u001b[0mkwargs\u001b[0m \u001b[0;34m=\u001b[0m \u001b[0;32mNone\u001b[0m\u001b[0;34m,\u001b[0m \u001b[0;32mNone\u001b[0m\u001b[0;34m\u001b[0m\u001b[0;34m\u001b[0m\u001b[0m\n\u001b[1;32m   3209\u001b[0m     \u001b[0;32mwith\u001b[0m \u001b[0mself\u001b[0m\u001b[0;34m.\u001b[0m\u001b[0m_lock\u001b[0m\u001b[0;34m:\u001b[0m\u001b[0;34m\u001b[0m\u001b[0;34m\u001b[0m\u001b[0m\n\u001b[0;32m-> 3210\u001b[0;31m       \u001b[0mgraph_function\u001b[0m\u001b[0;34m,\u001b[0m \u001b[0m_\u001b[0m \u001b[0;34m=\u001b[0m \u001b[0mself\u001b[0m\u001b[0;34m.\u001b[0m\u001b[0m_maybe_define_function\u001b[0m\u001b[0;34m(\u001b[0m\u001b[0margs\u001b[0m\u001b[0;34m,\u001b[0m \u001b[0mkwargs\u001b[0m\u001b[0;34m)\u001b[0m\u001b[0;34m\u001b[0m\u001b[0;34m\u001b[0m\u001b[0m\n\u001b[0m\u001b[1;32m   3211\u001b[0m       \u001b[0mseen_names\u001b[0m \u001b[0;34m=\u001b[0m \u001b[0mset\u001b[0m\u001b[0;34m(\u001b[0m\u001b[0;34m)\u001b[0m\u001b[0;34m\u001b[0m\u001b[0;34m\u001b[0m\u001b[0m\n\u001b[1;32m   3212\u001b[0m       captured = object_identity.ObjectIdentitySet(\n",
            "\u001b[0;32m/usr/local/lib/python3.7/dist-packages/tensorflow/python/eager/function.py\u001b[0m in \u001b[0;36m_maybe_define_function\u001b[0;34m(self, args, kwargs)\u001b[0m\n\u001b[1;32m   3555\u001b[0m \u001b[0;34m\u001b[0m\u001b[0m\n\u001b[1;32m   3556\u001b[0m           \u001b[0mself\u001b[0m\u001b[0;34m.\u001b[0m\u001b[0m_function_cache\u001b[0m\u001b[0;34m.\u001b[0m\u001b[0mmissed\u001b[0m\u001b[0;34m.\u001b[0m\u001b[0madd\u001b[0m\u001b[0;34m(\u001b[0m\u001b[0mcall_context_key\u001b[0m\u001b[0;34m)\u001b[0m\u001b[0;34m\u001b[0m\u001b[0;34m\u001b[0m\u001b[0m\n\u001b[0;32m-> 3557\u001b[0;31m           \u001b[0mgraph_function\u001b[0m \u001b[0;34m=\u001b[0m \u001b[0mself\u001b[0m\u001b[0;34m.\u001b[0m\u001b[0m_create_graph_function\u001b[0m\u001b[0;34m(\u001b[0m\u001b[0margs\u001b[0m\u001b[0;34m,\u001b[0m \u001b[0mkwargs\u001b[0m\u001b[0;34m)\u001b[0m\u001b[0;34m\u001b[0m\u001b[0;34m\u001b[0m\u001b[0m\n\u001b[0m\u001b[1;32m   3558\u001b[0m           \u001b[0mself\u001b[0m\u001b[0;34m.\u001b[0m\u001b[0m_function_cache\u001b[0m\u001b[0;34m.\u001b[0m\u001b[0mprimary\u001b[0m\u001b[0;34m[\u001b[0m\u001b[0mcache_key\u001b[0m\u001b[0;34m]\u001b[0m \u001b[0;34m=\u001b[0m \u001b[0mgraph_function\u001b[0m\u001b[0;34m\u001b[0m\u001b[0;34m\u001b[0m\u001b[0m\n\u001b[1;32m   3559\u001b[0m \u001b[0;34m\u001b[0m\u001b[0m\n",
            "\u001b[0;32m/usr/local/lib/python3.7/dist-packages/tensorflow/python/eager/function.py\u001b[0m in \u001b[0;36m_create_graph_function\u001b[0;34m(self, args, kwargs, override_flat_arg_shapes)\u001b[0m\n\u001b[1;32m   3400\u001b[0m             \u001b[0marg_names\u001b[0m\u001b[0;34m=\u001b[0m\u001b[0marg_names\u001b[0m\u001b[0;34m,\u001b[0m\u001b[0;34m\u001b[0m\u001b[0;34m\u001b[0m\u001b[0m\n\u001b[1;32m   3401\u001b[0m             \u001b[0moverride_flat_arg_shapes\u001b[0m\u001b[0;34m=\u001b[0m\u001b[0moverride_flat_arg_shapes\u001b[0m\u001b[0;34m,\u001b[0m\u001b[0;34m\u001b[0m\u001b[0;34m\u001b[0m\u001b[0m\n\u001b[0;32m-> 3402\u001b[0;31m             capture_by_value=self._capture_by_value),\n\u001b[0m\u001b[1;32m   3403\u001b[0m         \u001b[0mself\u001b[0m\u001b[0;34m.\u001b[0m\u001b[0m_function_attributes\u001b[0m\u001b[0;34m,\u001b[0m\u001b[0;34m\u001b[0m\u001b[0;34m\u001b[0m\u001b[0m\n\u001b[1;32m   3404\u001b[0m         \u001b[0mfunction_spec\u001b[0m\u001b[0;34m=\u001b[0m\u001b[0mself\u001b[0m\u001b[0;34m.\u001b[0m\u001b[0mfunction_spec\u001b[0m\u001b[0;34m,\u001b[0m\u001b[0;34m\u001b[0m\u001b[0;34m\u001b[0m\u001b[0m\n",
            "\u001b[0;32m/usr/local/lib/python3.7/dist-packages/tensorflow/python/framework/func_graph.py\u001b[0m in \u001b[0;36mfunc_graph_from_py_func\u001b[0;34m(name, python_func, args, kwargs, signature, func_graph, autograph, autograph_options, add_control_dependencies, arg_names, op_return_value, collections, capture_by_value, override_flat_arg_shapes, acd_record_initial_resource_uses)\u001b[0m\n\u001b[1;32m   1141\u001b[0m         \u001b[0m_\u001b[0m\u001b[0;34m,\u001b[0m \u001b[0moriginal_func\u001b[0m \u001b[0;34m=\u001b[0m \u001b[0mtf_decorator\u001b[0m\u001b[0;34m.\u001b[0m\u001b[0munwrap\u001b[0m\u001b[0;34m(\u001b[0m\u001b[0mpython_func\u001b[0m\u001b[0;34m)\u001b[0m\u001b[0;34m\u001b[0m\u001b[0;34m\u001b[0m\u001b[0m\n\u001b[1;32m   1142\u001b[0m \u001b[0;34m\u001b[0m\u001b[0m\n\u001b[0;32m-> 1143\u001b[0;31m       \u001b[0mfunc_outputs\u001b[0m \u001b[0;34m=\u001b[0m \u001b[0mpython_func\u001b[0m\u001b[0;34m(\u001b[0m\u001b[0;34m*\u001b[0m\u001b[0mfunc_args\u001b[0m\u001b[0;34m,\u001b[0m \u001b[0;34m**\u001b[0m\u001b[0mfunc_kwargs\u001b[0m\u001b[0;34m)\u001b[0m\u001b[0;34m\u001b[0m\u001b[0;34m\u001b[0m\u001b[0m\n\u001b[0m\u001b[1;32m   1144\u001b[0m \u001b[0;34m\u001b[0m\u001b[0m\n\u001b[1;32m   1145\u001b[0m       \u001b[0;31m# invariant: `func_outputs` contains only Tensors, CompositeTensors,\u001b[0m\u001b[0;34m\u001b[0m\u001b[0;34m\u001b[0m\u001b[0;34m\u001b[0m\u001b[0m\n",
            "\u001b[0;32m/usr/local/lib/python3.7/dist-packages/tensorflow/python/data/ops/dataset_ops.py\u001b[0m in \u001b[0;36mwrapped_fn\u001b[0;34m(*args)\u001b[0m\n\u001b[1;32m   4508\u001b[0m           attributes=defun_kwargs)\n\u001b[1;32m   4509\u001b[0m       \u001b[0;32mdef\u001b[0m \u001b[0mwrapped_fn\u001b[0m\u001b[0;34m(\u001b[0m\u001b[0;34m*\u001b[0m\u001b[0margs\u001b[0m\u001b[0;34m)\u001b[0m\u001b[0;34m:\u001b[0m  \u001b[0;31m# pylint: disable=missing-docstring\u001b[0m\u001b[0;34m\u001b[0m\u001b[0;34m\u001b[0m\u001b[0m\n\u001b[0;32m-> 4510\u001b[0;31m         \u001b[0mret\u001b[0m \u001b[0;34m=\u001b[0m \u001b[0mwrapper_helper\u001b[0m\u001b[0;34m(\u001b[0m\u001b[0;34m*\u001b[0m\u001b[0margs\u001b[0m\u001b[0;34m)\u001b[0m\u001b[0;34m\u001b[0m\u001b[0;34m\u001b[0m\u001b[0m\n\u001b[0m\u001b[1;32m   4511\u001b[0m         \u001b[0mret\u001b[0m \u001b[0;34m=\u001b[0m \u001b[0mstructure\u001b[0m\u001b[0;34m.\u001b[0m\u001b[0mto_tensor_list\u001b[0m\u001b[0;34m(\u001b[0m\u001b[0mself\u001b[0m\u001b[0;34m.\u001b[0m\u001b[0m_output_structure\u001b[0m\u001b[0;34m,\u001b[0m \u001b[0mret\u001b[0m\u001b[0;34m)\u001b[0m\u001b[0;34m\u001b[0m\u001b[0;34m\u001b[0m\u001b[0m\n\u001b[1;32m   4512\u001b[0m         \u001b[0;32mreturn\u001b[0m \u001b[0;34m[\u001b[0m\u001b[0mops\u001b[0m\u001b[0;34m.\u001b[0m\u001b[0mconvert_to_tensor\u001b[0m\u001b[0;34m(\u001b[0m\u001b[0mt\u001b[0m\u001b[0;34m)\u001b[0m \u001b[0;32mfor\u001b[0m \u001b[0mt\u001b[0m \u001b[0;32min\u001b[0m \u001b[0mret\u001b[0m\u001b[0;34m]\u001b[0m\u001b[0;34m\u001b[0m\u001b[0;34m\u001b[0m\u001b[0m\n",
            "\u001b[0;32m/usr/local/lib/python3.7/dist-packages/tensorflow/python/data/ops/dataset_ops.py\u001b[0m in \u001b[0;36mwrapper_helper\u001b[0;34m(*args)\u001b[0m\n\u001b[1;32m   4438\u001b[0m       \u001b[0;32mif\u001b[0m \u001b[0;32mnot\u001b[0m \u001b[0m_should_unpack\u001b[0m\u001b[0;34m(\u001b[0m\u001b[0mnested_args\u001b[0m\u001b[0;34m)\u001b[0m\u001b[0;34m:\u001b[0m\u001b[0;34m\u001b[0m\u001b[0;34m\u001b[0m\u001b[0m\n\u001b[1;32m   4439\u001b[0m         \u001b[0mnested_args\u001b[0m \u001b[0;34m=\u001b[0m \u001b[0;34m(\u001b[0m\u001b[0mnested_args\u001b[0m\u001b[0;34m,\u001b[0m\u001b[0;34m)\u001b[0m\u001b[0;34m\u001b[0m\u001b[0;34m\u001b[0m\u001b[0m\n\u001b[0;32m-> 4440\u001b[0;31m       \u001b[0mret\u001b[0m \u001b[0;34m=\u001b[0m \u001b[0mautograph\u001b[0m\u001b[0;34m.\u001b[0m\u001b[0mtf_convert\u001b[0m\u001b[0;34m(\u001b[0m\u001b[0mself\u001b[0m\u001b[0;34m.\u001b[0m\u001b[0m_func\u001b[0m\u001b[0;34m,\u001b[0m \u001b[0mag_ctx\u001b[0m\u001b[0;34m)\u001b[0m\u001b[0;34m(\u001b[0m\u001b[0;34m*\u001b[0m\u001b[0mnested_args\u001b[0m\u001b[0;34m)\u001b[0m\u001b[0;34m\u001b[0m\u001b[0;34m\u001b[0m\u001b[0m\n\u001b[0m\u001b[1;32m   4441\u001b[0m       \u001b[0;32mif\u001b[0m \u001b[0m_should_pack\u001b[0m\u001b[0;34m(\u001b[0m\u001b[0mret\u001b[0m\u001b[0;34m)\u001b[0m\u001b[0;34m:\u001b[0m\u001b[0;34m\u001b[0m\u001b[0;34m\u001b[0m\u001b[0m\n\u001b[1;32m   4442\u001b[0m         \u001b[0mret\u001b[0m \u001b[0;34m=\u001b[0m \u001b[0mtuple\u001b[0m\u001b[0;34m(\u001b[0m\u001b[0mret\u001b[0m\u001b[0;34m)\u001b[0m\u001b[0;34m\u001b[0m\u001b[0;34m\u001b[0m\u001b[0m\n",
            "\u001b[0;32m/usr/local/lib/python3.7/dist-packages/tensorflow/python/autograph/impl/api.py\u001b[0m in \u001b[0;36mwrapper\u001b[0;34m(*args, **kwargs)\u001b[0m\n\u001b[1;32m    694\u001b[0m       \u001b[0;32mtry\u001b[0m\u001b[0;34m:\u001b[0m\u001b[0;34m\u001b[0m\u001b[0;34m\u001b[0m\u001b[0m\n\u001b[1;32m    695\u001b[0m         \u001b[0;32mwith\u001b[0m \u001b[0mconversion_ctx\u001b[0m\u001b[0;34m:\u001b[0m\u001b[0;34m\u001b[0m\u001b[0;34m\u001b[0m\u001b[0m\n\u001b[0;32m--> 696\u001b[0;31m           \u001b[0;32mreturn\u001b[0m \u001b[0mconverted_call\u001b[0m\u001b[0;34m(\u001b[0m\u001b[0mf\u001b[0m\u001b[0;34m,\u001b[0m \u001b[0margs\u001b[0m\u001b[0;34m,\u001b[0m \u001b[0mkwargs\u001b[0m\u001b[0;34m,\u001b[0m \u001b[0moptions\u001b[0m\u001b[0;34m=\u001b[0m\u001b[0moptions\u001b[0m\u001b[0;34m)\u001b[0m\u001b[0;34m\u001b[0m\u001b[0;34m\u001b[0m\u001b[0m\n\u001b[0m\u001b[1;32m    697\u001b[0m       \u001b[0;32mexcept\u001b[0m \u001b[0mException\u001b[0m \u001b[0;32mas\u001b[0m \u001b[0me\u001b[0m\u001b[0;34m:\u001b[0m  \u001b[0;31m# pylint:disable=broad-except\u001b[0m\u001b[0;34m\u001b[0m\u001b[0;34m\u001b[0m\u001b[0m\n\u001b[1;32m    698\u001b[0m         \u001b[0;32mif\u001b[0m \u001b[0mhasattr\u001b[0m\u001b[0;34m(\u001b[0m\u001b[0me\u001b[0m\u001b[0;34m,\u001b[0m \u001b[0;34m'ag_error_metadata'\u001b[0m\u001b[0;34m)\u001b[0m\u001b[0;34m:\u001b[0m\u001b[0;34m\u001b[0m\u001b[0;34m\u001b[0m\u001b[0m\n",
            "\u001b[0;32m/usr/local/lib/python3.7/dist-packages/tensorflow/python/autograph/impl/api.py\u001b[0m in \u001b[0;36mconverted_call\u001b[0;34m(f, args, kwargs, caller_fn_scope, options)\u001b[0m\n\u001b[1;32m    381\u001b[0m \u001b[0;34m\u001b[0m\u001b[0m\n\u001b[1;32m    382\u001b[0m   \u001b[0;32mif\u001b[0m \u001b[0;32mnot\u001b[0m \u001b[0moptions\u001b[0m\u001b[0;34m.\u001b[0m\u001b[0muser_requested\u001b[0m \u001b[0;32mand\u001b[0m \u001b[0mconversion\u001b[0m\u001b[0;34m.\u001b[0m\u001b[0mis_allowlisted\u001b[0m\u001b[0;34m(\u001b[0m\u001b[0mf\u001b[0m\u001b[0;34m)\u001b[0m\u001b[0;34m:\u001b[0m\u001b[0;34m\u001b[0m\u001b[0;34m\u001b[0m\u001b[0m\n\u001b[0;32m--> 383\u001b[0;31m     \u001b[0;32mreturn\u001b[0m \u001b[0m_call_unconverted\u001b[0m\u001b[0;34m(\u001b[0m\u001b[0mf\u001b[0m\u001b[0;34m,\u001b[0m \u001b[0margs\u001b[0m\u001b[0;34m,\u001b[0m \u001b[0mkwargs\u001b[0m\u001b[0;34m,\u001b[0m \u001b[0moptions\u001b[0m\u001b[0;34m)\u001b[0m\u001b[0;34m\u001b[0m\u001b[0;34m\u001b[0m\u001b[0m\n\u001b[0m\u001b[1;32m    384\u001b[0m \u001b[0;34m\u001b[0m\u001b[0m\n\u001b[1;32m    385\u001b[0m   \u001b[0;31m# internal_convert_user_code is for example turned off when issuing a dynamic\u001b[0m\u001b[0;34m\u001b[0m\u001b[0;34m\u001b[0m\u001b[0;34m\u001b[0m\u001b[0m\n",
            "\u001b[0;32m/usr/local/lib/python3.7/dist-packages/tensorflow/python/autograph/impl/api.py\u001b[0m in \u001b[0;36m_call_unconverted\u001b[0;34m(f, args, kwargs, options, update_cache)\u001b[0m\n\u001b[1;32m    462\u001b[0m \u001b[0;34m\u001b[0m\u001b[0m\n\u001b[1;32m    463\u001b[0m   \u001b[0;32mif\u001b[0m \u001b[0mkwargs\u001b[0m \u001b[0;32mis\u001b[0m \u001b[0;32mnot\u001b[0m \u001b[0;32mNone\u001b[0m\u001b[0;34m:\u001b[0m\u001b[0;34m\u001b[0m\u001b[0;34m\u001b[0m\u001b[0m\n\u001b[0;32m--> 464\u001b[0;31m     \u001b[0;32mreturn\u001b[0m \u001b[0mf\u001b[0m\u001b[0;34m(\u001b[0m\u001b[0;34m*\u001b[0m\u001b[0margs\u001b[0m\u001b[0;34m,\u001b[0m \u001b[0;34m**\u001b[0m\u001b[0mkwargs\u001b[0m\u001b[0;34m)\u001b[0m\u001b[0;34m\u001b[0m\u001b[0;34m\u001b[0m\u001b[0m\n\u001b[0m\u001b[1;32m    465\u001b[0m   \u001b[0;32mreturn\u001b[0m \u001b[0mf\u001b[0m\u001b[0;34m(\u001b[0m\u001b[0;34m*\u001b[0m\u001b[0margs\u001b[0m\u001b[0;34m)\u001b[0m\u001b[0;34m\u001b[0m\u001b[0;34m\u001b[0m\u001b[0m\n\u001b[1;32m    466\u001b[0m \u001b[0;34m\u001b[0m\u001b[0m\n",
            "\u001b[0;32m/usr/local/lib/python3.7/dist-packages/keras/engine/data_adapter.py\u001b[0m in \u001b[0;36mslice_batch_indices\u001b[0;34m(indices)\u001b[0m\n\u001b[1;32m    315\u001b[0m       \u001b[0;32mif\u001b[0m \u001b[0mself\u001b[0m\u001b[0;34m.\u001b[0m\u001b[0m_partial_batch_size\u001b[0m\u001b[0;34m:\u001b[0m\u001b[0;34m\u001b[0m\u001b[0;34m\u001b[0m\u001b[0m\n\u001b[1;32m    316\u001b[0m         index_remainder = tf.data.Dataset.from_tensors(tf.slice(\n\u001b[0;32m--> 317\u001b[0;31m             indices, [num_in_full_batch], [self._partial_batch_size]))\n\u001b[0m\u001b[1;32m    318\u001b[0m         \u001b[0mflat_dataset\u001b[0m \u001b[0;34m=\u001b[0m \u001b[0mflat_dataset\u001b[0m\u001b[0;34m.\u001b[0m\u001b[0mconcatenate\u001b[0m\u001b[0;34m(\u001b[0m\u001b[0mindex_remainder\u001b[0m\u001b[0;34m)\u001b[0m\u001b[0;34m\u001b[0m\u001b[0;34m\u001b[0m\u001b[0m\n\u001b[1;32m    319\u001b[0m \u001b[0;34m\u001b[0m\u001b[0m\n",
            "\u001b[0;32m/usr/local/lib/python3.7/dist-packages/tensorflow/python/util/traceback_utils.py\u001b[0m in \u001b[0;36merror_handler\u001b[0;34m(*args, **kwargs)\u001b[0m\n\u001b[1;32m    148\u001b[0m     \u001b[0mfiltered_tb\u001b[0m \u001b[0;34m=\u001b[0m \u001b[0;32mNone\u001b[0m\u001b[0;34m\u001b[0m\u001b[0;34m\u001b[0m\u001b[0m\n\u001b[1;32m    149\u001b[0m     \u001b[0;32mtry\u001b[0m\u001b[0;34m:\u001b[0m\u001b[0;34m\u001b[0m\u001b[0;34m\u001b[0m\u001b[0m\n\u001b[0;32m--> 150\u001b[0;31m       \u001b[0;32mreturn\u001b[0m \u001b[0mfn\u001b[0m\u001b[0;34m(\u001b[0m\u001b[0;34m*\u001b[0m\u001b[0margs\u001b[0m\u001b[0;34m,\u001b[0m \u001b[0;34m**\u001b[0m\u001b[0mkwargs\u001b[0m\u001b[0;34m)\u001b[0m\u001b[0;34m\u001b[0m\u001b[0;34m\u001b[0m\u001b[0m\n\u001b[0m\u001b[1;32m    151\u001b[0m     \u001b[0;32mexcept\u001b[0m \u001b[0mException\u001b[0m \u001b[0;32mas\u001b[0m \u001b[0me\u001b[0m\u001b[0;34m:\u001b[0m\u001b[0;34m\u001b[0m\u001b[0;34m\u001b[0m\u001b[0m\n\u001b[1;32m    152\u001b[0m       \u001b[0mfiltered_tb\u001b[0m \u001b[0;34m=\u001b[0m \u001b[0m_process_traceback_frames\u001b[0m\u001b[0;34m(\u001b[0m\u001b[0me\u001b[0m\u001b[0;34m.\u001b[0m\u001b[0m__traceback__\u001b[0m\u001b[0;34m)\u001b[0m\u001b[0;34m\u001b[0m\u001b[0;34m\u001b[0m\u001b[0m\n",
            "\u001b[0;32m/usr/local/lib/python3.7/dist-packages/tensorflow/python/util/dispatch.py\u001b[0m in \u001b[0;36mop_dispatch_handler\u001b[0;34m(*args, **kwargs)\u001b[0m\n\u001b[1;32m   1094\u001b[0m       \u001b[0;31m# Fallback dispatch system (dispatch v1):\u001b[0m\u001b[0;34m\u001b[0m\u001b[0;34m\u001b[0m\u001b[0;34m\u001b[0m\u001b[0m\n\u001b[1;32m   1095\u001b[0m       \u001b[0;32mtry\u001b[0m\u001b[0;34m:\u001b[0m\u001b[0;34m\u001b[0m\u001b[0;34m\u001b[0m\u001b[0m\n\u001b[0;32m-> 1096\u001b[0;31m         \u001b[0;32mreturn\u001b[0m \u001b[0mdispatch_target\u001b[0m\u001b[0;34m(\u001b[0m\u001b[0;34m*\u001b[0m\u001b[0margs\u001b[0m\u001b[0;34m,\u001b[0m \u001b[0;34m**\u001b[0m\u001b[0mkwargs\u001b[0m\u001b[0;34m)\u001b[0m\u001b[0;34m\u001b[0m\u001b[0;34m\u001b[0m\u001b[0m\n\u001b[0m\u001b[1;32m   1097\u001b[0m       \u001b[0;32mexcept\u001b[0m \u001b[0;34m(\u001b[0m\u001b[0mTypeError\u001b[0m\u001b[0;34m,\u001b[0m \u001b[0mValueError\u001b[0m\u001b[0;34m)\u001b[0m\u001b[0;34m:\u001b[0m\u001b[0;34m\u001b[0m\u001b[0;34m\u001b[0m\u001b[0m\n\u001b[1;32m   1098\u001b[0m         \u001b[0;31m# Note: convert_to_eager_tensor currently raises a ValueError, not a\u001b[0m\u001b[0;34m\u001b[0m\u001b[0;34m\u001b[0m\u001b[0;34m\u001b[0m\u001b[0m\n",
            "\u001b[0;32m/usr/local/lib/python3.7/dist-packages/tensorflow/python/ops/array_ops.py\u001b[0m in \u001b[0;36mslice\u001b[0;34m(input_, begin, size, name)\u001b[0m\n\u001b[1;32m   1107\u001b[0m     \u001b[0mA\u001b[0m\u001b[0;31m \u001b[0m\u001b[0;31m`\u001b[0m\u001b[0mTensor\u001b[0m\u001b[0;31m`\u001b[0m \u001b[0mthe\u001b[0m \u001b[0msame\u001b[0m \u001b[0mtype\u001b[0m \u001b[0;32mas\u001b[0m\u001b[0;31m \u001b[0m\u001b[0;31m`\u001b[0m\u001b[0minput_\u001b[0m\u001b[0;31m`\u001b[0m\u001b[0;34m.\u001b[0m\u001b[0;34m\u001b[0m\u001b[0;34m\u001b[0m\u001b[0m\n\u001b[1;32m   1108\u001b[0m   \"\"\"\n\u001b[0;32m-> 1109\u001b[0;31m   \u001b[0;32mreturn\u001b[0m \u001b[0mgen_array_ops\u001b[0m\u001b[0;34m.\u001b[0m\u001b[0m_slice\u001b[0m\u001b[0;34m(\u001b[0m\u001b[0minput_\u001b[0m\u001b[0;34m,\u001b[0m \u001b[0mbegin\u001b[0m\u001b[0;34m,\u001b[0m \u001b[0msize\u001b[0m\u001b[0;34m,\u001b[0m \u001b[0mname\u001b[0m\u001b[0;34m=\u001b[0m\u001b[0mname\u001b[0m\u001b[0;34m)\u001b[0m\u001b[0;34m\u001b[0m\u001b[0;34m\u001b[0m\u001b[0m\n\u001b[0m\u001b[1;32m   1110\u001b[0m \u001b[0;34m\u001b[0m\u001b[0m\n\u001b[1;32m   1111\u001b[0m \u001b[0;34m\u001b[0m\u001b[0m\n",
            "\u001b[0;32m/usr/local/lib/python3.7/dist-packages/tensorflow/python/ops/gen_array_ops.py\u001b[0m in \u001b[0;36m_slice\u001b[0;34m(input, begin, size, name)\u001b[0m\n\u001b[1;32m   9581\u001b[0m   \u001b[0;31m# Add nodes to the TensorFlow graph.\u001b[0m\u001b[0;34m\u001b[0m\u001b[0;34m\u001b[0m\u001b[0;34m\u001b[0m\u001b[0m\n\u001b[1;32m   9582\u001b[0m   _, _, _op, _outputs = _op_def_library._apply_op_helper(\n\u001b[0;32m-> 9583\u001b[0;31m         \"Slice\", input=input, begin=begin, size=size, name=name)\n\u001b[0m\u001b[1;32m   9584\u001b[0m   \u001b[0m_result\u001b[0m \u001b[0;34m=\u001b[0m \u001b[0m_outputs\u001b[0m\u001b[0;34m[\u001b[0m\u001b[0;34m:\u001b[0m\u001b[0;34m]\u001b[0m\u001b[0;34m\u001b[0m\u001b[0;34m\u001b[0m\u001b[0m\n\u001b[1;32m   9585\u001b[0m   \u001b[0;32mif\u001b[0m \u001b[0m_execute\u001b[0m\u001b[0;34m.\u001b[0m\u001b[0mmust_record_gradient\u001b[0m\u001b[0;34m(\u001b[0m\u001b[0;34m)\u001b[0m\u001b[0;34m:\u001b[0m\u001b[0;34m\u001b[0m\u001b[0;34m\u001b[0m\u001b[0m\n",
            "\u001b[0;32m/usr/local/lib/python3.7/dist-packages/tensorflow/python/framework/op_def_library.py\u001b[0m in \u001b[0;36m_apply_op_helper\u001b[0;34m(op_type_name, name, **keywords)\u001b[0m\n\u001b[1;32m    744\u001b[0m       op = g._create_op_internal(op_type_name, inputs, dtypes=None,\n\u001b[1;32m    745\u001b[0m                                  \u001b[0mname\u001b[0m\u001b[0;34m=\u001b[0m\u001b[0mscope\u001b[0m\u001b[0;34m,\u001b[0m \u001b[0minput_types\u001b[0m\u001b[0;34m=\u001b[0m\u001b[0minput_types\u001b[0m\u001b[0;34m,\u001b[0m\u001b[0;34m\u001b[0m\u001b[0;34m\u001b[0m\u001b[0m\n\u001b[0;32m--> 746\u001b[0;31m                                  attrs=attr_protos, op_def=op_def)\n\u001b[0m\u001b[1;32m    747\u001b[0m \u001b[0;34m\u001b[0m\u001b[0m\n\u001b[1;32m    748\u001b[0m     \u001b[0;31m# `outputs` is returned as a separate return value so that the output\u001b[0m\u001b[0;34m\u001b[0m\u001b[0;34m\u001b[0m\u001b[0;34m\u001b[0m\u001b[0m\n",
            "\u001b[0;32m/usr/local/lib/python3.7/dist-packages/tensorflow/python/framework/func_graph.py\u001b[0m in \u001b[0;36m_create_op_internal\u001b[0;34m(self, op_type, inputs, dtypes, input_types, name, attrs, op_def, compute_device)\u001b[0m\n\u001b[1;32m    689\u001b[0m     return super(FuncGraph, self)._create_op_internal(  # pylint: disable=protected-access\n\u001b[1;32m    690\u001b[0m         \u001b[0mop_type\u001b[0m\u001b[0;34m,\u001b[0m \u001b[0mcaptured_inputs\u001b[0m\u001b[0;34m,\u001b[0m \u001b[0mdtypes\u001b[0m\u001b[0;34m,\u001b[0m \u001b[0minput_types\u001b[0m\u001b[0;34m,\u001b[0m \u001b[0mname\u001b[0m\u001b[0;34m,\u001b[0m \u001b[0mattrs\u001b[0m\u001b[0;34m,\u001b[0m \u001b[0mop_def\u001b[0m\u001b[0;34m,\u001b[0m\u001b[0;34m\u001b[0m\u001b[0;34m\u001b[0m\u001b[0m\n\u001b[0;32m--> 691\u001b[0;31m         compute_device)\n\u001b[0m\u001b[1;32m    692\u001b[0m \u001b[0;34m\u001b[0m\u001b[0m\n\u001b[1;32m    693\u001b[0m   \u001b[0;32mdef\u001b[0m \u001b[0mcapture\u001b[0m\u001b[0;34m(\u001b[0m\u001b[0mself\u001b[0m\u001b[0;34m,\u001b[0m \u001b[0mtensor\u001b[0m\u001b[0;34m,\u001b[0m \u001b[0mname\u001b[0m\u001b[0;34m=\u001b[0m\u001b[0;32mNone\u001b[0m\u001b[0;34m,\u001b[0m \u001b[0mshape\u001b[0m\u001b[0;34m=\u001b[0m\u001b[0;32mNone\u001b[0m\u001b[0;34m)\u001b[0m\u001b[0;34m:\u001b[0m\u001b[0;34m\u001b[0m\u001b[0;34m\u001b[0m\u001b[0m\n",
            "\u001b[0;32m/usr/local/lib/python3.7/dist-packages/tensorflow/python/framework/ops.py\u001b[0m in \u001b[0;36m_create_op_internal\u001b[0;34m(self, op_type, inputs, dtypes, input_types, name, attrs, op_def, compute_device)\u001b[0m\n\u001b[1;32m   3703\u001b[0m           \u001b[0minput_types\u001b[0m\u001b[0;34m=\u001b[0m\u001b[0minput_types\u001b[0m\u001b[0;34m,\u001b[0m\u001b[0;34m\u001b[0m\u001b[0;34m\u001b[0m\u001b[0m\n\u001b[1;32m   3704\u001b[0m           \u001b[0moriginal_op\u001b[0m\u001b[0;34m=\u001b[0m\u001b[0mself\u001b[0m\u001b[0;34m.\u001b[0m\u001b[0m_default_original_op\u001b[0m\u001b[0;34m,\u001b[0m\u001b[0;34m\u001b[0m\u001b[0;34m\u001b[0m\u001b[0m\n\u001b[0;32m-> 3705\u001b[0;31m           op_def=op_def)\n\u001b[0m\u001b[1;32m   3706\u001b[0m       \u001b[0mself\u001b[0m\u001b[0;34m.\u001b[0m\u001b[0m_create_op_helper\u001b[0m\u001b[0;34m(\u001b[0m\u001b[0mret\u001b[0m\u001b[0;34m,\u001b[0m \u001b[0mcompute_device\u001b[0m\u001b[0;34m=\u001b[0m\u001b[0mcompute_device\u001b[0m\u001b[0;34m)\u001b[0m\u001b[0;34m\u001b[0m\u001b[0;34m\u001b[0m\u001b[0m\n\u001b[1;32m   3707\u001b[0m     \u001b[0;32mreturn\u001b[0m \u001b[0mret\u001b[0m\u001b[0;34m\u001b[0m\u001b[0;34m\u001b[0m\u001b[0m\n",
            "\u001b[0;32m/usr/local/lib/python3.7/dist-packages/tensorflow/python/framework/ops.py\u001b[0m in \u001b[0;36m__init__\u001b[0;34m(self, node_def, g, inputs, output_types, control_inputs, input_types, original_op, op_def)\u001b[0m\n\u001b[1;32m   2096\u001b[0m         \u001b[0mop_def\u001b[0m \u001b[0;34m=\u001b[0m \u001b[0mself\u001b[0m\u001b[0;34m.\u001b[0m\u001b[0m_graph\u001b[0m\u001b[0;34m.\u001b[0m\u001b[0m_get_op_def\u001b[0m\u001b[0;34m(\u001b[0m\u001b[0mnode_def\u001b[0m\u001b[0;34m.\u001b[0m\u001b[0mop\u001b[0m\u001b[0;34m)\u001b[0m\u001b[0;34m\u001b[0m\u001b[0;34m\u001b[0m\u001b[0m\n\u001b[1;32m   2097\u001b[0m       self._c_op = _create_c_op(self._graph, node_def, inputs,\n\u001b[0;32m-> 2098\u001b[0;31m                                 control_input_ops, op_def)\n\u001b[0m\u001b[1;32m   2099\u001b[0m       \u001b[0mname\u001b[0m \u001b[0;34m=\u001b[0m \u001b[0mcompat\u001b[0m\u001b[0;34m.\u001b[0m\u001b[0mas_str\u001b[0m\u001b[0;34m(\u001b[0m\u001b[0mnode_def\u001b[0m\u001b[0;34m.\u001b[0m\u001b[0mname\u001b[0m\u001b[0;34m)\u001b[0m\u001b[0;34m\u001b[0m\u001b[0;34m\u001b[0m\u001b[0m\n\u001b[1;32m   2100\u001b[0m \u001b[0;34m\u001b[0m\u001b[0m\n",
            "\u001b[0;32m/usr/local/lib/python3.7/dist-packages/tensorflow/python/util/traceback_utils.py\u001b[0m in \u001b[0;36merror_handler\u001b[0;34m(*args, **kwargs)\u001b[0m\n\u001b[1;32m    148\u001b[0m     \u001b[0mfiltered_tb\u001b[0m \u001b[0;34m=\u001b[0m \u001b[0;32mNone\u001b[0m\u001b[0;34m\u001b[0m\u001b[0;34m\u001b[0m\u001b[0m\n\u001b[1;32m    149\u001b[0m     \u001b[0;32mtry\u001b[0m\u001b[0;34m:\u001b[0m\u001b[0;34m\u001b[0m\u001b[0;34m\u001b[0m\u001b[0m\n\u001b[0;32m--> 150\u001b[0;31m       \u001b[0;32mreturn\u001b[0m \u001b[0mfn\u001b[0m\u001b[0;34m(\u001b[0m\u001b[0;34m*\u001b[0m\u001b[0margs\u001b[0m\u001b[0;34m,\u001b[0m \u001b[0;34m**\u001b[0m\u001b[0mkwargs\u001b[0m\u001b[0;34m)\u001b[0m\u001b[0;34m\u001b[0m\u001b[0;34m\u001b[0m\u001b[0m\n\u001b[0m\u001b[1;32m    151\u001b[0m     \u001b[0;32mexcept\u001b[0m \u001b[0mException\u001b[0m \u001b[0;32mas\u001b[0m \u001b[0me\u001b[0m\u001b[0;34m:\u001b[0m\u001b[0;34m\u001b[0m\u001b[0;34m\u001b[0m\u001b[0m\n\u001b[1;32m    152\u001b[0m       \u001b[0mfiltered_tb\u001b[0m \u001b[0;34m=\u001b[0m \u001b[0m_process_traceback_frames\u001b[0m\u001b[0;34m(\u001b[0m\u001b[0me\u001b[0m\u001b[0;34m.\u001b[0m\u001b[0m__traceback__\u001b[0m\u001b[0;34m)\u001b[0m\u001b[0;34m\u001b[0m\u001b[0;34m\u001b[0m\u001b[0m\n",
            "\u001b[0;32m/usr/local/lib/python3.7/dist-packages/tensorflow/python/framework/ops.py\u001b[0m in \u001b[0;36m_create_c_op\u001b[0;34m(graph, node_def, inputs, control_inputs, op_def)\u001b[0m\n\u001b[1;32m   1905\u001b[0m   \u001b[0;31m# TODO(skyewm): op_def_library.apply_op() flattens the incoming inputs.\u001b[0m\u001b[0;34m\u001b[0m\u001b[0;34m\u001b[0m\u001b[0;34m\u001b[0m\u001b[0m\n\u001b[1;32m   1906\u001b[0m   \u001b[0;31m# Refactor so we don't have to do this here.\u001b[0m\u001b[0;34m\u001b[0m\u001b[0;34m\u001b[0m\u001b[0;34m\u001b[0m\u001b[0m\n\u001b[0;32m-> 1907\u001b[0;31m   \u001b[0minputs\u001b[0m \u001b[0;34m=\u001b[0m \u001b[0m_reconstruct_sequence_inputs\u001b[0m\u001b[0;34m(\u001b[0m\u001b[0mop_def\u001b[0m\u001b[0;34m,\u001b[0m \u001b[0minputs\u001b[0m\u001b[0;34m,\u001b[0m \u001b[0mnode_def\u001b[0m\u001b[0;34m.\u001b[0m\u001b[0mattr\u001b[0m\u001b[0;34m)\u001b[0m\u001b[0;34m\u001b[0m\u001b[0;34m\u001b[0m\u001b[0m\n\u001b[0m\u001b[1;32m   1908\u001b[0m   \u001b[0;31m# pylint: disable=protected-access\u001b[0m\u001b[0;34m\u001b[0m\u001b[0;34m\u001b[0m\u001b[0;34m\u001b[0m\u001b[0m\n\u001b[1;32m   1909\u001b[0m   op_desc = pywrap_tf_session.TF_NewOperation(graph._c_graph,\n",
            "\u001b[0;32m/usr/local/lib/python3.7/dist-packages/tensorflow/python/framework/ops.py\u001b[0m in \u001b[0;36m_reconstruct_sequence_inputs\u001b[0;34m(op_def, inputs, attrs)\u001b[0m\n\u001b[1;32m   7156\u001b[0m   \u001b[0mgrouped_inputs\u001b[0m \u001b[0;34m=\u001b[0m \u001b[0;34m[\u001b[0m\u001b[0;34m]\u001b[0m\u001b[0;34m\u001b[0m\u001b[0;34m\u001b[0m\u001b[0m\n\u001b[1;32m   7157\u001b[0m   \u001b[0mi\u001b[0m \u001b[0;34m=\u001b[0m \u001b[0;36m0\u001b[0m\u001b[0;34m\u001b[0m\u001b[0;34m\u001b[0m\u001b[0m\n\u001b[0;32m-> 7158\u001b[0;31m   \u001b[0;32mfor\u001b[0m \u001b[0minput_arg\u001b[0m \u001b[0;32min\u001b[0m \u001b[0mop_def\u001b[0m\u001b[0;34m.\u001b[0m\u001b[0minput_arg\u001b[0m\u001b[0;34m:\u001b[0m\u001b[0;34m\u001b[0m\u001b[0;34m\u001b[0m\u001b[0m\n\u001b[0m\u001b[1;32m   7159\u001b[0m     \u001b[0;32mif\u001b[0m \u001b[0minput_arg\u001b[0m\u001b[0;34m.\u001b[0m\u001b[0mnumber_attr\u001b[0m\u001b[0;34m:\u001b[0m\u001b[0;34m\u001b[0m\u001b[0;34m\u001b[0m\u001b[0m\n\u001b[1;32m   7160\u001b[0m       \u001b[0minput_len\u001b[0m \u001b[0;34m=\u001b[0m \u001b[0mattrs\u001b[0m\u001b[0;34m[\u001b[0m\u001b[0minput_arg\u001b[0m\u001b[0;34m.\u001b[0m\u001b[0mnumber_attr\u001b[0m\u001b[0;34m]\u001b[0m\u001b[0;34m.\u001b[0m\u001b[0mi\u001b[0m\u001b[0;34m\u001b[0m\u001b[0;34m\u001b[0m\u001b[0m\n",
            "\u001b[0;31mKeyboardInterrupt\u001b[0m: "
          ]
        }
      ],
      "source": [
        "optimizer = Adam(0.0002, 0.5)\n",
        "\n",
        "discriminator = build_discriminator()\n",
        "discriminator.compile(loss='binary_crossentropy',\n",
        "                      optimizer=optimizer,\n",
        "                      metrics=['accuracy'])\n",
        "\n",
        "generator = build_generator()\n",
        "generator.compile(loss='binary_crossentropy', optimizer=optimizer)\n",
        "\n",
        "z = Input(shape=(100,))\n",
        "signal = generator(z)\n",
        "\n",
        "discriminator.trainable = False\n",
        "valid = discriminator(signal)\n",
        "\n",
        "combined = Model(z, valid)\n",
        "combined.compile(loss='binary_crossentropy', optimizer=optimizer)\n",
        "\n",
        "# timetaken = timecallback()\n",
        "\n",
        "train(epochs=10000, batch_size=32)\n",
        "generator.save('/gdrive/MyDrive/BMEN_4470_Fall_2021/Final Project/Final_Project_Dataset/generator_model_10K.h5')"
      ]
    },
    {
      "cell_type": "code",
      "execution_count": null,
      "metadata": {
        "id": "ShMdZEJOxitM"
      },
      "outputs": [],
      "source": [
        "from keras.models import load_model\n",
        "\n",
        "noise_to_predict = np.random.normal(0, 1, (32, 100))\n",
        "# Load the model if needed\n",
        "# generator = load_model('/gdrive/MyDrive/BMEN_4470_Fall_2021/Final Project/Final_Project_Dataset/generator_model_10K.h5')\n",
        "\n",
        "# Make a prediction\n",
        "generated_signal = generator.predict(noise_to_predict)\n",
        "print(generated_signal.shape)\n",
        "\n",
        "# Plot the time per epoch needed\n",
        "plt.plot(epoch_times[:])\n",
        "plt.plot(generated_signal[4, 700:750])\n",
        "\n",
        "# Plot the loss values for the discriminator and generator\n",
        "plt.plot(d_loss_list[:])\n",
        "plt.plot(g_loss_list[:])\n",
        "\n",
        "\n",
        "# Get the min difference between discriminator and generator loss values\n",
        "min_loss = 20\n",
        "min_i = 0\n",
        "for i in range(500, 2900):\n",
        "  if min_loss > abs(d_loss_list[i] - g_loss_list[i]):\n",
        "    min_loss = abs(d_loss_list[i] - g_loss_list[i])\n",
        "    min_i = i\n",
        "\n",
        "\n",
        "print(min_loss, min_i)"
      ]
    }
  ],
  "metadata": {
    "accelerator": "GPU",
    "colab": {
      "collapsed_sections": [],
      "name": "BMEN4470_Fall_2021_Final_Project_Amy_George_Mark.ipynb",
      "provenance": []
    },
    "kernelspec": {
      "display_name": "Python 3",
      "name": "python3"
    },
    "language_info": {
      "name": "python"
    }
  },
  "nbformat": 4,
  "nbformat_minor": 0
}